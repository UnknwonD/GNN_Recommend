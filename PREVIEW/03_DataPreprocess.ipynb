{
 "cells": [
  {
   "cell_type": "markdown",
   "metadata": {},
   "source": [
    "# 0. 데이터 로드"
   ]
  },
  {
   "cell_type": "code",
   "execution_count": 2,
   "metadata": {},
   "outputs": [],
   "source": [
    "import pandas as pd\n",
    "import torch\n",
    "from sklearn.preprocessing import LabelEncoder, OneHotEncoder\n",
    "\n",
    "data_path = '../data/VL_csv/'\n",
    "\n",
    "traveller_df = pd.read_csv(data_path + 'tn_traveller_master_여행객 Master_E.csv')\n",
    "visit_df = pd.read_csv(data_path + 'tn_visit_area_info_방문지정보_E.csv')\n",
    "move_df = pd.read_csv(data_path + 'tn_move_his_이동내역_E.csv')\n",
    "# poi_df = pd.read_csv(data_path +'tn_poi_master_POIMaster_all.csv')"
   ]
  },
  {
   "cell_type": "markdown",
   "metadata": {},
   "source": [
    "# 1. 노드 ID 및 속성 구성"
   ]
  },
  {
   "cell_type": "code",
   "execution_count": null,
   "metadata": {},
   "outputs": [],
   "source": [
    "# 1. USER 노드\n",
    "user_nodes = traveller_df[['TRAVELER_ID', 'AGE_GRP', 'RESIDENCE_SGG_CD', 'GENDER']]\n",
    "user_nodes['USER_ID'] = LabelEncoder().fit_transform(user_nodes['TRAVELER_ID'])\n",
    "\n",
    "user_features = pd.get_dummies(user_nodes[['AGE_GRP', 'RESIDENCE_SGG_CD', 'GENDER']])\n",
    "user_x = torch.tensor(user_features.values, dtype=torch.float)"
   ]
  },
  {
   "cell_type": "code",
   "execution_count": null,
   "metadata": {},
   "outputs": [],
   "source": [
    "# 2. VISIT_AREA 노드\n",
    "visit_nodes = visit_df[['VISIT_AREA_ID', 'X_COORD', 'Y_COORD', 'VISIT_AREA_TYPE_CD']]\n",
    "visit_nodes['VISIT_AREA_ID'] = visit_nodes['VISIT_AREA_ID'].astype(str)\n",
    "visit_nodes['VISIT_ID'] = LabelEncoder().fit_transform(visit_nodes['VISIT_AREA_ID'])\n",
    "\n",
    "visit_features = pd.get_dummies(visit_nodes[['VISIT_AREA_TYPE_CD']])\n",
    "visit_x = torch.tensor(visit_features.values, dtype=torch.float)"
   ]
  },
  {
   "cell_type": "code",
   "execution_count": null,
   "metadata": {},
   "outputs": [],
   "source": [
    "# 3. POI 노드\n",
    "poi_nodes = poi_df[['POI_ID', 'X_COORD', 'Y_COORD']]\n",
    "poi_nodes['POI_ID'] = poi_nodes['POI_ID'].astype(str)\n",
    "poi_nodes['POI_NODE_ID'] = LabelEncoder().fit_transform(poi_nodes['POI_ID'])\n",
    "\n",
    "poi_x = torch.tensor(poi_nodes[['X_COORD', 'Y_COORD']].values, dtype=torch.float)"
   ]
  },
  {
   "cell_type": "markdown",
   "metadata": {},
   "source": [
    "# 2. 엣지 생성 (장소간 이동)"
   ]
  },
  {
   "cell_type": "code",
   "execution_count": null,
   "metadata": {},
   "outputs": [],
   "source": [
    "# 이동 데이터에서 엣지 추출\n",
    "move_df = move_df.dropna(subset=['START_VISIT_AREA_ID', 'END_VISIT_AREA_ID'])\n",
    "move_df['START'] = LabelEncoder().fit_transform(move_df['START_VISIT_AREA_ID'].astype(str))\n",
    "move_df['END'] = LabelEncoder().fit_transform(move_df['END_VISIT_AREA_ID'].astype(str))\n",
    "\n",
    "# 이동수단 코드 기반으로 엣지 나누기\n",
    "edge_index_dict = {}\n",
    "for move_type in move_df['MVMN_CD_1'].unique():\n",
    "    filtered = move_df[move_df['MVMN_CD_1'] == move_type]\n",
    "    edge_index = torch.tensor([filtered['START'].values, filtered['END'].values], dtype=torch.long)\n",
    "    \n",
    "    edge_index_dict[('visit_area', f'move_{move_type}', 'visit_area')] = edge_index\n"
   ]
  },
  {
   "cell_type": "markdown",
   "metadata": {},
   "source": [
    "# 3. HeteroData 객체 조립"
   ]
  },
  {
   "cell_type": "code",
   "execution_count": null,
   "metadata": {},
   "outputs": [],
   "source": [
    "from torch_geometric.data import HeteroData\n",
    "\n",
    "data = HeteroData()\n",
    "\n",
    "# 노드 추가\n",
    "data['user'].x = user_x\n",
    "data['visit_area'].x = visit_x\n",
    "data['poi'].x = poi_x\n",
    "\n",
    "# 엣지 추가\n",
    "for k, v in edge_index_dict.items():\n",
    "    data[k].edge_index = v"
   ]
  }
 ],
 "metadata": {
  "kernelspec": {
   "display_name": "llm",
   "language": "python",
   "name": "python3"
  },
  "language_info": {
   "codemirror_mode": {
    "name": "ipython",
    "version": 3
   },
   "file_extension": ".py",
   "mimetype": "text/x-python",
   "name": "python",
   "nbconvert_exporter": "python",
   "pygments_lexer": "ipython3",
   "version": "3.10.13"
  }
 },
 "nbformat": 4,
 "nbformat_minor": 2
}
