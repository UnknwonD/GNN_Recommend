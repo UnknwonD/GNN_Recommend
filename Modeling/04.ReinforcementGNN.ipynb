{
 "cells": [
  {
   "cell_type": "markdown",
   "metadata": {},
   "source": [
    "# GNN + Human Feedback (REINFORCE 방식) 추천 시스템 개발\n",
    "\n",
    "# 1. 라이브러리 임포트"
   ]
  },
  {
   "cell_type": "code",
   "execution_count": 59,
   "metadata": {},
   "outputs": [],
   "source": [
    "import os\n",
    "\n",
    "import torch\n",
    "import torch.nn as nn\n",
    "import torch.nn.functional as F\n",
    "import numpy as np\n",
    "import pandas as pd\n",
    "from torch_geometric.data import HeteroData\n",
    "from torch_geometric.nn import HANConv"
   ]
  },
  {
   "cell_type": "markdown",
   "metadata": {},
   "source": [
    "# 2. GNN 모델 정의"
   ]
  },
  {
   "cell_type": "code",
   "execution_count": 60,
   "metadata": {},
   "outputs": [],
   "source": [
    "class HANPolicyRecommender(nn.Module):\n",
    "    def __init__(self, metadata, hidden_dim=64):\n",
    "        super().__init__()\n",
    "        self.han_conv = HANConv(-1, hidden_dim, metadata=metadata, heads=2)\n",
    "        self.policy_head = nn.Linear(hidden_dim, 1)  # 추천 확률 출력\n",
    "\n",
    "    def forward(self, x_dict, edge_index_dict):\n",
    "        x_dict = self.han_conv(x_dict, edge_index_dict)\n",
    "        return self.policy_head(x_dict['visit_area']).squeeze(-1)"
   ]
  },
  {
   "cell_type": "markdown",
   "metadata": {},
   "source": [
    "# 3. 데이터 구성"
   ]
  },
  {
   "cell_type": "code",
   "execution_count": 61,
   "metadata": {},
   "outputs": [],
   "source": [
    "data_path = \"../data/\"\n",
    "\n",
    "def load_tensor(name):\n",
    "    return torch.tensor(np.load(os.path.join(data_path, name)), dtype=torch.float if 'features' in name else torch.long)\n",
    "\n",
    "user_x = load_tensor(\"user_features.npy\")\n",
    "travel_x = load_tensor(\"travel_features.npy\")\n",
    "visit_x = load_tensor(\"visit_features.npy\")\n",
    "edge_user_travel = load_tensor(\"edge_user_to_travel.npy\")\n",
    "edge_travel_visit = load_tensor(\"edge_travel_to_visit.npy\")"
   ]
  },
  {
   "cell_type": "markdown",
   "metadata": {},
   "source": [
    "## 3-1. HeteroData 구성"
   ]
  },
  {
   "cell_type": "code",
   "execution_count": 62,
   "metadata": {},
   "outputs": [],
   "source": [
    "hetero_data = HeteroData()\n",
    "hetero_data['user'].x = user_x\n",
    "hetero_data['travel'].x = travel_x\n",
    "hetero_data['visit_area'].x = visit_x\n",
    "hetero_data[('user', 'traveled', 'travel')].edge_index = edge_user_travel\n",
    "hetero_data[('travel', 'contains', 'visit_area')].edge_index = edge_travel_visit"
   ]
  },
  {
   "cell_type": "code",
   "execution_count": 63,
   "metadata": {},
   "outputs": [
    {
     "data": {
      "text/plain": [
       "(['user', 'travel', 'visit_area'],\n",
       " [('user', 'traveled', 'travel'),\n",
       "  ('travel', 'contains', 'visit_area'),\n",
       "  ('visit_area', 'move_1', 'visit_area'),\n",
       "  ('visit_area', 'move_2', 'visit_area'),\n",
       "  ('visit_area', 'move_3', 'visit_area'),\n",
       "  ('visit_area', 'move_6', 'visit_area'),\n",
       "  ('visit_area', 'move_4', 'visit_area'),\n",
       "  ('visit_area', 'move_5', 'visit_area')])"
      ]
     },
     "execution_count": 63,
     "metadata": {},
     "output_type": "execute_result"
    }
   ],
   "source": [
    "for fname in os.listdir(data_path):\n",
    "    if fname.startswith(\"edge_visit_move_\") and fname.endswith(\".npy\"):\n",
    "        move_type = fname.replace(\"edge_visit_move_\", \"\").replace(\".npy\", \"\")\n",
    "        edge_index = load_tensor(fname)\n",
    "        hetero_data[('visit_area', f'move_{move_type}', 'visit_area')].edge_index = edge_index\n",
    "\n",
    "metadata = hetero_data.metadata()\n",
    "metadata"
   ]
  },
  {
   "cell_type": "markdown",
   "metadata": {},
   "source": [
    "# 4. 모델, 옵티마이저 초기화"
   ]
  },
  {
   "cell_type": "code",
   "execution_count": 64,
   "metadata": {},
   "outputs": [],
   "source": [
    "model = HANPolicyRecommender(metadata)\n",
    "optimizer = torch.optim.Adam(model.parameters(), lr=1e-3)"
   ]
  },
  {
   "cell_type": "markdown",
   "metadata": {},
   "source": [
    "# 5. GNN 출력 → softmax 확률 변환 → 샘플링"
   ]
  },
  {
   "cell_type": "code",
   "execution_count": 65,
   "metadata": {},
   "outputs": [
    {
     "name": "stdout",
     "output_type": "stream",
     "text": [
      "[정책 이전] 추천 Top-5 장소 index: [1509, 1510, 1512, 1511, 1508]\n"
     ]
    }
   ],
   "source": [
    "model.eval()\n",
    "with torch.no_grad():\n",
    "    logits_before = model(hetero_data.x_dict, hetero_data.edge_index_dict)\n",
    "    temperature = 2.0  # softmax 분포를 완화하기 위한 온도 파라미터\n",
    "    probs_before = F.softmax(logits_before / temperature, dim=0)\n",
    "    top_before = torch.topk(probs_before, k=5)\n",
    "    print(\"[정책 이전] 추천 Top-5 장소 index:\", top_before.indices.tolist())"
   ]
  },
  {
   "cell_type": "code",
   "execution_count": 66,
   "metadata": {},
   "outputs": [
    {
     "name": "stdout",
     "output_type": "stream",
     "text": [
      "싫다고 한 것 :  [1512]\n"
     ]
    }
   ],
   "source": [
    "feedback_indices = top_before.indices.tolist()[2:3]  # 유저가 싫어한 추천 장소 인덱스\n",
    "reward = -1.0  # 부정적 피드백\n",
    "\n",
    "print(\"싫다고 한 것 : \", feedback_indices)"
   ]
  },
  {
   "cell_type": "code",
   "execution_count": 67,
   "metadata": {},
   "outputs": [],
   "source": [
    "for idx in feedback_indices:\n",
    "    for step in range(10):\n",
    "        model.train()\n",
    "        optimizer.zero_grad()\n",
    "        logits = model(hetero_data.x_dict, hetero_data.edge_index_dict)\n",
    "        probs = F.softmax(logits / temperature, dim=0)\n",
    "        log_prob = torch.log(probs[idx])\n",
    "        loss = -log_prob * reward\n",
    "        loss.backward()\n",
    "        optimizer.step()"
   ]
  },
  {
   "cell_type": "markdown",
   "metadata": {},
   "source": [
    "# 6. REINFORCE 손실 계산 후 파라미터 업데이트"
   ]
  },
  {
   "cell_type": "code",
   "execution_count": 68,
   "metadata": {},
   "outputs": [
    {
     "name": "stdout",
     "output_type": "stream",
     "text": [
      "[정책 이후] 추천 Top-5 장소 index: [850, 974, 866, 1040, 689]\n",
      "보상 (reward): -1.0\n",
      "REINFORCE loss: -9.6439\n"
     ]
    }
   ],
   "source": [
    "model.eval()\n",
    "with torch.no_grad():\n",
    "    logits_after = model(hetero_data.x_dict, hetero_data.edge_index_dict)\n",
    "    probs_after = F.softmax(logits_after / temperature, dim=0)\n",
    "    top_after = torch.topk(probs_after, k=5)\n",
    "    \n",
    "print(\"[정책 이후] 추천 Top-5 장소 index:\", top_after.indices.tolist())\n",
    "print(\"보상 (reward):\", reward)\n",
    "print(\"REINFORCE loss:\", round(loss.item(), 4))"
   ]
  },
  {
   "cell_type": "markdown",
   "metadata": {},
   "source": [
    "# 7.추천 확률 분포 시각화"
   ]
  },
  {
   "cell_type": "code",
   "execution_count": 69,
   "metadata": {},
   "outputs": [
    {
     "data": {
      "image/png": "[encoded data removed]",
      "text/plain": [
       "<Figure size 1000x500 with 1 Axes>"
      ]
     },
     "metadata": {},
     "output_type": "display_data"
    }
   ],
   "source": [
    "import matplotlib.pyplot as plt\n",
    "\n",
    "indices = top_after.indices.tolist()\n",
    "labels = [f\"{i}\" for i in indices]\n",
    "before_vals = [probs_before[i].item() for i in indices]\n",
    "after_vals = [probs_after[i].item() for i in indices]\n",
    "\n",
    "x = np.arange(len(labels))\n",
    "width = 0.35\n",
    "\n",
    "fig, ax = plt.subplots(figsize=(10, 5))\n",
    "ax.bar(x - width/2, before_vals, width, label='Before')\n",
    "ax.bar(x + width/2, after_vals, width, label='After')\n",
    "\n",
    "ax.set_ylabel('Sampling Probability')  # Y축: 샘플링 확률\n",
    "ax.set_title('Top-5 Recommendation Probability Change')\n",
    "ax.set_xticks(x)\n",
    "ax.set_xticklabels(labels)\n",
    "ax.legend()  # 범례 표시\n",
    "plt.grid(True)\n",
    "plt.tight_layout()\n",
    "plt.show()"
   ]
  }
 ],
 "metadata": {
  "kernelspec": {
   "display_name": "llm",
   "language": "python",
   "name": "python3"
  },
  "language_info": {
   "codemirror_mode": {
    "name": "ipython",
    "version": 3
   },
   "file_extension": ".py",
   "mimetype": "text/x-python",
   "name": "python",
   "nbconvert_exporter": "python",
   "pygments_lexer": "ipython3",
   "version": "3.10.13"
  }
 },
 "nbformat": 4,
 "nbformat_minor": 2
}
