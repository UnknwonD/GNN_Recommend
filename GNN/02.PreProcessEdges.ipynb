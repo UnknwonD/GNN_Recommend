{
 "cells": [
  {
   "cell_type": "code",
   "execution_count": null,
   "metadata": {},
   "outputs": [],
   "source": [
    "import numpy as np\n",
    "import pandas as pd\n",
    "from collections import defaultdict"
   ]
  },
  {
   "cell_type": "markdown",
   "metadata": {},
   "source": [
    "## user → travel 엣지\n",
    "\n",
    "* `edge_index_user_to_travel[0]`: 출발 노드 (user)\n",
    "* `edge_index_user_to_travel[1]`: 도착 노드 (travel)\n",
    "\n",
    "---\n",
    "### 사용 방식\n",
    "\n",
    "\n",
    "```python\n",
    "data[('user', 'traveled', 'travel')].edge_index = torch.tensor(edge_index_user_to_travel, dtype=torch.long)\n",
    "```"
   ]
  },
  {
   "cell_type": "code",
   "execution_count": null,
   "metadata": {},
   "outputs": [
    {
     "name": "stdout",
     "output_type": "stream",
     "text": [
      "Edge shape: (2, 320)\n",
      "Edge index 예시:\n",
      " [[0 1 2 3 4]\n",
      " [0 1 2 3 4]]\n"
     ]
    }
   ],
   "source": [
    "# travel 데이터 로드\n",
    "travel_df = pd.read_csv(\"../data/VL_csv/tn_travel_여행_E_COST_cleaned.csv\")\n",
    "\n",
    "# user → travel 관계 추출\n",
    "user_travel_edges = travel_df[['TRAVELER_ID', 'TRAVEL_ID']].copy()\n",
    "\n",
    "# 고유 ID 추출\n",
    "unique_user_ids = user_travel_edges['TRAVELER_ID'].unique()\n",
    "unique_travel_ids = user_travel_edges['TRAVEL_ID'].unique()\n",
    "\n",
    "# ID to index 매핑\n",
    "user_id_map = {id_: i for i, id_ in enumerate(unique_user_ids)}\n",
    "travel_id_map = {id_: i for i, id_ in enumerate(unique_travel_ids)}\n",
    "\n",
    "# 인덱스로 매핑\n",
    "user_indices = user_travel_edges['TRAVELER_ID'].map(user_id_map).values\n",
    "travel_indices = user_travel_edges['TRAVEL_ID'].map(travel_id_map).values\n",
    "\n",
    "# PyG용 edge_index (2, N) 형태\n",
    "edge_index_user_to_travel = np.vstack([user_indices, travel_indices])\n",
    "\n",
    "print(\"Edge shape:\", edge_index_user_to_travel.shape)\n",
    "print(\"Edge index 예시:\\n\", edge_index_user_to_travel[:, :5])\n"
   ]
  },
  {
   "cell_type": "markdown",
   "metadata": {},
   "source": [
    "## 이동수단 엣지\n",
    "\n",
    "| 이동수단 코드     | 엣지 수   |\n",
    "| ----------- | ------ |\n",
    "| 1 (자차 등)    | 787    |\n",
    "| 15 (시내버스 등) | 803    |\n",
    "| 5, 12, 13 등 | 다양     |\n",
    "| 총 코드 수      | 13개 종류 |\n",
    "\n",
    "### 사용방식\n",
    "\n",
    "```python\n",
    "from torch_geometric.data import HeteroData\n",
    "import torch\n",
    "\n",
    "data = HeteroData()\n",
    "\n",
    "for move_type, edge_index_np in edge_index_move_by_type.items():\n",
    "    edge_type = ('visit_area', f'move_{move_type}', 'visit_area')\n",
    "    data[edge_type].edge_index = torch.tensor(edge_index_np, dtype=torch.long)\n",
    "```\n",
    "\n",
    "---"
   ]
  },
  {
   "cell_type": "code",
   "execution_count": 7,
   "metadata": {},
   "outputs": [],
   "source": [
    "move_df = pd.read_csv(\"../data/VL_csv/tn_move_his_이동내역_E.csv\")"
   ]
  },
  {
   "cell_type": "code",
   "execution_count": 8,
   "metadata": {},
   "outputs": [
    {
     "data": {
      "text/html": [
       "<div>\n",
       "<style scoped>\n",
       "    .dataframe tbody tr th:only-of-type {\n",
       "        vertical-align: middle;\n",
       "    }\n",
       "\n",
       "    .dataframe tbody tr th {\n",
       "        vertical-align: top;\n",
       "    }\n",
       "\n",
       "    .dataframe thead th {\n",
       "        text-align: right;\n",
       "    }\n",
       "</style>\n",
       "<table border=\"1\" class=\"dataframe\">\n",
       "  <thead>\n",
       "    <tr style=\"text-align: right;\">\n",
       "      <th></th>\n",
       "      <th>0</th>\n",
       "      <th>1</th>\n",
       "      <th>2</th>\n",
       "    </tr>\n",
       "  </thead>\n",
       "  <tbody>\n",
       "    <tr>\n",
       "      <th>TRAVEL_ID</th>\n",
       "      <td>e_e000008</td>\n",
       "      <td>e_e000008</td>\n",
       "      <td>e_e000008</td>\n",
       "    </tr>\n",
       "    <tr>\n",
       "      <th>TRIP_ID</th>\n",
       "      <td>2304290001</td>\n",
       "      <td>2304290002</td>\n",
       "      <td>2304290003</td>\n",
       "    </tr>\n",
       "    <tr>\n",
       "      <th>START_VISIT_AREA_ID</th>\n",
       "      <td>2304290001.0</td>\n",
       "      <td>NaN</td>\n",
       "      <td>NaN</td>\n",
       "    </tr>\n",
       "    <tr>\n",
       "      <th>END_VISIT_AREA_ID</th>\n",
       "      <td>NaN</td>\n",
       "      <td>2304290002.0</td>\n",
       "      <td>2304290003.0</td>\n",
       "    </tr>\n",
       "    <tr>\n",
       "      <th>START_DT_MIN</th>\n",
       "      <td>2023-04-29 15:00</td>\n",
       "      <td>NaN</td>\n",
       "      <td>NaN</td>\n",
       "    </tr>\n",
       "    <tr>\n",
       "      <th>END_DT_MIN</th>\n",
       "      <td>NaN</td>\n",
       "      <td>2023-04-29 20:00</td>\n",
       "      <td>2023-04-29 15:30</td>\n",
       "    </tr>\n",
       "    <tr>\n",
       "      <th>MVMN_CD_1</th>\n",
       "      <td>NaN</td>\n",
       "      <td>1.0</td>\n",
       "      <td>1.0</td>\n",
       "    </tr>\n",
       "    <tr>\n",
       "      <th>MVMN_CD_2</th>\n",
       "      <td>NaN</td>\n",
       "      <td>1.0</td>\n",
       "      <td>1.0</td>\n",
       "    </tr>\n",
       "  </tbody>\n",
       "</table>\n",
       "</div>"
      ],
      "text/plain": [
       "                                    0                 1                 2\n",
       "TRAVEL_ID                   e_e000008         e_e000008         e_e000008\n",
       "TRIP_ID                    2304290001        2304290002        2304290003\n",
       "START_VISIT_AREA_ID      2304290001.0               NaN               NaN\n",
       "END_VISIT_AREA_ID                 NaN      2304290002.0      2304290003.0\n",
       "START_DT_MIN         2023-04-29 15:00               NaN               NaN\n",
       "END_DT_MIN                        NaN  2023-04-29 20:00  2023-04-29 15:30\n",
       "MVMN_CD_1                         NaN               1.0               1.0\n",
       "MVMN_CD_2                         NaN               1.0               1.0"
      ]
     },
     "execution_count": 8,
     "metadata": {},
     "output_type": "execute_result"
    }
   ],
   "source": [
    "move_df.head(3).T"
   ]
  },
  {
   "cell_type": "code",
   "execution_count": null,
   "metadata": {},
   "outputs": [
    {
     "data": {
      "text/plain": [
       "[(1, (2, 722)),\n",
       " (6, (2, 3)),\n",
       " (4, (2, 37)),\n",
       " (15, (2, 816)),\n",
       " (13, (2, 129)),\n",
       " (5, (2, 230)),\n",
       " (12, (2, 48)),\n",
       " (2, (2, 28)),\n",
       " (14, (2, 6)),\n",
       " (8, (2, 15)),\n",
       " (7, (2, 27)),\n",
       " (10, (2, 4)),\n",
       " (9, (2, 2)),\n",
       " (16, (2, 11))]"
      ]
     },
     "execution_count": 11,
     "metadata": {},
     "output_type": "execute_result"
    }
   ],
   "source": [
    "# visit_area ID 목록 확보 및 매핑 재구성\n",
    "visit_df = pd.read_csv(\"../data/VL_csv/tn_visit_area_info_방문지정보_E.csv\")\n",
    "unique_visit_ids = visit_df['VISIT_AREA_ID'].dropna().unique()\n",
    "visit_id_map = {id_: i for i, id_ in enumerate(unique_visit_ids)}\n",
    "\n",
    "# 이동내역 정제\n",
    "move_df = move_df[['TRAVEL_ID', 'START_VISIT_AREA_ID', 'END_VISIT_AREA_ID', 'MVMN_CD_1']].copy()\n",
    "move_df = move_df.dropna(subset=['TRAVEL_ID'])\n",
    "\n",
    "# 엣지 저장 딕셔너리 초기화\n",
    "move_edge_dict = defaultdict(list)\n",
    "\n",
    "# travel_id 단위로 그룹핑\n",
    "for travel_id, group in move_df.groupby('TRAVEL_ID'):\n",
    "    group = group.sort_values(by='END_VISIT_AREA_ID')\n",
    "\n",
    "    path = []\n",
    "\n",
    "    # 첫 시작점\n",
    "    start = group.iloc[0]['START_VISIT_AREA_ID'] if pd.notna(group.iloc[0]['START_VISIT_AREA_ID']) else None\n",
    "    if start is not None:\n",
    "        path.append((start, group.iloc[0]['MVMN_CD_1']))\n",
    "\n",
    "    for _, row in group.iterrows():\n",
    "        if pd.notna(row['END_VISIT_AREA_ID']):\n",
    "            path.append((row['END_VISIT_AREA_ID'], row['MVMN_CD_1']))\n",
    "\n",
    "    # 연속 방문지 간 엣지 생성\n",
    "    for (src, src_mv), (dst, _) in zip(path[:-1], path[1:]):\n",
    "        if src in visit_id_map and dst in visit_id_map and pd.notna(src_mv):\n",
    "            s = visit_id_map[src]\n",
    "            d = visit_id_map[dst]\n",
    "            t = int(src_mv)\n",
    "            move_edge_dict[t].append((s, d))\n",
    "\n",
    "# 이동수단별 edge_index 구성\n",
    "edge_index_move_by_type = {\n",
    "    move_type: np.array(edge_list).T\n",
    "    for move_type, edge_list in move_edge_dict.items() if len(edge_list) > 0\n",
    "}\n",
    "\n",
    "# 결과 확인\n",
    "[(k, v.shape) for k, v in edge_index_move_by_type.items()]\n"
   ]
  },
  {
   "cell_type": "markdown",
   "metadata": {},
   "source": [
    "## travel → visit_area 엣지 생성"
   ]
  },
  {
   "cell_type": "code",
   "execution_count": 19,
   "metadata": {},
   "outputs": [],
   "source": [
    "# 고유 TRAVEL_ID 및 VISIT_AREA_ID 매핑\n",
    "unique_travel_ids = travel_df['TRAVEL_ID'].dropna().unique()\n",
    "unique_visit_ids = visit_df['VISIT_AREA_ID'].dropna().unique()\n",
    "\n",
    "travel_id_map = {id_: i for i, id_ in enumerate(unique_travel_ids)}\n",
    "visit_id_map = {id_: i for i, id_ in enumerate(unique_visit_ids)}\n",
    "\n",
    "# travel → visit_area 엣지 구성\n",
    "edges = visit_df[['TRAVEL_ID', 'VISIT_AREA_ID']].dropna()\n",
    "travel_indices = edges['TRAVEL_ID'].map(travel_id_map)\n",
    "visit_indices = edges['VISIT_AREA_ID'].map(visit_id_map)\n",
    "\n",
    "# 유효한 인덱스만 필터링\n",
    "mask = travel_indices.notna() & visit_indices.notna()\n",
    "edge_index_travel_to_visit = np.vstack([\n",
    "    travel_indices[mask].astype(int).values,\n",
    "    visit_indices[mask].astype(int).values\n",
    "])\n"
   ]
  },
  {
   "cell_type": "markdown",
   "metadata": {},
   "source": [
    "# 데이터 저장"
   ]
  },
  {
   "cell_type": "code",
   "execution_count": 22,
   "metadata": {},
   "outputs": [],
   "source": [
    "import numpy as np\n",
    "import os\n",
    "\n",
    "save_path = \"../data/\"  # 또는 로컬 경로로 변경\n",
    "\n",
    "# 1. user → travel\n",
    "np.save(os.path.join(save_path, \"edge_user_to_travel.npy\"), edge_index_user_to_travel)\n",
    "\n",
    "# 2. travel → visit_area\n",
    "np.save(os.path.join(save_path, \"edge_travel_to_visit.npy\"), edge_index_travel_to_visit)\n",
    "\n",
    "# 3. visit_area → visit_area (이동수단별)\n",
    "for move_type, edge_index in edge_index_move_by_type.items():\n",
    "    fname = f\"edge_visit_move_{move_type}.npy\"\n",
    "    np.save(os.path.join(save_path, fname), edge_index)\n"
   ]
  }
 ],
 "metadata": {
  "kernelspec": {
   "display_name": "llm",
   "language": "python",
   "name": "python3"
  },
  "language_info": {
   "codemirror_mode": {
    "name": "ipython",
    "version": 3
   },
   "file_extension": ".py",
   "mimetype": "text/x-python",
   "name": "python",
   "nbconvert_exporter": "python",
   "pygments_lexer": "ipython3",
   "version": "3.10.13"
  }
 },
 "nbformat": 4,
 "nbformat_minor": 2
}
