{
 "cells": [
  {
   "cell_type": "code",
   "execution_count": 2,
   "metadata": {},
   "outputs": [],
   "source": [
    "import pandas as pd"
   ]
  },
  {
   "cell_type": "code",
   "execution_count": 5,
   "metadata": {},
   "outputs": [],
   "source": [
    "# 주요 파일 경로\n",
    "move_path = \"../data/VL_csv/tn_move_his_이동내역_Cleaned_E.csv\"\n",
    "visit_area_path = \"../data/VL_csv/tn_visit_area_info_방문지정보_Cleaned_E.csv\"\n",
    "photo_path = \"../data/VL_csv/tn_tour_photo_관광사진_E.csv\"\n",
    "\n",
    "# 데이터 로딩\n",
    "move_df = pd.read_csv(move_path)\n",
    "photo_df = pd.read_csv(photo_path)\n",
    "visit_area_df = pd.read_csv(visit_area_path)"
   ]
  },
  {
   "cell_type": "code",
   "execution_count": 7,
   "metadata": {},
   "outputs": [
    {
     "data": {
      "text/plain": [
       "{'visit_area_df_shape': (21384, 24),\n",
       " 'move_df_shape': (21384, 12),\n",
       " 'photo_df_shape': (14627, 13),\n",
       " 'sample_visit_area_df': {'VISIT_AREA_ID': {0: 2304300001, 1: 2304300002},\n",
       "  'TRAVEL_ID': {0: 'e_e000004', 1: 'e_e000004'},\n",
       "  'VISIT_ORDER': {0: 1, 1: 2},\n",
       "  'VISIT_AREA_NM': {0: '집', 1: '화성 관광열차 안내소 연무대 매표소'},\n",
       "  'VISIT_START_YMD': {0: '2023-04-30', 1: '2023-04-30'},\n",
       "  'VISIT_END_YMD': {0: '2023-04-30', 1: '2023-04-30'},\n",
       "  'ROAD_NM_ADDR': {0: nan, 1: '경기 수원시 팔달구 창룡대로103번길 20'},\n",
       "  'LOTNO_ADDR': {0: nan, 1: '경기 수원시 팔달구 매향동 3-32'},\n",
       "  'X_COORD': {0: nan, 1: 127.0233392},\n",
       "  'Y_COORD': {0: nan, 1: 37.2878779},\n",
       "  'ROAD_NM_CD': {0: nan, 1: nan},\n",
       "  'LOTNO_CD': {0: nan, 1: nan},\n",
       "  'POI_ID': {0: nan, 1: 'POI01000000ALZU7R'},\n",
       "  'POI_NM': {0: nan, 1: '동대문종합시장 악세서리부자재시장'},\n",
       "  'RESIDENCE_TIME_MIN': {0: nan, 1: 60.0},\n",
       "  'VISIT_AREA_TYPE_CD': {0: 21, 1: 2},\n",
       "  'REVISIT_YN': {0: nan, 1: 'N'},\n",
       "  'VISIT_CHC_REASON_CD': {0: nan, 1: 10.0},\n",
       "  'LODGING_TYPE_CD': {0: nan, 1: nan},\n",
       "  'DGSTFN': {0: nan, 1: 4.0},\n",
       "  'REVISIT_INTENTION': {0: nan, 1: 3.0},\n",
       "  'RCMDTN_INTENTION': {0: nan, 1: 4.0},\n",
       "  'SGG_CD': {0: 4159011800.0, 1: nan},\n",
       "  'NEW_VISIT_AREA_ID': {0: 0, 1: 1}},\n",
       " 'sample_move_df': {'TRAVEL_ID': {0: 'e_e000004', 1: 'e_e000004'},\n",
       "  'TRIP_ID': {0: 2304300001, 1: 2304300002},\n",
       "  'START_VISIT_AREA_ID': {0: 2304300001.0, 1: nan},\n",
       "  'END_VISIT_AREA_ID': {0: nan, 1: 2304300002.0},\n",
       "  'START_DT_MIN': {0: '2023-04-30 13:30', 1: nan},\n",
       "  'END_DT_MIN': {0: nan, 1: '2023-04-30 14:00'},\n",
       "  'MVMN_CD_1': {0: nan, 1: 1.0},\n",
       "  'MVMN_CD_2': {0: nan, 1: nan},\n",
       "  'START_VISIT_AREA_NM': {0: '동탄 호수 자이 파밀리에 아파트', 1: nan},\n",
       "  'END_VISIT_AREA_NM': {0: nan, 1: '맥도날드'},\n",
       "  'START_NEW_ID': {0: 9837.0, 1: nan},\n",
       "  'END_NEW_ID': {0: nan, 1: 9838.0}},\n",
       " 'sample_photo_df': {'TRAVEL_ID': {0: 'e_e006895', 1: 'e_e001026'},\n",
       "  'VISIT_AREA_ID': {0: 2308120004, 1: 2306040006},\n",
       "  'TOUR_PHOTO_SEQ': {0: 0, 1: 0},\n",
       "  'PHOTO_FILE_ID': {0: 'e00689501003p0001', 1: 'e00102601006p0001'},\n",
       "  'PHOTO_FILE_NM': {0: 'e00689501003p0001.jpg', 1: 'e00102601006p0001.jpg'},\n",
       "  'PHOTO_FILE_FRMAT': {0: 'jpg', 1: 'jpg'},\n",
       "  'PHOTO_FILE_DT': {0: '2023-08-12 14:33:11', 1: '2023-06-04 18:48:38'},\n",
       "  'PHOTO_FILE_SAVE_PATH': {0: '/photo/', 1: '/photo/'},\n",
       "  'PHOTO_FILE_RESOLUTION': {0: '3024x3024', 1: '3024x4032'},\n",
       "  'PHOTO_FILE_X_COORD': {0: 127.32653009972, 1: 127.3051879},\n",
       "  'PHOTO_FILE_Y_COORD': {0: 37.543517899722, 1: 37.33883},\n",
       "  'VISIT_AREA_NM': {0: '연밭', 1: '곤지암 웅골'},\n",
       "  'NEW_VISIT_AREA_ID': {0: 7858.0, 1: 1869.0}}}"
      ]
     },
     "execution_count": 7,
     "metadata": {},
     "output_type": "execute_result"
    }
   ],
   "source": [
    "# visit_area_df의 visit_area_nm 기반으로 새로운 고유 ID 부여\n",
    "unique_visit_area_nms = visit_area_df[\"VISIT_AREA_NM\"].unique()\n",
    "visit_area_nm_to_new_id = {nm: idx for idx, nm in enumerate(unique_visit_area_nms)}\n",
    "visit_area_df[\"NEW_VISIT_AREA_ID\"] = visit_area_df[\"VISIT_AREA_NM\"].map(visit_area_nm_to_new_id)\n",
    "\n",
    "# photo_df의 VISIT_AREA_NM 결측값 채우기\n",
    "photo_df = photo_df.merge(\n",
    "    visit_area_df[[\"VISIT_AREA_ID\", \"TRAVEL_ID\", \"VISIT_AREA_NM\"]],\n",
    "    how=\"left\",\n",
    "    on=[\"VISIT_AREA_ID\", \"TRAVEL_ID\"],\n",
    "    suffixes=(\"\", \"_filled\")\n",
    ")\n",
    "photo_df[\"VISIT_AREA_NM\"] = photo_df[\"VISIT_AREA_NM\"].fillna(photo_df[\"VISIT_AREA_NM_filled\"])\n",
    "photo_df.drop(columns=[\"VISIT_AREA_NM_filled\"], inplace=True)\n",
    "\n",
    "# visit_area_id -> visit_area_nm 매핑 생성\n",
    "visit_area_id_to_nm = visit_area_df.set_index(\"VISIT_AREA_ID\")[\"VISIT_AREA_NM\"].to_dict()\n",
    "\n",
    "# move_df의 start/end_visit_area_id를 새로운 id로 변환\n",
    "move_df[\"START_VISIT_AREA_NM\"] = move_df[\"START_VISIT_AREA_ID\"].map(visit_area_id_to_nm)\n",
    "move_df[\"END_VISIT_AREA_NM\"] = move_df[\"END_VISIT_AREA_ID\"].map(visit_area_id_to_nm)\n",
    "move_df[\"START_NEW_ID\"] = move_df[\"START_VISIT_AREA_NM\"].map(visit_area_nm_to_new_id)\n",
    "move_df[\"END_NEW_ID\"] = move_df[\"END_VISIT_AREA_NM\"].map(visit_area_nm_to_new_id)\n",
    "\n",
    "# photo_df에도 새로운 id 컬럼 생성\n",
    "photo_df[\"NEW_VISIT_AREA_ID\"] = photo_df[\"VISIT_AREA_NM\"].map(visit_area_nm_to_new_id)\n",
    "\n",
    "# 결과 저장\n",
    "visit_area_df.to_csv(\"../data/VL_csv/visit_area_with_new_id_final.csv\", index=False)\n",
    "move_df.to_csv(\"../data/VL_csv/move_with_new_id_final.csv\", index=False)\n",
    "photo_df.to_csv(\"../data/VL_csv/photo_with_new_id_final.csv\", index=False)\n",
    "\n",
    "# 결과 요약\n",
    "{\n",
    "    \"visit_area_df_shape\": visit_area_df.shape,\n",
    "    \"move_df_shape\": move_df.shape,\n",
    "    \"photo_df_shape\": photo_df.shape,\n",
    "    \"sample_visit_area_df\": visit_area_df.head(2).to_dict(),\n",
    "    \"sample_move_df\": move_df.head(2).to_dict(),\n",
    "    \"sample_photo_df\": photo_df.head(2).to_dict()\n",
    "}\n"
   ]
  },
  {
   "cell_type": "code",
   "execution_count": null,
   "metadata": {},
   "outputs": [],
   "source": []
  }
 ],
 "metadata": {
  "kernelspec": {
   "display_name": "llm",
   "language": "python",
   "name": "python3"
  },
  "language_info": {
   "codemirror_mode": {
    "name": "ipython",
    "version": 3
   },
   "file_extension": ".py",
   "mimetype": "text/x-python",
   "name": "python",
   "nbconvert_exporter": "python",
   "pygments_lexer": "ipython3",
   "version": "3.10.13"
  }
 },
 "nbformat": 4,
 "nbformat_minor": 2
}
