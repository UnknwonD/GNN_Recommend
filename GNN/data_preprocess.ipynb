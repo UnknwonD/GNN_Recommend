{
 "cells": [
  {
   "cell_type": "markdown",
   "metadata": {},
   "source": [
    "# 데이터 로드"
   ]
  },
  {
   "cell_type": "code",
   "execution_count": 499,
   "metadata": {},
   "outputs": [],
   "source": [
    "import pandas as pd"
   ]
  },
  {
   "cell_type": "code",
   "execution_count": 500,
   "metadata": {},
   "outputs": [],
   "source": [
    "# 주요 파일 경로\n",
    "move_path = \"../data/VL_csv/tn_move_his_이동내역_Cleaned_E.csv\"\n",
    "user_path = \"../data/VL_csv/tn_traveller_master_여행객 Master_E_preprocessed.csv\"\n",
    "travel_path = \"tn_travel_processed.csv\"\n",
    "visit_area_path = \"../data/VL_csv/tn_visit_area_info_방문지정보_Cleaned_E.csv\"\n",
    "\n",
    "# 데이터 로딩\n",
    "move_df = pd.read_csv(move_path)\n",
    "user_df = pd.read_csv(user_path)\n",
    "travel_df = pd.read_csv(travel_path)\n",
    "visit_area_df = pd.read_csv(visit_area_path)"
   ]
  },
  {
   "cell_type": "code",
   "execution_count": 501,
   "metadata": {},
   "outputs": [
    {
     "data": {
      "text/plain": [
       "{'이동 내역':    TRAVEL_ID     TRIP_ID  START_VISIT_AREA_ID  END_VISIT_AREA_ID  \\\n",
       " 0  e_e000004  2304300001         2.304300e+09                NaN   \n",
       " 1  e_e000004  2304300002                  NaN       2.304300e+09   \n",
       " \n",
       "        START_DT_MIN        END_DT_MIN  MVMN_CD_1  MVMN_CD_2  \n",
       " 0  2023-04-30 13:30               NaN        NaN        NaN  \n",
       " 1               NaN  2023-04-30 14:00        1.0        NaN  ,\n",
       " '유저 정보':    GENDER  EDU_NM  EDU_FNSH_SE  MARR_STTS  JOB_NM  HOUSE_INCOME  TRAVEL_TERM  \\\n",
       " 0       2       4          1.0          3      11           9.0            2   \n",
       " 1       2       7          1.0          2       2          12.0            2   \n",
       " \n",
       "    TRAVEL_LIKE_SIDO_1  TRAVEL_LIKE_SIDO_2  TRAVEL_LIKE_SIDO_3  ...  \\\n",
       " 0                  11                  47                  41  ...   \n",
       " 1                  42                  48                  41  ...   \n",
       " \n",
       "    TRAVEL_STYL_3  TRAVEL_STYL_4  TRAVEL_STYL_5  TRAVEL_STYL_6  TRAVEL_STYL_7  \\\n",
       " 0              4              4              4              4              5   \n",
       " 1              1              3              2              1              1   \n",
       " \n",
       "    TRAVEL_STYL_8  TRAVEL_MOTIVE_1  TRAVEL_MOTIVE_2  INCOME  TRAVELER_ID  \n",
       " 0              5                2              6.0       4      e004720  \n",
       " 1              7                8              3.0       7      e003564  \n",
       " \n",
       " [2 rows x 26 columns],\n",
       " '여행 정보':    Unnamed: 0  TRAVEL_ID TRAVELER_ID  TOTAL_COST_BINNED_ENCODED  WITH_PET  \\\n",
       " 0           0  e_e000004     e000004                          1         0   \n",
       " 1           1  e_e000006     e000006                          1         0   \n",
       " \n",
       "    MONTH  DURATION  MVMN_기타  MVMN_대중교통  MVMN_자가용  ...  TRAVEL_PURPOSE_5  \\\n",
       " 0      5         1     True      False     False  ...               0.0   \n",
       " 1      5         2     True      False     False  ...               0.0   \n",
       " \n",
       "    TRAVEL_PURPOSE_6  TRAVEL_PURPOSE_7  TRAVEL_PURPOSE_8  TRAVEL_PURPOSE_9  \\\n",
       " 0               0.0               0.0               0.0               0.0   \n",
       " 1               1.0               0.0               0.0               0.0   \n",
       " \n",
       "    WHOWITH_2인여행  WHOWITH_가족여행  WHOWITH_기타  WHOWITH_단독여행  WHOWITH_친구/지인 여행  \n",
       " 0           0.0           1.0         0.0           0.0               0.0  \n",
       " 1           0.0           0.0         1.0           0.0               0.0  \n",
       " \n",
       " [2 rows x 24 columns],\n",
       " '방문지 정보':    VISIT_AREA_ID  TRAVEL_ID  VISIT_ORDER        VISIT_AREA_NM VISIT_START_YMD  \\\n",
       " 0     2304300002  e_e000004            2  화성 관광열차 안내소 연무대 매표소      2023-04-30   \n",
       " 1     2304300003  e_e000004            3                  창룡문      2023-04-30   \n",
       " \n",
       "   VISIT_END_YMD             ROAD_NM_ADDR           LOTNO_ADDR     X_COORD  \\\n",
       " 0    2023-04-30  경기 수원시 팔달구 창룡대로103번길 20  경기 수원시 팔달구 매향동 3-32  127.023339   \n",
       " 1    2023-04-30                      NaN       경기 수원시 팔달구 남수동  127.025143   \n",
       " \n",
       "      Y_COORD  ...             POI_NM  RESIDENCE_TIME_MIN VISIT_AREA_TYPE_CD  \\\n",
       " 0  37.287878  ...  동대문종합시장 악세서리부자재시장                60.0                  2   \n",
       " 1  37.287791  ...                창룡문                30.0                  2   \n",
       " \n",
       "   REVISIT_YN  VISIT_CHC_REASON_CD  LODGING_TYPE_CD DGSTFN  REVISIT_INTENTION  \\\n",
       " 0          N                 10.0              NaN    4.0                3.0   \n",
       " 1          N                  1.0              NaN    4.0                4.0   \n",
       " \n",
       "    RCMDTN_INTENTION  SGG_CD  \n",
       " 0               4.0     NaN  \n",
       " 1               4.0     NaN  \n",
       " \n",
       " [2 rows x 23 columns]}"
      ]
     },
     "execution_count": 501,
     "metadata": {},
     "output_type": "execute_result"
    }
   ],
   "source": [
    "{\n",
    "    \"이동 내역\": move_df.head(2),\n",
    "    \"유저 정보\": user_df.head(2),\n",
    "    \"여행 정보\": travel_df.head(2),\n",
    "    \"방문지 정보\": visit_area_df.head(2)\n",
    "}"
   ]
  },
  {
   "cell_type": "markdown",
   "metadata": {},
   "source": [
    "# Edge 전처리"
   ]
  },
  {
   "cell_type": "markdown",
   "metadata": {},
   "source": [
    "## 장소 - 장소 엣지\n",
    "- 기존에는 횟수로 계산했는데, 동선을 최적으로 제공하기 위해서 이동시간에 기반하는 것으로 계산"
   ]
  },
  {
   "cell_type": "code",
   "execution_count": 502,
   "metadata": {},
   "outputs": [
    {
     "data": {
      "text/html": [
       "<div>\n",
       "<style scoped>\n",
       "    .dataframe tbody tr th:only-of-type {\n",
       "        vertical-align: middle;\n",
       "    }\n",
       "\n",
       "    .dataframe tbody tr th {\n",
       "        vertical-align: top;\n",
       "    }\n",
       "\n",
       "    .dataframe thead th {\n",
       "        text-align: right;\n",
       "    }\n",
       "</style>\n",
       "<table border=\"1\" class=\"dataframe\">\n",
       "  <thead>\n",
       "    <tr style=\"text-align: right;\">\n",
       "      <th></th>\n",
       "      <th>TRAVEL_ID</th>\n",
       "      <th>TRIP_ID</th>\n",
       "      <th>START_VISIT_AREA_ID</th>\n",
       "      <th>END_VISIT_AREA_ID</th>\n",
       "      <th>START_DT_MIN</th>\n",
       "      <th>END_DT_MIN</th>\n",
       "      <th>MVMN_CD_1</th>\n",
       "      <th>MVMN_CD_2</th>\n",
       "    </tr>\n",
       "  </thead>\n",
       "  <tbody>\n",
       "    <tr>\n",
       "      <th>0</th>\n",
       "      <td>e_e000004</td>\n",
       "      <td>2304300001</td>\n",
       "      <td>2.304300e+09</td>\n",
       "      <td>NaN</td>\n",
       "      <td>2023-04-30 13:30</td>\n",
       "      <td>NaN</td>\n",
       "      <td>NaN</td>\n",
       "      <td>NaN</td>\n",
       "    </tr>\n",
       "    <tr>\n",
       "      <th>1</th>\n",
       "      <td>e_e000004</td>\n",
       "      <td>2304300002</td>\n",
       "      <td>NaN</td>\n",
       "      <td>2.304300e+09</td>\n",
       "      <td>NaN</td>\n",
       "      <td>2023-04-30 14:00</td>\n",
       "      <td>1.0</td>\n",
       "      <td>NaN</td>\n",
       "    </tr>\n",
       "    <tr>\n",
       "      <th>2</th>\n",
       "      <td>e_e000004</td>\n",
       "      <td>2304300003</td>\n",
       "      <td>NaN</td>\n",
       "      <td>2.304300e+09</td>\n",
       "      <td>NaN</td>\n",
       "      <td>2023-04-30 15:00</td>\n",
       "      <td>5.0</td>\n",
       "      <td>NaN</td>\n",
       "    </tr>\n",
       "    <tr>\n",
       "      <th>3</th>\n",
       "      <td>e_e000004</td>\n",
       "      <td>2304300004</td>\n",
       "      <td>NaN</td>\n",
       "      <td>2.304300e+09</td>\n",
       "      <td>NaN</td>\n",
       "      <td>2023-04-30 15:30</td>\n",
       "      <td>5.0</td>\n",
       "      <td>NaN</td>\n",
       "    </tr>\n",
       "    <tr>\n",
       "      <th>4</th>\n",
       "      <td>e_e000004</td>\n",
       "      <td>2304300005</td>\n",
       "      <td>NaN</td>\n",
       "      <td>2.304300e+09</td>\n",
       "      <td>NaN</td>\n",
       "      <td>2023-04-30 17:30</td>\n",
       "      <td>1.0</td>\n",
       "      <td>NaN</td>\n",
       "    </tr>\n",
       "    <tr>\n",
       "      <th>...</th>\n",
       "      <td>...</td>\n",
       "      <td>...</td>\n",
       "      <td>...</td>\n",
       "      <td>...</td>\n",
       "      <td>...</td>\n",
       "      <td>...</td>\n",
       "      <td>...</td>\n",
       "      <td>...</td>\n",
       "    </tr>\n",
       "    <tr>\n",
       "      <th>21379</th>\n",
       "      <td>h_h003275</td>\n",
       "      <td>2308270002</td>\n",
       "      <td>NaN</td>\n",
       "      <td>2.308270e+09</td>\n",
       "      <td>NaN</td>\n",
       "      <td>2023-08-27 11:00</td>\n",
       "      <td>1.0</td>\n",
       "      <td>NaN</td>\n",
       "    </tr>\n",
       "    <tr>\n",
       "      <th>21380</th>\n",
       "      <td>h_h003275</td>\n",
       "      <td>2308270003</td>\n",
       "      <td>NaN</td>\n",
       "      <td>2.308270e+09</td>\n",
       "      <td>NaN</td>\n",
       "      <td>2023-08-27 12:00</td>\n",
       "      <td>1.0</td>\n",
       "      <td>NaN</td>\n",
       "    </tr>\n",
       "    <tr>\n",
       "      <th>21381</th>\n",
       "      <td>h_h003275</td>\n",
       "      <td>2308270004</td>\n",
       "      <td>NaN</td>\n",
       "      <td>2.308270e+09</td>\n",
       "      <td>NaN</td>\n",
       "      <td>2023-08-27 12:30</td>\n",
       "      <td>1.0</td>\n",
       "      <td>NaN</td>\n",
       "    </tr>\n",
       "    <tr>\n",
       "      <th>21382</th>\n",
       "      <td>h_h003275</td>\n",
       "      <td>2308270005</td>\n",
       "      <td>NaN</td>\n",
       "      <td>2.308270e+09</td>\n",
       "      <td>NaN</td>\n",
       "      <td>2023-08-27 13:30</td>\n",
       "      <td>1.0</td>\n",
       "      <td>NaN</td>\n",
       "    </tr>\n",
       "    <tr>\n",
       "      <th>21383</th>\n",
       "      <td>h_h003275</td>\n",
       "      <td>2308270006</td>\n",
       "      <td>NaN</td>\n",
       "      <td>2.308270e+09</td>\n",
       "      <td>NaN</td>\n",
       "      <td>2023-08-27 16:00</td>\n",
       "      <td>1.0</td>\n",
       "      <td>NaN</td>\n",
       "    </tr>\n",
       "  </tbody>\n",
       "</table>\n",
       "<p>21384 rows × 8 columns</p>\n",
       "</div>"
      ],
      "text/plain": [
       "       TRAVEL_ID     TRIP_ID  START_VISIT_AREA_ID  END_VISIT_AREA_ID  \\\n",
       "0      e_e000004  2304300001         2.304300e+09                NaN   \n",
       "1      e_e000004  2304300002                  NaN       2.304300e+09   \n",
       "2      e_e000004  2304300003                  NaN       2.304300e+09   \n",
       "3      e_e000004  2304300004                  NaN       2.304300e+09   \n",
       "4      e_e000004  2304300005                  NaN       2.304300e+09   \n",
       "...          ...         ...                  ...                ...   \n",
       "21379  h_h003275  2308270002                  NaN       2.308270e+09   \n",
       "21380  h_h003275  2308270003                  NaN       2.308270e+09   \n",
       "21381  h_h003275  2308270004                  NaN       2.308270e+09   \n",
       "21382  h_h003275  2308270005                  NaN       2.308270e+09   \n",
       "21383  h_h003275  2308270006                  NaN       2.308270e+09   \n",
       "\n",
       "           START_DT_MIN        END_DT_MIN  MVMN_CD_1  MVMN_CD_2  \n",
       "0      2023-04-30 13:30               NaN        NaN        NaN  \n",
       "1                   NaN  2023-04-30 14:00        1.0        NaN  \n",
       "2                   NaN  2023-04-30 15:00        5.0        NaN  \n",
       "3                   NaN  2023-04-30 15:30        5.0        NaN  \n",
       "4                   NaN  2023-04-30 17:30        1.0        NaN  \n",
       "...                 ...               ...        ...        ...  \n",
       "21379               NaN  2023-08-27 11:00        1.0        NaN  \n",
       "21380               NaN  2023-08-27 12:00        1.0        NaN  \n",
       "21381               NaN  2023-08-27 12:30        1.0        NaN  \n",
       "21382               NaN  2023-08-27 13:30        1.0        NaN  \n",
       "21383               NaN  2023-08-27 16:00        1.0        NaN  \n",
       "\n",
       "[21384 rows x 8 columns]"
      ]
     },
     "execution_count": 502,
     "metadata": {},
     "output_type": "execute_result"
    }
   ],
   "source": [
    "move_df"
   ]
  },
  {
   "cell_type": "code",
   "execution_count": 503,
   "metadata": {},
   "outputs": [],
   "source": [
    "move_df[\"START_DT_MIN\"] = pd.to_datetime(move_df[\"START_DT_MIN\"], errors=\"coerce\")\n",
    "move_df[\"END_DT_MIN\"] = pd.to_datetime(move_df[\"END_DT_MIN\"], errors=\"coerce\")\n",
    "\n",
    "# 필요한 열만 사용\n",
    "cols = [\n",
    "    \"TRAVEL_ID\", \"TRIP_ID\", \"START_VISIT_AREA_ID\", \"END_VISIT_AREA_ID\",\n",
    "    \"START_DT_MIN\", \"END_DT_MIN\", \"MVMN_CD_1\"\n",
    "]\n",
    "move_df = move_df[cols].copy()\n",
    "\n",
    "# 결과 저장 리스트\n",
    "edges = []"
   ]
  },
  {
   "cell_type": "code",
   "execution_count": 504,
   "metadata": {},
   "outputs": [],
   "source": [
    "# 여행별로 반복\n",
    "for travel_id, group in move_df.sort_values([\"TRAVEL_ID\", \"TRIP_ID\"]).groupby(\"TRAVEL_ID\"):\n",
    "    group = group.reset_index(drop=True)\n",
    "    n = len(group)\n",
    "    if n < 2:\n",
    "        continue\n",
    "\n",
    "    # 첫 이동: START → END\n",
    "    start_time = group.loc[0, \"START_DT_MIN\"]\n",
    "    end_time = group.loc[1, \"END_DT_MIN\"]\n",
    "    if pd.notna(start_time) and pd.notna(end_time):\n",
    "        duration = (end_time - start_time).total_seconds() / 60\n",
    "        from_id = int(group.loc[0, \"START_VISIT_AREA_ID\"]) if pd.notna(group.loc[0, \"START_VISIT_AREA_ID\"]) else None\n",
    "        to_id = int(group.loc[1, \"END_VISIT_AREA_ID\"]) if pd.notna(group.loc[1, \"END_VISIT_AREA_ID\"]) else None\n",
    "        transport = group.loc[1, \"MVMN_CD_1\"]\n",
    "        if from_id and to_id and pd.notna(transport):\n",
    "            edges.append([from_id, to_id, duration, int(transport)])\n",
    "\n",
    "    # 이후 이동: END[i] → END[i+1]\n",
    "    for i in range(1, n - 1):\n",
    "        t1 = group.loc[i, \"END_DT_MIN\"]\n",
    "        t2 = group.loc[i + 1, \"END_DT_MIN\"]\n",
    "        if pd.notna(t1) and pd.notna(t2):\n",
    "            duration = (t2 - t1).total_seconds() / 60\n",
    "            from_id = int(group.loc[i, \"END_VISIT_AREA_ID\"]) if pd.notna(group.loc[i, \"END_VISIT_AREA_ID\"]) else None\n",
    "            to_id = int(group.loc[i + 1, \"END_VISIT_AREA_ID\"]) if pd.notna(group.loc[i + 1, \"END_VISIT_AREA_ID\"]) else None\n",
    "            transport = group.loc[i + 1, \"MVMN_CD_1\"]\n",
    "            if from_id and to_id and pd.notna(transport):\n",
    "                edges.append([from_id, to_id, duration, int(transport)])\n",
    "\n",
    "# 결과 DataFrame으로 정리\n",
    "edges_df = pd.DataFrame(edges, columns=[\n",
    "    \"FROM_VISIT_AREA_ID\", \"TO_VISIT_AREA_ID\", \"DURATION_MINUTES\", \"MVMN_CD_1\"\n",
    "])"
   ]
  },
  {
   "cell_type": "code",
   "execution_count": 505,
   "metadata": {},
   "outputs": [],
   "source": [
    "# 이동수단 통합\n",
    "def classify_transport(code):\n",
    "    if code in [1, 2, 3]:\n",
    "        return \"drive\"\n",
    "    elif code in [4,5,6,7,8,9,10,11,12,13,50]:\n",
    "        return \"public\"\n",
    "    else:\n",
    "        return \"other\"\n",
    "\n",
    "edges_df[\"MVMN_TYPE\"] = edges_df[\"MVMN_CD_1\"].apply(classify_transport)\n",
    "edges_df[\"is_drive\"] = (edges_df[\"MVMN_TYPE\"] == \"drive\").astype(int)\n",
    "edges_df[\"is_public\"] = (edges_df[\"MVMN_TYPE\"] == \"public\").astype(int)\n",
    "edges_df[\"is_other\"] = (edges_df[\"MVMN_TYPE\"] == \"other\").astype(int)"
   ]
  },
  {
   "cell_type": "code",
   "execution_count": 506,
   "metadata": {},
   "outputs": [
    {
     "data": {
      "text/html": [
       "<div>\n",
       "<style scoped>\n",
       "    .dataframe tbody tr th:only-of-type {\n",
       "        vertical-align: middle;\n",
       "    }\n",
       "\n",
       "    .dataframe tbody tr th {\n",
       "        vertical-align: top;\n",
       "    }\n",
       "\n",
       "    .dataframe thead th {\n",
       "        text-align: right;\n",
       "    }\n",
       "</style>\n",
       "<table border=\"1\" class=\"dataframe\">\n",
       "  <thead>\n",
       "    <tr style=\"text-align: right;\">\n",
       "      <th></th>\n",
       "      <th>FROM_VISIT_AREA_ID</th>\n",
       "      <th>TO_VISIT_AREA_ID</th>\n",
       "      <th>DURATION_MINUTES</th>\n",
       "      <th>is_drive</th>\n",
       "      <th>is_public</th>\n",
       "      <th>is_other</th>\n",
       "    </tr>\n",
       "  </thead>\n",
       "  <tbody>\n",
       "    <tr>\n",
       "      <th>0</th>\n",
       "      <td>2304300001</td>\n",
       "      <td>2304300002</td>\n",
       "      <td>30.0</td>\n",
       "      <td>1</td>\n",
       "      <td>0</td>\n",
       "      <td>0</td>\n",
       "    </tr>\n",
       "    <tr>\n",
       "      <th>1</th>\n",
       "      <td>2304300002</td>\n",
       "      <td>2304300003</td>\n",
       "      <td>60.0</td>\n",
       "      <td>0</td>\n",
       "      <td>1</td>\n",
       "      <td>0</td>\n",
       "    </tr>\n",
       "    <tr>\n",
       "      <th>2</th>\n",
       "      <td>2304300003</td>\n",
       "      <td>2304300004</td>\n",
       "      <td>30.0</td>\n",
       "      <td>0</td>\n",
       "      <td>1</td>\n",
       "      <td>0</td>\n",
       "    </tr>\n",
       "    <tr>\n",
       "      <th>3</th>\n",
       "      <td>2304300004</td>\n",
       "      <td>2304300005</td>\n",
       "      <td>120.0</td>\n",
       "      <td>1</td>\n",
       "      <td>0</td>\n",
       "      <td>0</td>\n",
       "    </tr>\n",
       "    <tr>\n",
       "      <th>4</th>\n",
       "      <td>2304300001</td>\n",
       "      <td>2304300002</td>\n",
       "      <td>30.0</td>\n",
       "      <td>0</td>\n",
       "      <td>1</td>\n",
       "      <td>0</td>\n",
       "    </tr>\n",
       "    <tr>\n",
       "      <th>...</th>\n",
       "      <td>...</td>\n",
       "      <td>...</td>\n",
       "      <td>...</td>\n",
       "      <td>...</td>\n",
       "      <td>...</td>\n",
       "      <td>...</td>\n",
       "    </tr>\n",
       "    <tr>\n",
       "      <th>18737</th>\n",
       "      <td>2308270001</td>\n",
       "      <td>2308270002</td>\n",
       "      <td>90.0</td>\n",
       "      <td>1</td>\n",
       "      <td>0</td>\n",
       "      <td>0</td>\n",
       "    </tr>\n",
       "    <tr>\n",
       "      <th>18738</th>\n",
       "      <td>2308270002</td>\n",
       "      <td>2308270003</td>\n",
       "      <td>60.0</td>\n",
       "      <td>1</td>\n",
       "      <td>0</td>\n",
       "      <td>0</td>\n",
       "    </tr>\n",
       "    <tr>\n",
       "      <th>18739</th>\n",
       "      <td>2308270003</td>\n",
       "      <td>2308270004</td>\n",
       "      <td>30.0</td>\n",
       "      <td>1</td>\n",
       "      <td>0</td>\n",
       "      <td>0</td>\n",
       "    </tr>\n",
       "    <tr>\n",
       "      <th>18740</th>\n",
       "      <td>2308270004</td>\n",
       "      <td>2308270005</td>\n",
       "      <td>60.0</td>\n",
       "      <td>1</td>\n",
       "      <td>0</td>\n",
       "      <td>0</td>\n",
       "    </tr>\n",
       "    <tr>\n",
       "      <th>18741</th>\n",
       "      <td>2308270005</td>\n",
       "      <td>2308270006</td>\n",
       "      <td>150.0</td>\n",
       "      <td>1</td>\n",
       "      <td>0</td>\n",
       "      <td>0</td>\n",
       "    </tr>\n",
       "  </tbody>\n",
       "</table>\n",
       "<p>18742 rows × 6 columns</p>\n",
       "</div>"
      ],
      "text/plain": [
       "       FROM_VISIT_AREA_ID  TO_VISIT_AREA_ID  DURATION_MINUTES  is_drive  \\\n",
       "0              2304300001        2304300002              30.0         1   \n",
       "1              2304300002        2304300003              60.0         0   \n",
       "2              2304300003        2304300004              30.0         0   \n",
       "3              2304300004        2304300005             120.0         1   \n",
       "4              2304300001        2304300002              30.0         0   \n",
       "...                   ...               ...               ...       ...   \n",
       "18737          2308270001        2308270002              90.0         1   \n",
       "18738          2308270002        2308270003              60.0         1   \n",
       "18739          2308270003        2308270004              30.0         1   \n",
       "18740          2308270004        2308270005              60.0         1   \n",
       "18741          2308270005        2308270006             150.0         1   \n",
       "\n",
       "       is_public  is_other  \n",
       "0              0         0  \n",
       "1              1         0  \n",
       "2              1         0  \n",
       "3              0         0  \n",
       "4              1         0  \n",
       "...          ...       ...  \n",
       "18737          0         0  \n",
       "18738          0         0  \n",
       "18739          0         0  \n",
       "18740          0         0  \n",
       "18741          0         0  \n",
       "\n",
       "[18742 rows x 6 columns]"
      ]
     },
     "execution_count": 506,
     "metadata": {},
     "output_type": "execute_result"
    }
   ],
   "source": [
    "visit_area_edges_final = edges_df[[\n",
    "    \"FROM_VISIT_AREA_ID\", \"TO_VISIT_AREA_ID\",\n",
    "    \"DURATION_MINUTES\", \"is_drive\", \"is_public\", \"is_other\"\n",
    "]]\n",
    "visit_area_edges_final"
   ]
  },
  {
   "cell_type": "markdown",
   "metadata": {},
   "source": [
    "## 유저 - 여행 엣지"
   ]
  },
  {
   "cell_type": "code",
   "execution_count": 507,
   "metadata": {},
   "outputs": [],
   "source": [
    "# travel_df에서 TRAVEL_ID, TRAVELER_ID 사용\n",
    "user_travel_edges = travel_df[[\"TRAVELER_ID\", \"TRAVEL_ID\"]].copy()\n",
    "user_travel_edges = user_travel_edges.dropna()\n",
    "\n",
    "# 유저 ID와 여행 ID가 모두 있는 경우만 추출\n",
    "user_travel_edges = user_travel_edges[user_travel_edges[\"TRAVELER_ID\"].notnull() & user_travel_edges[\"TRAVEL_ID\"].notnull()]"
   ]
  },
  {
   "cell_type": "code",
   "execution_count": 508,
   "metadata": {},
   "outputs": [
    {
     "data": {
      "text/html": [
       "<div>\n",
       "<style scoped>\n",
       "    .dataframe tbody tr th:only-of-type {\n",
       "        vertical-align: middle;\n",
       "    }\n",
       "\n",
       "    .dataframe tbody tr th {\n",
       "        vertical-align: top;\n",
       "    }\n",
       "\n",
       "    .dataframe thead th {\n",
       "        text-align: right;\n",
       "    }\n",
       "</style>\n",
       "<table border=\"1\" class=\"dataframe\">\n",
       "  <thead>\n",
       "    <tr style=\"text-align: right;\">\n",
       "      <th></th>\n",
       "      <th>user_id</th>\n",
       "      <th>travel_id</th>\n",
       "    </tr>\n",
       "  </thead>\n",
       "  <tbody>\n",
       "    <tr>\n",
       "      <th>0</th>\n",
       "      <td>e000004</td>\n",
       "      <td>e_e000004</td>\n",
       "    </tr>\n",
       "    <tr>\n",
       "      <th>1</th>\n",
       "      <td>e000006</td>\n",
       "      <td>e_e000006</td>\n",
       "    </tr>\n",
       "    <tr>\n",
       "      <th>2</th>\n",
       "      <td>e000009</td>\n",
       "      <td>e_e000009</td>\n",
       "    </tr>\n",
       "    <tr>\n",
       "      <th>3</th>\n",
       "      <td>e000010</td>\n",
       "      <td>e_e000010</td>\n",
       "    </tr>\n",
       "    <tr>\n",
       "      <th>4</th>\n",
       "      <td>e000011</td>\n",
       "      <td>e_e000011</td>\n",
       "    </tr>\n",
       "    <tr>\n",
       "      <th>...</th>\n",
       "      <td>...</td>\n",
       "      <td>...</td>\n",
       "    </tr>\n",
       "    <tr>\n",
       "      <th>2555</th>\n",
       "      <td>g003294</td>\n",
       "      <td>g_g003294</td>\n",
       "    </tr>\n",
       "    <tr>\n",
       "      <th>2556</th>\n",
       "      <td>g005600</td>\n",
       "      <td>g_g005600</td>\n",
       "    </tr>\n",
       "    <tr>\n",
       "      <th>2557</th>\n",
       "      <td>g007343</td>\n",
       "      <td>g_g007343</td>\n",
       "    </tr>\n",
       "    <tr>\n",
       "      <th>2558</th>\n",
       "      <td>g010556</td>\n",
       "      <td>g_g010556</td>\n",
       "    </tr>\n",
       "    <tr>\n",
       "      <th>2559</th>\n",
       "      <td>h003275</td>\n",
       "      <td>h_h003275</td>\n",
       "    </tr>\n",
       "  </tbody>\n",
       "</table>\n",
       "<p>2560 rows × 2 columns</p>\n",
       "</div>"
      ],
      "text/plain": [
       "      user_id  travel_id\n",
       "0     e000004  e_e000004\n",
       "1     e000006  e_e000006\n",
       "2     e000009  e_e000009\n",
       "3     e000010  e_e000010\n",
       "4     e000011  e_e000011\n",
       "...       ...        ...\n",
       "2555  g003294  g_g003294\n",
       "2556  g005600  g_g005600\n",
       "2557  g007343  g_g007343\n",
       "2558  g010556  g_g010556\n",
       "2559  h003275  h_h003275\n",
       "\n",
       "[2560 rows x 2 columns]"
      ]
     },
     "execution_count": 508,
     "metadata": {},
     "output_type": "execute_result"
    }
   ],
   "source": [
    "# edge로 표현\n",
    "user_travel_edges = user_travel_edges.rename(columns={\n",
    "    \"TRAVELER_ID\": \"user_id\",\n",
    "    \"TRAVEL_ID\": \"travel_id\"\n",
    "})\n",
    "\n",
    "user_travel_edges"
   ]
  },
  {
   "cell_type": "markdown",
   "metadata": {},
   "source": [
    "## 여행 - 장소 엣지"
   ]
  },
  {
   "cell_type": "code",
   "execution_count": 509,
   "metadata": {},
   "outputs": [],
   "source": [
    "travel_visit_edges = visit_area_df[[\"TRAVEL_ID\", \"VISIT_AREA_ID\"]].copy()\n",
    "travel_visit_edges = travel_visit_edges.dropna()\n",
    "\n",
    "travel_visit_edges[\"VISIT_AREA_ID\"] = travel_visit_edges[\"VISIT_AREA_ID\"].astype(int)"
   ]
  },
  {
   "cell_type": "code",
   "execution_count": 510,
   "metadata": {},
   "outputs": [
    {
     "data": {
      "text/html": [
       "<div>\n",
       "<style scoped>\n",
       "    .dataframe tbody tr th:only-of-type {\n",
       "        vertical-align: middle;\n",
       "    }\n",
       "\n",
       "    .dataframe tbody tr th {\n",
       "        vertical-align: top;\n",
       "    }\n",
       "\n",
       "    .dataframe thead th {\n",
       "        text-align: right;\n",
       "    }\n",
       "</style>\n",
       "<table border=\"1\" class=\"dataframe\">\n",
       "  <thead>\n",
       "    <tr style=\"text-align: right;\">\n",
       "      <th></th>\n",
       "      <th>travel_id</th>\n",
       "      <th>visit_area_id</th>\n",
       "    </tr>\n",
       "  </thead>\n",
       "  <tbody>\n",
       "    <tr>\n",
       "      <th>0</th>\n",
       "      <td>e_e000004</td>\n",
       "      <td>2304300002</td>\n",
       "    </tr>\n",
       "    <tr>\n",
       "      <th>1</th>\n",
       "      <td>e_e000004</td>\n",
       "      <td>2304300003</td>\n",
       "    </tr>\n",
       "    <tr>\n",
       "      <th>2</th>\n",
       "      <td>e_e000004</td>\n",
       "      <td>2304300004</td>\n",
       "    </tr>\n",
       "    <tr>\n",
       "      <th>3</th>\n",
       "      <td>e_e000006</td>\n",
       "      <td>2304300002</td>\n",
       "    </tr>\n",
       "    <tr>\n",
       "      <th>4</th>\n",
       "      <td>e_e000006</td>\n",
       "      <td>2304300003</td>\n",
       "    </tr>\n",
       "    <tr>\n",
       "      <th>...</th>\n",
       "      <td>...</td>\n",
       "      <td>...</td>\n",
       "    </tr>\n",
       "    <tr>\n",
       "      <th>15936</th>\n",
       "      <td>g_g010556</td>\n",
       "      <td>2309020007</td>\n",
       "    </tr>\n",
       "    <tr>\n",
       "      <th>15937</th>\n",
       "      <td>g_g010556</td>\n",
       "      <td>2309020008</td>\n",
       "    </tr>\n",
       "    <tr>\n",
       "      <th>15938</th>\n",
       "      <td>h_h003275</td>\n",
       "      <td>2308270002</td>\n",
       "    </tr>\n",
       "    <tr>\n",
       "      <th>15939</th>\n",
       "      <td>h_h003275</td>\n",
       "      <td>2308270003</td>\n",
       "    </tr>\n",
       "    <tr>\n",
       "      <th>15940</th>\n",
       "      <td>h_h003275</td>\n",
       "      <td>2308270005</td>\n",
       "    </tr>\n",
       "  </tbody>\n",
       "</table>\n",
       "<p>15941 rows × 2 columns</p>\n",
       "</div>"
      ],
      "text/plain": [
       "       travel_id  visit_area_id\n",
       "0      e_e000004     2304300002\n",
       "1      e_e000004     2304300003\n",
       "2      e_e000004     2304300004\n",
       "3      e_e000006     2304300002\n",
       "4      e_e000006     2304300003\n",
       "...          ...            ...\n",
       "15936  g_g010556     2309020007\n",
       "15937  g_g010556     2309020008\n",
       "15938  h_h003275     2308270002\n",
       "15939  h_h003275     2308270003\n",
       "15940  h_h003275     2308270005\n",
       "\n",
       "[15941 rows x 2 columns]"
      ]
     },
     "execution_count": 510,
     "metadata": {},
     "output_type": "execute_result"
    }
   ],
   "source": [
    "# rename for clarity\n",
    "travel_visit_edges = travel_visit_edges.rename(columns={\n",
    "    \"TRAVEL_ID\": \"travel_id\",\n",
    "    \"VISIT_AREA_ID\": \"visit_area_id\"\n",
    "})\n",
    "\n",
    "travel_visit_edges"
   ]
  },
  {
   "cell_type": "markdown",
   "metadata": {},
   "source": [
    "## 유저 - 장소 엣지"
   ]
  },
  {
   "cell_type": "code",
   "execution_count": 511,
   "metadata": {},
   "outputs": [],
   "source": [
    "# 교집합이 존재하는 TRAVEL_ID 확인\n",
    "travel_ids_in_user = set(travel_df[\"TRAVEL_ID\"].unique())\n",
    "travel_ids_in_visit = set(visit_area_df[\"TRAVEL_ID\"].unique())\n",
    "\n",
    "# 교집합 추출\n",
    "common_travel_ids = travel_ids_in_user.intersection(travel_ids_in_visit)"
   ]
  },
  {
   "cell_type": "code",
   "execution_count": 512,
   "metadata": {},
   "outputs": [],
   "source": [
    "# 공통 TRAVEL_ID 기반으로 필터링\n",
    "travel_sub = travel_df[travel_df[\"TRAVEL_ID\"].isin(common_travel_ids)]\n",
    "visit_area_sub = visit_area_df[visit_area_df[\"TRAVEL_ID\"].isin(common_travel_ids)]\n",
    "\n",
    "# 조인하여 user - visit_area 생성\n",
    "user_visit_edges = pd.merge(\n",
    "    travel_sub[[\"TRAVEL_ID\", \"TRAVELER_ID\"]],\n",
    "    visit_area_sub[[\"TRAVEL_ID\", \"VISIT_AREA_ID\"]],\n",
    "    on=\"TRAVEL_ID\",\n",
    "    how=\"inner\"\n",
    ")"
   ]
  },
  {
   "cell_type": "code",
   "execution_count": 513,
   "metadata": {},
   "outputs": [
    {
     "data": {
      "text/html": [
       "<div>\n",
       "<style scoped>\n",
       "    .dataframe tbody tr th:only-of-type {\n",
       "        vertical-align: middle;\n",
       "    }\n",
       "\n",
       "    .dataframe tbody tr th {\n",
       "        vertical-align: top;\n",
       "    }\n",
       "\n",
       "    .dataframe thead th {\n",
       "        text-align: right;\n",
       "    }\n",
       "</style>\n",
       "<table border=\"1\" class=\"dataframe\">\n",
       "  <thead>\n",
       "    <tr style=\"text-align: right;\">\n",
       "      <th></th>\n",
       "      <th>TRAVEL_ID</th>\n",
       "      <th>user_id</th>\n",
       "      <th>visit_area_id</th>\n",
       "    </tr>\n",
       "  </thead>\n",
       "  <tbody>\n",
       "    <tr>\n",
       "      <th>0</th>\n",
       "      <td>e_e000004</td>\n",
       "      <td>e000004</td>\n",
       "      <td>2304300002</td>\n",
       "    </tr>\n",
       "    <tr>\n",
       "      <th>1</th>\n",
       "      <td>e_e000004</td>\n",
       "      <td>e000004</td>\n",
       "      <td>2304300003</td>\n",
       "    </tr>\n",
       "    <tr>\n",
       "      <th>2</th>\n",
       "      <td>e_e000004</td>\n",
       "      <td>e000004</td>\n",
       "      <td>2304300004</td>\n",
       "    </tr>\n",
       "    <tr>\n",
       "      <th>3</th>\n",
       "      <td>e_e000006</td>\n",
       "      <td>e000006</td>\n",
       "      <td>2304300002</td>\n",
       "    </tr>\n",
       "    <tr>\n",
       "      <th>4</th>\n",
       "      <td>e_e000006</td>\n",
       "      <td>e000006</td>\n",
       "      <td>2304300003</td>\n",
       "    </tr>\n",
       "    <tr>\n",
       "      <th>...</th>\n",
       "      <td>...</td>\n",
       "      <td>...</td>\n",
       "      <td>...</td>\n",
       "    </tr>\n",
       "    <tr>\n",
       "      <th>15936</th>\n",
       "      <td>g_g010556</td>\n",
       "      <td>g010556</td>\n",
       "      <td>2309020007</td>\n",
       "    </tr>\n",
       "    <tr>\n",
       "      <th>15937</th>\n",
       "      <td>g_g010556</td>\n",
       "      <td>g010556</td>\n",
       "      <td>2309020008</td>\n",
       "    </tr>\n",
       "    <tr>\n",
       "      <th>15938</th>\n",
       "      <td>h_h003275</td>\n",
       "      <td>h003275</td>\n",
       "      <td>2308270002</td>\n",
       "    </tr>\n",
       "    <tr>\n",
       "      <th>15939</th>\n",
       "      <td>h_h003275</td>\n",
       "      <td>h003275</td>\n",
       "      <td>2308270003</td>\n",
       "    </tr>\n",
       "    <tr>\n",
       "      <th>15940</th>\n",
       "      <td>h_h003275</td>\n",
       "      <td>h003275</td>\n",
       "      <td>2308270005</td>\n",
       "    </tr>\n",
       "  </tbody>\n",
       "</table>\n",
       "<p>15941 rows × 3 columns</p>\n",
       "</div>"
      ],
      "text/plain": [
       "       TRAVEL_ID  user_id  visit_area_id\n",
       "0      e_e000004  e000004     2304300002\n",
       "1      e_e000004  e000004     2304300003\n",
       "2      e_e000004  e000004     2304300004\n",
       "3      e_e000006  e000006     2304300002\n",
       "4      e_e000006  e000006     2304300003\n",
       "...          ...      ...            ...\n",
       "15936  g_g010556  g010556     2309020007\n",
       "15937  g_g010556  g010556     2309020008\n",
       "15938  h_h003275  h003275     2308270002\n",
       "15939  h_h003275  h003275     2308270003\n",
       "15940  h_h003275  h003275     2308270005\n",
       "\n",
       "[15941 rows x 3 columns]"
      ]
     },
     "execution_count": 513,
     "metadata": {},
     "output_type": "execute_result"
    }
   ],
   "source": [
    "user_visit_edges = user_visit_edges.rename(columns={\n",
    "    \"TRAVELER_ID\": \"user_id\",\n",
    "    \"VISIT_AREA_ID\": \"visit_area_id\"\n",
    "})\n",
    "user_visit_edges[\"visit_area_id\"] = user_visit_edges[\"visit_area_id\"].astype(int)\n",
    "\n",
    "user_visit_edges"
   ]
  },
  {
   "cell_type": "markdown",
   "metadata": {},
   "source": [
    "# Node 전처리"
   ]
  },
  {
   "cell_type": "markdown",
   "metadata": {},
   "source": [
    "## 유저 노드\n",
    "\n",
    "\n",
    "- 'USER_ID', 'PASSWORD', 'NAME', 'GENDER', 'BIRTHDATE',\n",
    "- 'TRAVEL_TERM', 'TRAVEL_NUM',\n",
    "- 'TRAVEL_LIKE_SIDO_1', 'TRAVEL_LIKE_SIDO_2', 'TRAVEL_LIKE_SIDO_3',\n",
    "- 'TRAVEL_STYL_1', 'TRAVEL_STYL_2', 'TRAVEL_STYL_3', 'TRAVEL_STYL_4',\n",
    "- 'TRAVEL_STYL_5', 'TRAVEL_STYL_6', 'TRAVEL_STYL_7', 'TRAVEL_STYL_8',\n",
    "- 'TRAVEL_MOTIVE_1', 'TRAVEL_MOTIVE_2'"
   ]
  },
  {
   "cell_type": "code",
   "execution_count": 514,
   "metadata": {},
   "outputs": [],
   "source": [
    "# 사용할 feature 컬럼 정의 (TRAVELER_ID 제외)\n",
    "user_feature_cols = [\n",
    "    'GENDER', 'TRAVEL_TERM', 'TRAVEL_NUM',\n",
    "    'TRAVEL_LIKE_SIDO_1', 'TRAVEL_LIKE_SIDO_2', 'TRAVEL_LIKE_SIDO_3',\n",
    "    'TRAVEL_STYL_1', 'TRAVEL_STYL_2', 'TRAVEL_STYL_3', 'TRAVEL_STYL_4',\n",
    "    'TRAVEL_STYL_5', 'TRAVEL_STYL_6', 'TRAVEL_STYL_7', 'TRAVEL_STYL_8',\n",
    "    'TRAVEL_MOTIVE_1', 'TRAVEL_MOTIVE_2',\n",
    "    'AGE_GRP'\n",
    "]\n",
    "\n",
    "# 결측값 0으로 채우고 float32로 변환\n",
    "user_tensor = user_df[user_feature_cols].fillna(0).astype(np.float32).to_numpy()"
   ]
  },
  {
   "cell_type": "code",
   "execution_count": 563,
   "metadata": {},
   "outputs": [
    {
     "data": {
      "text/plain": [
       "array([ 2.,  2.,  2., 11., 47., 41.,  2.,  4.,  4.,  4.,  4.,  4.,  5.,\n",
       "        5.,  2.,  6., 60.], dtype=float32)"
      ]
     },
     "execution_count": 563,
     "metadata": {},
     "output_type": "execute_result"
    }
   ],
   "source": [
    "user_tensor[0]"
   ]
  },
  {
   "cell_type": "code",
   "execution_count": 515,
   "metadata": {},
   "outputs": [
    {
     "data": {
      "text/plain": [
       "{'user_tensor_shape': (1919, 17),\n",
       " 'user_id_sample': ['e004720', 'e003564', 'e000396', 'e001890', 'e007797'],\n",
       " 'user_index_sample': [('e004720', 0),\n",
       "  ('e003564', 1),\n",
       "  ('e000396', 2),\n",
       "  ('e001890', 3),\n",
       "  ('e007797', 4)]}"
      ]
     },
     "execution_count": 515,
     "metadata": {},
     "output_type": "execute_result"
    }
   ],
   "source": [
    "# ID 매핑: TRAVELER_ID → index\n",
    "user_id_list = user_df[\"TRAVELER_ID\"].tolist()\n",
    "user_id_to_index = {uid: idx for idx, uid in enumerate(user_id_list)}\n",
    "\n",
    "# 결과 요약\n",
    "{\n",
    "    \"user_tensor_shape\": user_tensor.shape,\n",
    "    \"user_id_sample\": user_id_list[:5],\n",
    "    \"user_index_sample\": list(user_id_to_index.items())[:5]\n",
    "}"
   ]
  },
  {
   "cell_type": "markdown",
   "metadata": {},
   "source": [
    "## 여행 노드"
   ]
  },
  {
   "cell_type": "code",
   "execution_count": 516,
   "metadata": {},
   "outputs": [],
   "source": [
    "# 필요한 컬럼만 추출 (TRAVEL_ID, TRAVELER_ID 제외)\n",
    "excluded_cols = ['Unnamed: 0', 'TRAVEL_ID', 'TRAVELER_ID']\n",
    "travel_feature_cols = [col for col in travel_df.columns if col not in excluded_cols]\n",
    "\n",
    "# feature tensor 생성\n",
    "travel_tensor = travel_df[travel_feature_cols].fillna(0).astype(np.float32).to_numpy()"
   ]
  },
  {
   "cell_type": "code",
   "execution_count": 594,
   "metadata": {},
   "outputs": [
    {
     "data": {
      "text/plain": [
       "(21,)"
      ]
     },
     "execution_count": 594,
     "metadata": {},
     "output_type": "execute_result"
    }
   ],
   "source": [
    "travel_tensor[0].shape"
   ]
  },
  {
   "cell_type": "code",
   "execution_count": 576,
   "metadata": {},
   "outputs": [
    {
     "data": {
      "text/plain": [
       "['TOTAL_COST_BINNED_ENCODED',\n",
       " 'WITH_PET',\n",
       " 'MONTH',\n",
       " 'DURATION',\n",
       " 'MVMN_기타',\n",
       " 'MVMN_대중교통',\n",
       " 'MVMN_자가용',\n",
       " 'TRAVEL_PURPOSE_1',\n",
       " 'TRAVEL_PURPOSE_2',\n",
       " 'TRAVEL_PURPOSE_3',\n",
       " 'TRAVEL_PURPOSE_4',\n",
       " 'TRAVEL_PURPOSE_5',\n",
       " 'TRAVEL_PURPOSE_6',\n",
       " 'TRAVEL_PURPOSE_7',\n",
       " 'TRAVEL_PURPOSE_8',\n",
       " 'TRAVEL_PURPOSE_9',\n",
       " 'WHOWITH_2인여행',\n",
       " 'WHOWITH_가족여행',\n",
       " 'WHOWITH_기타',\n",
       " 'WHOWITH_단독여행',\n",
       " 'WHOWITH_친구/지인 여행']"
      ]
     },
     "execution_count": 576,
     "metadata": {},
     "output_type": "execute_result"
    }
   ],
   "source": [
    "travel_feature_cols"
   ]
  },
  {
   "cell_type": "code",
   "execution_count": 517,
   "metadata": {},
   "outputs": [
    {
     "data": {
      "text/plain": [
       "{'travel_tensor_shape': (2560, 21),\n",
       " 'travel_feature_columns': ['TOTAL_COST_BINNED_ENCODED',\n",
       "  'WITH_PET',\n",
       "  'MONTH',\n",
       "  'DURATION',\n",
       "  'MVMN_기타',\n",
       "  'MVMN_대중교통',\n",
       "  'MVMN_자가용',\n",
       "  'TRAVEL_PURPOSE_1',\n",
       "  'TRAVEL_PURPOSE_2',\n",
       "  'TRAVEL_PURPOSE_3',\n",
       "  'TRAVEL_PURPOSE_4',\n",
       "  'TRAVEL_PURPOSE_5',\n",
       "  'TRAVEL_PURPOSE_6',\n",
       "  'TRAVEL_PURPOSE_7',\n",
       "  'TRAVEL_PURPOSE_8',\n",
       "  'TRAVEL_PURPOSE_9',\n",
       "  'WHOWITH_2인여행',\n",
       "  'WHOWITH_가족여행',\n",
       "  'WHOWITH_기타',\n",
       "  'WHOWITH_단독여행',\n",
       "  'WHOWITH_친구/지인 여행'],\n",
       " 'travel_index_sample': [('e_e000004', 0),\n",
       "  ('e_e000006', 1),\n",
       "  ('e_e000009', 2),\n",
       "  ('e_e000010', 3),\n",
       "  ('e_e000011', 4)]}"
      ]
     },
     "execution_count": 517,
     "metadata": {},
     "output_type": "execute_result"
    }
   ],
   "source": [
    "# ID 매핑\n",
    "travel_id_list = travel_df[\"TRAVEL_ID\"].tolist()\n",
    "travel_id_to_index = {tid: idx for idx, tid in enumerate(travel_id_list)}\n",
    "\n",
    "# 요약 결과\n",
    "{\n",
    "    \"travel_tensor_shape\": travel_tensor.shape,\n",
    "    \"travel_feature_columns\": travel_feature_cols,\n",
    "    \"travel_index_sample\": list(travel_id_to_index.items())[:5]\n",
    "}"
   ]
  },
  {
   "cell_type": "markdown",
   "metadata": {},
   "source": [
    "# Hetero Dataset 설계"
   ]
  },
  {
   "cell_type": "code",
   "execution_count": 518,
   "metadata": {},
   "outputs": [],
   "source": [
    "import numpy as np\n",
    "import torch\n",
    "from torch_geometric.data import HeteroData"
   ]
  },
  {
   "cell_type": "markdown",
   "metadata": {},
   "source": [
    "## Edge Index 연결"
   ]
  },
  {
   "cell_type": "code",
   "execution_count": 519,
   "metadata": {},
   "outputs": [],
   "source": [
    "area_ids_final = sorted(visit_area_df[\"VISIT_AREA_ID\"].dropna().astype(int).unique())\n",
    "visit_area_id_to_index = {vid: i for i, vid in enumerate(area_ids_final)}\n",
    "# visit_area_id_to_index"
   ]
  },
  {
   "cell_type": "code",
   "execution_count": 520,
   "metadata": {},
   "outputs": [],
   "source": [
    "# user → travel edge_index 변환\n",
    "user_travel_edges = travel_df[[\"TRAVELER_ID\", \"TRAVEL_ID\"]].dropna().copy()\n",
    "user_travel_edges = user_travel_edges[\n",
    "    user_travel_edges[\"TRAVELER_ID\"].isin(user_id_to_index) &\n",
    "    user_travel_edges[\"TRAVEL_ID\"].isin(travel_id_to_index)\n",
    "]\n",
    "\n",
    "user_travel_edge_index = np.array([\n",
    "    [user_id_to_index[uid] for uid in user_travel_edges[\"TRAVELER_ID\"]],\n",
    "    [travel_id_to_index[tid] for tid in user_travel_edges[\"TRAVEL_ID\"]]\n",
    "], dtype=np.int64)"
   ]
  },
  {
   "cell_type": "code",
   "execution_count": 521,
   "metadata": {},
   "outputs": [],
   "source": [
    "# travel → visit_area edge_index 변환\n",
    "travel_visit = visit_area_df[[\"TRAVEL_ID\", \"VISIT_AREA_ID\"]].dropna().copy()\n",
    "travel_visit[\"VISIT_AREA_ID\"] = travel_visit[\"VISIT_AREA_ID\"].astype(int)\n",
    "\n",
    "travel_visit = travel_visit[\n",
    "    travel_visit[\"TRAVEL_ID\"].isin(travel_id_to_index) &\n",
    "    travel_visit[\"VISIT_AREA_ID\"].isin(visit_area_id_to_index)\n",
    "]\n",
    "\n",
    "travel_visit_edge_index = np.array([\n",
    "    [travel_id_to_index[tid] for tid in travel_visit[\"TRAVEL_ID\"]],\n",
    "    [visit_area_id_to_index[vid] for vid in travel_visit[\"VISIT_AREA_ID\"]]\n",
    "], dtype=np.int64)"
   ]
  },
  {
   "cell_type": "code",
   "execution_count": 522,
   "metadata": {},
   "outputs": [
    {
     "data": {
      "text/plain": [
       "{'user_travel_edge_index_shape': (2, 1919),\n",
       " 'travel_visit_edge_index_shape': (2, 15941),\n",
       " 'user_travel_edge_example': [[944, 915, 308, 160, 373], [0, 2, 3, 5, 6]],\n",
       " 'travel_visit_edge_example': [[0, 0, 0, 1, 1], [20, 21, 22, 20, 21]]}"
      ]
     },
     "execution_count": 522,
     "metadata": {},
     "output_type": "execute_result"
    }
   ],
   "source": [
    "# 결과 요약\n",
    "{\n",
    "    \"user_travel_edge_index_shape\": user_travel_edge_index.shape,\n",
    "    \"travel_visit_edge_index_shape\": travel_visit_edge_index.shape,\n",
    "    \"user_travel_edge_example\": user_travel_edge_index[:, :5].tolist(),\n",
    "    \"travel_visit_edge_example\": travel_visit_edge_index[:, :5].tolist()\n",
    "}\n"
   ]
  },
  {
   "cell_type": "markdown",
   "metadata": {},
   "source": [
    "## Visit Area 데이터 전처리"
   ]
  },
  {
   "cell_type": "code",
   "execution_count": 523,
   "metadata": {},
   "outputs": [],
   "source": [
    "edges_df_filtered = edges_df[\n",
    "    edges_df[\"FROM_VISIT_AREA_ID\"].isin(visit_area_id_to_index) &\n",
    "    edges_df[\"TO_VISIT_AREA_ID\"].isin(visit_area_id_to_index)\n",
    "].copy()"
   ]
  },
  {
   "cell_type": "code",
   "execution_count": 524,
   "metadata": {},
   "outputs": [],
   "source": [
    "# visit_area_edge_index 생성\n",
    "visit_area_edge_index = torch.tensor([\n",
    "    [visit_area_id_to_index[f] for f in edges_df_filtered[\"FROM_VISIT_AREA_ID\"]],\n",
    "    [visit_area_id_to_index[t] for t in edges_df_filtered[\"TO_VISIT_AREA_ID\"]]\n",
    "], dtype=torch.long)"
   ]
  },
  {
   "cell_type": "code",
   "execution_count": 525,
   "metadata": {},
   "outputs": [],
   "source": [
    "# visit_area_edge_attr 생성\n",
    "visit_area_edge_attr = torch.tensor(\n",
    "    edges_df_filtered[[\"DURATION_MINUTES\", \"is_drive\", \"is_public\", \"is_other\"]].to_numpy(),\n",
    "    dtype=torch.float\n",
    ")"
   ]
  },
  {
   "cell_type": "code",
   "execution_count": 526,
   "metadata": {},
   "outputs": [
    {
     "data": {
      "text/plain": [
       "{'visit_area_edge_index_shape': torch.Size([2, 18461]),\n",
       " 'visit_area_edge_attr_shape': torch.Size([18461, 4]),\n",
       " 'visit_area_tensor_shape': torch.Size([1432, 1])}"
      ]
     },
     "execution_count": 526,
     "metadata": {},
     "output_type": "execute_result"
    }
   ],
   "source": [
    "# visit_area_tensor (dummy: all zeros)\n",
    "visit_area_tensor = torch.zeros((len(visit_area_id_to_index), 1), dtype=torch.float)\n",
    "\n",
    "# 요약\n",
    "{\n",
    "    \"visit_area_edge_index_shape\": visit_area_edge_index.shape,\n",
    "    \"visit_area_edge_attr_shape\": visit_area_edge_attr.shape,\n",
    "    \"visit_area_tensor_shape\": visit_area_tensor.shape\n",
    "}"
   ]
  },
  {
   "cell_type": "markdown",
   "metadata": {},
   "source": [
    "## Hetero Data 병합"
   ]
  },
  {
   "cell_type": "code",
   "execution_count": 527,
   "metadata": {},
   "outputs": [
    {
     "name": "stderr",
     "output_type": "stream",
     "text": [
      "/var/folders/5y/zrfb8w194h75z3j0v71vttf00000gn/T/ipykernel_34131/797606530.py:6: UserWarning: To copy construct from a tensor, it is recommended to use sourceTensor.detach().clone() or sourceTensor.detach().clone().requires_grad_(True), rather than torch.tensor(sourceTensor).\n",
      "  data['visit_area'].x = torch.tensor(visit_area_tensor, dtype=torch.float)  # dummy\n"
     ]
    }
   ],
   "source": [
    "data = HeteroData()\n",
    "\n",
    "# 노드 등록\n",
    "data['user'].x = torch.tensor(user_tensor, dtype=torch.float)\n",
    "data['travel'].x = torch.tensor(travel_tensor, dtype=torch.float)\n",
    "data['visit_area'].x = torch.tensor(visit_area_tensor, dtype=torch.float)  # dummy"
   ]
  },
  {
   "cell_type": "code",
   "execution_count": 528,
   "metadata": {},
   "outputs": [
    {
     "name": "stderr",
     "output_type": "stream",
     "text": [
      "/var/folders/5y/zrfb8w194h75z3j0v71vttf00000gn/T/ipykernel_34131/624825848.py:4: UserWarning: To copy construct from a tensor, it is recommended to use sourceTensor.detach().clone() or sourceTensor.detach().clone().requires_grad_(True), rather than torch.tensor(sourceTensor).\n",
      "  data['visit_area', 'moved_to', 'visit_area'].edge_index = torch.tensor(visit_area_edge_index, dtype=torch.long)\n",
      "/var/folders/5y/zrfb8w194h75z3j0v71vttf00000gn/T/ipykernel_34131/624825848.py:5: UserWarning: To copy construct from a tensor, it is recommended to use sourceTensor.detach().clone() or sourceTensor.detach().clone().requires_grad_(True), rather than torch.tensor(sourceTensor).\n",
      "  data['visit_area', 'moved_to', 'visit_area'].edge_attr = torch.tensor(visit_area_edge_attr, dtype=torch.float)\n"
     ]
    }
   ],
   "source": [
    "# 엣지 등록\n",
    "data['user', 'traveled', 'travel'].edge_index = torch.tensor(user_travel_edge_index, dtype=torch.long)\n",
    "data['travel', 'contains', 'visit_area'].edge_index = torch.tensor(travel_visit_edge_index, dtype=torch.long)\n",
    "data['visit_area', 'moved_to', 'visit_area'].edge_index = torch.tensor(visit_area_edge_index, dtype=torch.long)\n",
    "data['visit_area', 'moved_to', 'visit_area'].edge_attr = torch.tensor(visit_area_edge_attr, dtype=torch.float)"
   ]
  },
  {
   "cell_type": "code",
   "execution_count": 529,
   "metadata": {},
   "outputs": [
    {
     "name": "stdout",
     "output_type": "stream",
     "text": [
      "HeteroData(\n",
      "  user={ x=[1919, 17] },\n",
      "  travel={ x=[2560, 21] },\n",
      "  visit_area={ x=[1432, 1] },\n",
      "  (user, traveled, travel)={ edge_index=[2, 1919] },\n",
      "  (travel, contains, visit_area)={ edge_index=[2, 15941] },\n",
      "  (visit_area, moved_to, visit_area)={\n",
      "    edge_index=[2, 18461],\n",
      "    edge_attr=[18461, 4],\n",
      "  },\n",
      "  (travel, traveled_by, user)={ edge_index=[2, 1919] },\n",
      "  (visit_area, contained_in, travel)={ edge_index=[2, 15941] }\n",
      ")\n",
      "(['user', 'travel', 'visit_area'], [('user', 'traveled', 'travel'), ('travel', 'contains', 'visit_area'), ('visit_area', 'moved_to', 'visit_area'), ('travel', 'traveled_by', 'user'), ('visit_area', 'contained_in', 'travel')])\n"
     ]
    }
   ],
   "source": [
    "# reverse edges 추가시\n",
    "data['travel', 'traveled_by', 'user'].edge_index = data['user', 'traveled', 'travel'].edge_index[[1, 0]]\n",
    "data['visit_area', 'contained_in', 'travel'].edge_index = data['travel', 'contains', 'visit_area'].edge_index[[1, 0]]\n",
    "\n",
    "# HeteroData 확인\n",
    "print(data)\n",
    "print(data.metadata())"
   ]
  },
  {
   "cell_type": "markdown",
   "metadata": {},
   "source": [
    "# GNN 모델 재설계"
   ]
  },
  {
   "cell_type": "code",
   "execution_count": 663,
   "metadata": {},
   "outputs": [],
   "source": [
    "import torch\n",
    "import torch.nn as nn\n",
    "import torch.nn.functional as F\n",
    "from torch_geometric.nn import HeteroConv, SAGEConv, Linear\n",
    "\n",
    "class RouteGNN(nn.Module):\n",
    "    def __init__(self, metadata, hidden_channels=128):\n",
    "        super().__init__()\n",
    "        self.metadata = metadata\n",
    "\n",
    "        # 💡 실제 입력 차원에 맞게 조정 (고정된 입력 차원 사용)\n",
    "        self.embeddings = nn.ModuleDict({\n",
    "            'user': Linear(17, hidden_channels),\n",
    "            'travel': Linear(21, hidden_channels),\n",
    "            'visit_area': Linear(1, hidden_channels),  # dummy feature\n",
    "        })\n",
    "\n",
    "        # 💡 HeteroConv 레이어 2단\n",
    "        self.gnn1 = HeteroConv({\n",
    "            edge_type: SAGEConv((-1, -1), hidden_channels)\n",
    "            for edge_type in metadata[1]\n",
    "        }, aggr='sum')\n",
    "\n",
    "        self.gnn2 = HeteroConv({\n",
    "            edge_type: SAGEConv((hidden_channels, hidden_channels), hidden_channels)\n",
    "            for edge_type in metadata[1]\n",
    "        }, aggr='sum')\n",
    "\n",
    "        # 💡 Link prediction head\n",
    "        self.link_predictor = nn.Sequential(\n",
    "            nn.Linear(2 * hidden_channels, hidden_channels),\n",
    "            nn.ReLU(),\n",
    "            nn.Linear(hidden_channels, 1)\n",
    "        )\n",
    "\n",
    "    def forward(self, x_dict, edge_index_dict):\n",
    "        # 🔐 임베딩 처리 (None 방지)\n",
    "        x_dict = {\n",
    "            node_type: self.embeddings[node_type](x) if x is not None else None\n",
    "            for node_type, x in x_dict.items()\n",
    "        }\n",
    "        \n",
    "        # 💬 GNN 메시지 전달\n",
    "        x_dict = self.gnn1(x_dict, edge_index_dict)\n",
    "        x_dict = {k: F.relu(v) for k, v in x_dict.items() if v is not None}\n",
    "        x_dict = self.gnn2(x_dict, edge_index_dict)\n",
    "\n",
    "        return x_dict\n",
    "\n",
    "    def predict_link(self, node_embed, edge_index):\n",
    "        \"\"\"\n",
    "        visit_area 간 (i, j) edge 쌍을 받아 score 출력\n",
    "        \"\"\"\n",
    "        src, dst = edge_index\n",
    "        z_src = node_embed[src]\n",
    "        z_dst = node_embed[dst]\n",
    "        z = torch.cat([z_src, z_dst], dim=-1)\n",
    "        return self.link_predictor(z).squeeze(-1)\n"
   ]
  },
  {
   "cell_type": "markdown",
   "metadata": {},
   "source": [
    "# GNN 학습"
   ]
  },
  {
   "cell_type": "code",
   "execution_count": 661,
   "metadata": {},
   "outputs": [],
   "source": [
    "import torch\n",
    "import torch.nn.functional as F\n",
    "from torch.nn import BCEWithLogitsLoss\n",
    "\n",
    "def train(model, data, optimizer, epochs=50, device='cpu'):\n",
    "    model.to(device)\n",
    "    data = data.to(device)\n",
    "    loss_fn = BCEWithLogitsLoss()\n",
    "    \n",
    "    train_loss = []\n",
    "    train_acc = []\n",
    "\n",
    "    # ✅ positive edge (실제 이동 경로)\n",
    "    edge_index = data['visit_area', 'moved_to', 'visit_area'].edge_index\n",
    "    pos_edge_src = edge_index[0]\n",
    "    pos_edge_dst = edge_index[1]\n",
    "    pos_edge_pairs = torch.stack([pos_edge_src, pos_edge_dst], dim=1)\n",
    "\n",
    "    for epoch in range(epochs):\n",
    "        model.train()\n",
    "        optimizer.zero_grad()\n",
    "\n",
    "        # 1. Forward GNN\n",
    "        x_dict = model(data.x_dict, data.edge_index_dict)\n",
    "\n",
    "        # 2. Positive score\n",
    "        pos_scores = model.predict_link(x_dict['visit_area'], edge_index)\n",
    "\n",
    "        # 3. Negative sampling\n",
    "        num_pos = pos_edge_pairs.size(0)\n",
    "        neg_src = torch.randint(0, data['visit_area'].num_nodes, (num_pos,), device=device)\n",
    "        neg_dst = torch.randint(0, data['visit_area'].num_nodes, (num_pos,), device=device)\n",
    "        neg_edge_index = torch.stack([neg_src, neg_dst], dim=0)\n",
    "\n",
    "        neg_scores = model.predict_link(x_dict['visit_area'], neg_edge_index)\n",
    "\n",
    "        # 4. 라벨 결합\n",
    "        scores = torch.cat([pos_scores, neg_scores], dim=0)\n",
    "        labels = torch.cat([torch.ones_like(pos_scores), torch.zeros_like(neg_scores)], dim=0)\n",
    "\n",
    "        # 5. 손실 계산\n",
    "        loss = loss_fn(scores, labels)\n",
    "        loss.backward()\n",
    "        optimizer.step()\n",
    "\n",
    "        # 6. 정확도 계산\n",
    "        pred = (torch.sigmoid(scores) > 0.5).float()\n",
    "        correct = (pred == labels).sum().item()\n",
    "        acc = correct / labels.size(0)\n",
    "\n",
    "        if (epoch+1) % 10 == 0:\n",
    "            print(f\"[Epoch {epoch+1}] Loss: {loss.item():.4f} | Acc: {acc*100:.2f}%\")\n",
    "\n",
    "        train_loss.append(loss.item())\n",
    "        train_acc.append(acc)\n",
    "\n",
    "    return train_loss, train_acc\n"
   ]
  },
  {
   "cell_type": "code",
   "execution_count": null,
   "metadata": {},
   "outputs": [],
   "source": [
    "model = RouteGNN(metadata=data.metadata(), hidden_channels=128)\n",
    "optimizer = torch.optim.Adam(model.parameters(), lr=0.005)\n",
    "\n",
    "tran_loss, train_acc = train(model, data, optimizer, epochs=200, device='cuda' if torch.cuda.is_available() else 'cpu')"
   ]
  },
  {
   "cell_type": "markdown",
   "metadata": {},
   "source": [
    "# 모델 추론"
   ]
  },
  {
   "cell_type": "code",
   "execution_count": 651,
   "metadata": {},
   "outputs": [],
   "source": [
    "def recommend_route(node_embed, edge_index, edge_scores, start_node=None, max_steps=5):\n",
    "    \"\"\"\n",
    "    visit_area 노드 임베딩, 엣지 index, score가 주어졌을 때\n",
    "    가장 높은 score 기준으로 동선을 구성하는 greedy 경로 추천 함수\n",
    "    \"\"\"\n",
    "    from collections import defaultdict\n",
    "\n",
    "    # 엣지를 점수 기준으로 정렬\n",
    "    scored_edges = list(zip(edge_index[0].tolist(), edge_index[1].tolist(), edge_scores.tolist()))\n",
    "    scored_edges.sort(key=lambda x: -x[2])  # 높은 점수 순\n",
    "\n",
    "    # 경로 생성\n",
    "    visited = set()\n",
    "    route = []\n",
    "\n",
    "    current = start_node if start_node is not None else scored_edges[0][0]\n",
    "    visited.add(current)\n",
    "    route.append(current)\n",
    "\n",
    "    for _ in range(max_steps - 1):\n",
    "        # current에서 시작하는 후보 중 아직 방문하지 않은 곳\n",
    "        candidates = [dst for src, dst, score in scored_edges if src == current and dst not in visited]\n",
    "        if not candidates:\n",
    "            break\n",
    "        next_node = candidates[0]  # greedy하게 최고 점수 선택\n",
    "        visited.add(next_node)\n",
    "        route.append(next_node)\n",
    "        current = next_node\n",
    "\n",
    "    return route  # index 형태\n"
   ]
  },
  {
   "cell_type": "code",
   "execution_count": null,
   "metadata": {},
   "outputs": [],
   "source": [
    "def infer_route(model, data, user_input, travel_input, k=5, device='cpu'):\n",
    "    model.eval()\n",
    "    data = data.to(device)\n",
    "    user_input = user_input.to(device)\n",
    "    travel_input = travel_input.to(device)\n",
    "\n",
    "    with torch.no_grad():\n",
    "        # 1. user_input과 travel_input은 임베딩 전 상태임 (17차원, 21차원)\n",
    "\n",
    "        # 2. 기존 raw feature와 합치기 (같은 차원 기준으로)\n",
    "        x_dict_raw = {\n",
    "            'user': torch.cat([data['user'].x, user_input], dim=0),       # [N+1, 17]\n",
    "            'travel': torch.cat([data['travel'].x, travel_input], dim=0), # [M+1, 21]\n",
    "            'visit_area': data['visit_area'].x                             # [V, 1]\n",
    "        }\n",
    "\n",
    "        # 3. forward: model이 내부에서 임베딩 처리함\n",
    "        x_dict = model(x_dict_raw, data.edge_index_dict)\n",
    "\n",
    "        visit_area_embed = x_dict['visit_area']\n",
    "\n",
    "        # 4. 모든 visit_area 노드 쌍에 대해 link prediction\n",
    "        n = visit_area_embed.size(0)\n",
    "        all_edges = torch.combinations(torch.arange(n, device=device), r=2).t()\n",
    "        edge_scores = model.predict_link(visit_area_embed, all_edges)\n",
    "\n",
    "        # 5. 경로 구성\n",
    "        route = recommend_route(visit_area_embed, all_edges, edge_scores, max_steps=k)\n",
    "\n",
    "    return route\n"
   ]
  },
  {
   "cell_type": "markdown",
   "metadata": {},
   "source": [
    "## 추론 입력 전처리\n",
    "\n",
    "### 1) 유저 정보"
   ]
  },
  {
   "cell_type": "code",
   "execution_count": 653,
   "metadata": {},
   "outputs": [],
   "source": [
    "def get_age_group(birthdate_str):\n",
    "    \"\"\"\n",
    "    'YYYY-MM-DD' 형식의 생년월일 문자열을 받아\n",
    "    20, 30, 40 등의 나이대로 변환하는 함수\n",
    "    \"\"\"\n",
    "    from datetime import datetime\n",
    "    \n",
    "    birth_year = int(birthdate_str[:4])\n",
    "    current_year = datetime.now().year\n",
    "    age = current_year - birth_year + 1  # 한국식 나이\n",
    "    age_group = (age // 10) * 10\n",
    "    return age_group\n",
    "\n",
    "def map_sido(sido:str):\n",
    "    sido_code_map = {\n",
    "        '서울특별시': '11',\n",
    "        '부산광역시': '26',\n",
    "        '대구광역시': '27',\n",
    "        '인천광역시': '28',\n",
    "        '광주광역시': '29',\n",
    "        '대전광역시': '30',\n",
    "        '울산광역시': '31',\n",
    "        '세종특별자치시': '36',\n",
    "        '경기도': '41',\n",
    "        '강원도': '42',\n",
    "        '충청북도': '43',\n",
    "        '충청남도': '44',\n",
    "        '전라북도': '45',\n",
    "        '전라남도': '46',\n",
    "        '경상북도': '47',\n",
    "        '경상남도': '48',\n",
    "        '제주특별자치도': '50'\n",
    "    }\n",
    "\n",
    "    return int(sido_code_map[sido])"
   ]
  },
  {
   "cell_type": "code",
   "execution_count": 654,
   "metadata": {},
   "outputs": [],
   "source": [
    "def process_user_input(user_info:dict):\n",
    "    user_feature_cols = [\n",
    "    'GENDER', 'TRAVEL_TERM', 'TRAVEL_NUM',\n",
    "    'TRAVEL_LIKE_SIDO_1', 'TRAVEL_LIKE_SIDO_2', 'TRAVEL_LIKE_SIDO_3',\n",
    "    'TRAVEL_STYL_1', 'TRAVEL_STYL_2', 'TRAVEL_STYL_3', 'TRAVEL_STYL_4',\n",
    "    'TRAVEL_STYL_5', 'TRAVEL_STYL_6', 'TRAVEL_STYL_7', 'TRAVEL_STYL_8',\n",
    "    'TRAVEL_MOTIVE_1', 'TRAVEL_MOTIVE_2',\n",
    "    'AGE_GRP'\n",
    "    ]\n",
    "    \n",
    "    # 1. 나잇대 계산\n",
    "    user_info['AGE_GRP'] = get_age_group(user_info['BIRTHDATE'])\n",
    "    \n",
    "    # 2. 시도 변환\n",
    "    for i in range(1, 4):\n",
    "        user_info[f\"TRAVEL_LIKE_SIDO_{i}\"] = map_sido(user_info[f\"TRAVEL_LIKE_SIDO_{i}\"])\n",
    "    \n",
    "    # 3. 컬럼 필터링 (순서에 맞게)\n",
    "    user_info = {k: int(user_info[k]) for k in user_feature_cols}\n",
    "    \n",
    "    return pd.DataFrame([user_info]).fillna(0).astype(np.float32).to_numpy()"
   ]
  },
  {
   "cell_type": "code",
   "execution_count": 655,
   "metadata": {},
   "outputs": [
    {
     "name": "stdout",
     "output_type": "stream",
     "text": [
      "(1, 17)\n"
     ]
    },
    {
     "data": {
      "text/plain": [
       "array([[ 1.,  1.,  1., 26., 46., 44.,  4.,  4.,  1.,  5.,  2.,  4.,  3.,\n",
       "         2.,  7.,  7., 20.]], dtype=float32)"
      ]
     },
     "execution_count": 655,
     "metadata": {},
     "output_type": "execute_result"
    }
   ],
   "source": [
    "temp_info = {'USER_ID': 'admin', 'PASSWORD': 'admin', 'CONFIRM_PASSWORD': 'admin', 'NAME': '유상범', 'BIRTHDATE': '1999-08-10', 'GENDER': '1', 'EDU_NM': '6', 'EDU_FNSH_SE': '2', 'MARR_STTS': '1', 'JOB_NM': '1', 'INCOME': '100', 'HOUSE_INCOME': '10000', 'TRAVEL_TERM': '1', 'TRAVEL_LIKE_SIDO_1': '부산광역시', 'TRAVEL_LIKE_SIDO_2': '전라남도', 'TRAVEL_LIKE_SIDO_3': '충청남도', 'TRAVEL_STYL_1': 4, 'TRAVEL_STYL_2': 4, 'TRAVEL_STYL_3': 1, 'TRAVEL_STYL_4': 5, 'TRAVEL_STYL_5': 2, 'TRAVEL_STYL_6': 4, 'TRAVEL_STYL_7': 3, 'TRAVEL_STYL_8': 2, 'TRAVEL_MOTIVE_1': '7', 'TRAVEL_MOTIVE_2': '7', 'FAMILY_MEMB': '1', 'TRAVEL_NUM': '1', 'TRAVEL_COMPANIONS_NUM': '1'}\n",
    "\n",
    "\n",
    "test_user_tensor = process_user_input(temp_info)\n",
    "\n",
    "print(test_user_tensor.shape)\n",
    "test_user_tensor"
   ]
  },
  {
   "cell_type": "markdown",
   "metadata": {},
   "source": [
    "### 2) 여행 정보"
   ]
  },
  {
   "cell_type": "markdown",
   "metadata": {},
   "source": [
    "{'mission_ENC': '0,5,7,9', 'date_range': '2025-05-28 - 2025-05-30', 'start_date': '', 'end_date': '', 'TOTAL_COST': '50', 'MVMN_NM_ENC': '2', 'whowith_ENC': '3', 'mission_type': 'normal'}"
   ]
  },
  {
   "cell_type": "code",
   "execution_count": 656,
   "metadata": {},
   "outputs": [],
   "source": [
    "def process_travel_input(travel_info:dict):\n",
    "    from datetime import datetime\n",
    "    travel_feature_cols = [\n",
    "        'TOTAL_COST_BINNED_ENCODED',\n",
    "        'WITH_PET',\n",
    "        'MONTH',\n",
    "        'DURATION',\n",
    "        'MVMN_기타',\n",
    "        'MVMN_대중교통',\n",
    "        'MVMN_자가용',\n",
    "        'TRAVEL_PURPOSE_1',\n",
    "        'TRAVEL_PURPOSE_2',\n",
    "        'TRAVEL_PURPOSE_3',\n",
    "        'TRAVEL_PURPOSE_4',\n",
    "        'TRAVEL_PURPOSE_5',\n",
    "        'TRAVEL_PURPOSE_6',\n",
    "        'TRAVEL_PURPOSE_7',\n",
    "        'TRAVEL_PURPOSE_8',\n",
    "        'TRAVEL_PURPOSE_9',\n",
    "        'WHOWITH_2인여행',\n",
    "        'WHOWITH_가족여행',\n",
    "        'WHOWITH_기타',\n",
    "        'WHOWITH_단독여행',\n",
    "        'WHOWITH_친구/지인 여행']\n",
    "    \n",
    "    \n",
    "    # mission_ENC에 0 = 반려동물 동반 (WITH_PET)\n",
    "    travel_info['mission_ENC'] = travel_info['mission_ENC'].strip().split(',')\n",
    "    if '0' in travel_info['mission_ENC']:\n",
    "        travel_info['WITH_PET'] = 1\n",
    "    else:\n",
    "        travel_info['WITH_PET'] = 0\n",
    "        \n",
    "    # TRAVEL_PURPOSE_1 ~~ TRAVEL_PURPOSE_9 (0으로 들어온 입력은 제거해줘야됨) \n",
    "    for i in range(1,10):\n",
    "        if str(i) in travel_info['mission_ENC']:\n",
    "            travel_info[f'TRAVEL_PURPOSE_{i}'] = 1\n",
    "        else:\n",
    "            travel_info[f'TRAVEL_PURPOSE_{i}'] = 0\n",
    "        \n",
    "    # MONTH\n",
    "    dates = travel_info['date_range'].split(' - ')\n",
    "    travel_info['start_date'] = datetime.strptime(dates[0].strip(), \"%Y-%m-%d\")\n",
    "    travel_info['end_date'] = datetime.strptime(dates[1].strip(), \"%Y-%m-%d\")\n",
    "    \n",
    "    travel_info['MONTH'] = travel_info['end_date'].month\n",
    "    \n",
    "    # DURATION\n",
    "    travel_info['DURATION'] = (travel_info['end_date'] - travel_info['start_date']).days\n",
    "    \n",
    "    # MNVM_기타, MVMN_대중교통, MVMN_자가용\n",
    "    for m in ['자가용', '대중교통', '기타']:\n",
    "        travel_info[f\"MVMN_{m}\"] = False\n",
    "    \n",
    "    if travel_info['MVMN_NM_ENC'] == '1':\n",
    "        travel_info['MVMN_자가용'] = True\n",
    "    elif travel_info['MVMN_NM_ENC'] == '2':\n",
    "        travel_info['MVMN_대중교통'] = True\n",
    "    else:\n",
    "        travel_info['MVMN_기타'] = True\n",
    "    \n",
    "    # WHOWITH는 1부터 5까지 숫자로 들어옴 -> 원핫 인코딩으로 수정할 것\n",
    "    # dict에 들어오는 숫자 의미: WHOWITH_단독여행, WHOWITH_2인여행, WHOWITH_가족여행, WHOWITH_친구/지인여행, WHOWITH_기타\n",
    "    whowith_onehot = [0] * 5\n",
    "    idx = int(travel_info['whowith_ENC']) - 1\n",
    "    if 0 <= idx < 5:\n",
    "        whowith_onehot[idx] = 1\n",
    "    \n",
    "    travel_info.update({\n",
    "    'WHOWITH_단독여행': whowith_onehot[0],\n",
    "    'WHOWITH_2인여행': whowith_onehot[1],\n",
    "    'WHOWITH_가족여행': whowith_onehot[2],\n",
    "    'WHOWITH_친구/지인 여행': whowith_onehot[3],\n",
    "    'WHOWITH_기타': whowith_onehot[4],\n",
    "    })\n",
    "    \n",
    "    # TOTAL_COST_BINNED_ENCODED\n",
    "    travel_info['TOTAL_COST_BINNED_ENCODED'] = travel_info['TOTAL_COST'][-1]\n",
    "    \n",
    "    # 컬럼 필터링 (순서에 맞게)\n",
    "    travel_info = {k: int(travel_info[k]) for k in travel_feature_cols}\n",
    "    \n",
    "    return pd.DataFrame([travel_info]).fillna(0).astype(np.float32).to_numpy()"
   ]
  },
  {
   "cell_type": "code",
   "execution_count": 657,
   "metadata": {},
   "outputs": [
    {
     "name": "stdout",
     "output_type": "stream",
     "text": [
      "(1, 21)\n"
     ]
    },
    {
     "data": {
      "text/plain": [
       "array([[1., 1., 5., 2., 0., 1., 0., 0., 0., 0., 0., 1., 0., 1., 0., 1.,\n",
       "        0., 1., 0., 0., 0.]], dtype=float32)"
      ]
     },
     "execution_count": 657,
     "metadata": {},
     "output_type": "execute_result"
    }
   ],
   "source": [
    "test_travel = {'mission_ENC': '0,5,7,9', 'date_range': '2025-05-28 - 2025-05-30', 'start_date': '', 'end_date': '', 'TOTAL_COST': '1', 'MVMN_NM_ENC': '2', 'whowith_ENC': '3', 'mission_type': 'normal'}\n",
    "\n",
    "\n",
    "test_travel_tensor = process_travel_input(test_travel)\n",
    "\n",
    "print(test_travel_tensor.shape)\n",
    "test_travel_tensor"
   ]
  },
  {
   "cell_type": "code",
   "execution_count": 658,
   "metadata": {},
   "outputs": [
    {
     "data": {
      "text/plain": [
       "(torch.Size([1, 17]), torch.Size([1, 21]))"
      ]
     },
     "execution_count": 658,
     "metadata": {},
     "output_type": "execute_result"
    }
   ],
   "source": [
    "user_input = torch.tensor(test_user_tensor, dtype=torch.float)  # 17차원\n",
    "travel_input = torch.tensor(test_travel_tensor, dtype=torch.float)  # 21차원\n",
    "\n",
    "user_input.shape, travel_input.shape"
   ]
  },
  {
   "cell_type": "code",
   "execution_count": 691,
   "metadata": {},
   "outputs": [
    {
     "name": "stdout",
     "output_type": "stream",
     "text": [
      "{'user': tensor([[ -6.1258, -11.1092,   7.3248,  ..., -13.1022,  -6.4677,   1.7539],\n",
      "        [ -1.4838,  -8.8236,   2.4118,  ...,  -2.0858,  -5.1666,  -3.3756],\n",
      "        [ -1.8175,  -9.2558,  -0.6166,  ...,  -1.3545,  -2.8330,  -2.7553],\n",
      "        ...,\n",
      "        [ -9.4388,  -6.5148,   1.9036,  ...,   2.7162,  -5.2777,   7.0602],\n",
      "        [  2.2000, -10.1274,   1.2445,  ...,  -2.2761,  -3.9236,  -4.9991],\n",
      "        [  3.1350,  -9.2342,   1.4030,  ...,  -5.6976,  -4.2754,  -4.5423]]), 'travel': tensor([[-0.2774, -0.9591,  0.5795,  ...,  0.9120,  0.2105,  0.3297],\n",
      "        [ 0.0944, -0.8981,  0.4785,  ...,  0.7563,  0.2961,  0.2052],\n",
      "        [-0.6656, -0.5887,  0.2132,  ...,  1.0141,  0.3621,  0.2081],\n",
      "        ...,\n",
      "        [-0.7150, -1.1076,  0.6699,  ...,  1.1899, -0.1484,  0.4139],\n",
      "        [-0.5545, -1.0201,  0.8530,  ...,  1.2654, -0.0839,  0.6337],\n",
      "        [-0.4121, -0.6833,  0.5774,  ...,  0.4632,  0.8349,  0.3017]]), 'visit_area': tensor([[ 0.4129, -0.8827,  0.3039,  ..., -0.6787,  0.6370, -0.8384],\n",
      "        [ 0.4129, -0.8827,  0.3039,  ..., -0.6787,  0.6370, -0.8384],\n",
      "        [ 0.4129, -0.8827,  0.3039,  ..., -0.6787,  0.6370, -0.8384],\n",
      "        ...,\n",
      "        [ 0.4129, -0.8827,  0.3039,  ..., -0.6787,  0.6370, -0.8384],\n",
      "        [ 0.4129, -0.8827,  0.3039,  ..., -0.6787,  0.6370, -0.8384],\n",
      "        [ 0.4129, -0.8827,  0.3039,  ..., -0.6787,  0.6370, -0.8384]])}\n"
     ]
    }
   ],
   "source": [
    "route_indices = infer_route(model, data, user_input, travel_input, k=6)"
   ]
  },
  {
   "cell_type": "code",
   "execution_count": 692,
   "metadata": {},
   "outputs": [
    {
     "name": "stdout",
     "output_type": "stream",
     "text": [
      "추천 동선: [2307300011, 2307300012, 2308040013, 2308160007, 2308290010, 2309110002, 2309110005, 2309110006, 2309110007, 2309110008]\n"
     ]
    }
   ],
   "source": [
    "# visit_area_id로 역매핑\n",
    "index_to_id = {v: k for k, v in visit_area_id_to_index.items()}\n",
    "route_ids = [index_to_id[idx] for idx in route_indices]\n",
    "print(\"추천 동선:\", route_ids)"
   ]
  },
  {
   "cell_type": "code",
   "execution_count": 697,
   "metadata": {},
   "outputs": [
    {
     "name": "stdout",
     "output_type": "stream",
     "text": [
      "2307300011  :  ['서울월드컵경기장']\n",
      "2307300012  :  ['나인 트리 프리미어 로카우스 호텔 서울 용산']\n",
      "2308040013  :  ['청파 책가도']\n",
      "2308160007  :  ['무지개 농원 펜션' '비틀스']\n",
      "2308290010  :  ['상계주공 1단지 아파트' '울산역 주차장']\n",
      "2309110002  :  ['AK플라자 홍대']\n",
      "2309110005  :  ['AK플라자 홍대']\n",
      "2309110006  :  ['수나 코 3호점']\n",
      "2309110007  :  ['훠궈 나라 홍대점']\n",
      "2309110008  :  ['뉴 코인 싱어 노래연습장']\n"
     ]
    }
   ],
   "source": [
    "for id in route_ids:\n",
    "    print(id, \" : \", visit_area_df[visit_area_df['VISIT_AREA_ID'] == id]['VISIT_AREA_NM'].values)"
   ]
  },
  {
   "cell_type": "code",
   "execution_count": 698,
   "metadata": {},
   "outputs": [
    {
     "data": {
      "text/html": [
       "<div>\n",
       "<style scoped>\n",
       "    .dataframe tbody tr th:only-of-type {\n",
       "        vertical-align: middle;\n",
       "    }\n",
       "\n",
       "    .dataframe tbody tr th {\n",
       "        vertical-align: top;\n",
       "    }\n",
       "\n",
       "    .dataframe thead th {\n",
       "        text-align: right;\n",
       "    }\n",
       "</style>\n",
       "<table border=\"1\" class=\"dataframe\">\n",
       "  <thead>\n",
       "    <tr style=\"text-align: right;\">\n",
       "      <th></th>\n",
       "      <th>VISIT_AREA_ID</th>\n",
       "      <th>TRAVEL_ID</th>\n",
       "      <th>VISIT_ORDER</th>\n",
       "      <th>VISIT_AREA_NM</th>\n",
       "      <th>VISIT_START_YMD</th>\n",
       "      <th>VISIT_END_YMD</th>\n",
       "      <th>ROAD_NM_ADDR</th>\n",
       "      <th>LOTNO_ADDR</th>\n",
       "      <th>X_COORD</th>\n",
       "      <th>Y_COORD</th>\n",
       "      <th>...</th>\n",
       "      <th>POI_NM</th>\n",
       "      <th>RESIDENCE_TIME_MIN</th>\n",
       "      <th>VISIT_AREA_TYPE_CD</th>\n",
       "      <th>REVISIT_YN</th>\n",
       "      <th>VISIT_CHC_REASON_CD</th>\n",
       "      <th>LODGING_TYPE_CD</th>\n",
       "      <th>DGSTFN</th>\n",
       "      <th>REVISIT_INTENTION</th>\n",
       "      <th>RCMDTN_INTENTION</th>\n",
       "      <th>SGG_CD</th>\n",
       "    </tr>\n",
       "  </thead>\n",
       "  <tbody>\n",
       "    <tr>\n",
       "      <th>11054</th>\n",
       "      <td>2308160007</td>\n",
       "      <td>e_e005876</td>\n",
       "      <td>6</td>\n",
       "      <td>무지개 농원 펜션</td>\n",
       "      <td>2023-08-16</td>\n",
       "      <td>2023-08-17</td>\n",
       "      <td>경기 가평군 북면 꽃넘이길 115-47</td>\n",
       "      <td>경기 가평군 북면 제령리 557-7</td>\n",
       "      <td>127.518702</td>\n",
       "      <td>37.898967</td>\n",
       "      <td>...</td>\n",
       "      <td>무지개농원펜션</td>\n",
       "      <td>540.0</td>\n",
       "      <td>24</td>\n",
       "      <td>N</td>\n",
       "      <td>2.0</td>\n",
       "      <td>3.0</td>\n",
       "      <td>5.0</td>\n",
       "      <td>5.0</td>\n",
       "      <td>5.0</td>\n",
       "      <td>NaN</td>\n",
       "    </tr>\n",
       "    <tr>\n",
       "      <th>12557</th>\n",
       "      <td>2308160007</td>\n",
       "      <td>e_e007399</td>\n",
       "      <td>7</td>\n",
       "      <td>비틀스</td>\n",
       "      <td>2023-08-16</td>\n",
       "      <td>2023-08-16</td>\n",
       "      <td>서울 서대문구 연세로7길 34-6</td>\n",
       "      <td>서울 서대문구 창천동 52-77</td>\n",
       "      <td>126.935079</td>\n",
       "      <td>37.557961</td>\n",
       "      <td>...</td>\n",
       "      <td>비틀즈</td>\n",
       "      <td>60.0</td>\n",
       "      <td>11</td>\n",
       "      <td>Y</td>\n",
       "      <td>4.0</td>\n",
       "      <td>NaN</td>\n",
       "      <td>5.0</td>\n",
       "      <td>4.0</td>\n",
       "      <td>5.0</td>\n",
       "      <td>NaN</td>\n",
       "    </tr>\n",
       "  </tbody>\n",
       "</table>\n",
       "<p>2 rows × 23 columns</p>\n",
       "</div>"
      ],
      "text/plain": [
       "       VISIT_AREA_ID  TRAVEL_ID  VISIT_ORDER VISIT_AREA_NM VISIT_START_YMD  \\\n",
       "11054     2308160007  e_e005876            6     무지개 농원 펜션      2023-08-16   \n",
       "12557     2308160007  e_e007399            7           비틀스      2023-08-16   \n",
       "\n",
       "      VISIT_END_YMD           ROAD_NM_ADDR           LOTNO_ADDR     X_COORD  \\\n",
       "11054    2023-08-17  경기 가평군 북면 꽃넘이길 115-47  경기 가평군 북면 제령리 557-7  127.518702   \n",
       "12557    2023-08-16     서울 서대문구 연세로7길 34-6    서울 서대문구 창천동 52-77  126.935079   \n",
       "\n",
       "         Y_COORD  ...   POI_NM  RESIDENCE_TIME_MIN VISIT_AREA_TYPE_CD  \\\n",
       "11054  37.898967  ...  무지개농원펜션               540.0                 24   \n",
       "12557  37.557961  ...      비틀즈                60.0                 11   \n",
       "\n",
       "      REVISIT_YN  VISIT_CHC_REASON_CD  LODGING_TYPE_CD DGSTFN  \\\n",
       "11054          N                  2.0              3.0    5.0   \n",
       "12557          Y                  4.0              NaN    5.0   \n",
       "\n",
       "       REVISIT_INTENTION  RCMDTN_INTENTION  SGG_CD  \n",
       "11054                5.0               5.0     NaN  \n",
       "12557                4.0               5.0     NaN  \n",
       "\n",
       "[2 rows x 23 columns]"
      ]
     },
     "execution_count": 698,
     "metadata": {},
     "output_type": "execute_result"
    }
   ],
   "source": [
    "visit_area_df[visit_area_df['VISIT_AREA_ID'] == 2308160007]"
   ]
  },
  {
   "cell_type": "code",
   "execution_count": 700,
   "metadata": {},
   "outputs": [
    {
     "data": {
      "text/html": [
       "<div>\n",
       "<style scoped>\n",
       "    .dataframe tbody tr th:only-of-type {\n",
       "        vertical-align: middle;\n",
       "    }\n",
       "\n",
       "    .dataframe tbody tr th {\n",
       "        vertical-align: top;\n",
       "    }\n",
       "\n",
       "    .dataframe thead th {\n",
       "        text-align: right;\n",
       "    }\n",
       "</style>\n",
       "<table border=\"1\" class=\"dataframe\">\n",
       "  <thead>\n",
       "    <tr style=\"text-align: right;\">\n",
       "      <th></th>\n",
       "      <th>VISIT_AREA_ID</th>\n",
       "      <th>TRAVEL_ID</th>\n",
       "      <th>VISIT_ORDER</th>\n",
       "      <th>VISIT_AREA_NM</th>\n",
       "      <th>VISIT_START_YMD</th>\n",
       "      <th>VISIT_END_YMD</th>\n",
       "      <th>ROAD_NM_ADDR</th>\n",
       "      <th>LOTNO_ADDR</th>\n",
       "      <th>X_COORD</th>\n",
       "      <th>Y_COORD</th>\n",
       "      <th>...</th>\n",
       "      <th>POI_NM</th>\n",
       "      <th>RESIDENCE_TIME_MIN</th>\n",
       "      <th>VISIT_AREA_TYPE_CD</th>\n",
       "      <th>REVISIT_YN</th>\n",
       "      <th>VISIT_CHC_REASON_CD</th>\n",
       "      <th>LODGING_TYPE_CD</th>\n",
       "      <th>DGSTFN</th>\n",
       "      <th>REVISIT_INTENTION</th>\n",
       "      <th>RCMDTN_INTENTION</th>\n",
       "      <th>SGG_CD</th>\n",
       "    </tr>\n",
       "  </thead>\n",
       "  <tbody>\n",
       "    <tr>\n",
       "      <th>9250</th>\n",
       "      <td>2307300012</td>\n",
       "      <td>e_e004784</td>\n",
       "      <td>12</td>\n",
       "      <td>나인 트리 프리미어 로카우스 호텔 서울 용산</td>\n",
       "      <td>2023-07-30</td>\n",
       "      <td>2023-07-31</td>\n",
       "      <td>서울 용산구 한강대로23길 25</td>\n",
       "      <td>서울 용산구 한강로3가 40-1050</td>\n",
       "      <td>126.964386</td>\n",
       "      <td>37.527474</td>\n",
       "      <td>...</td>\n",
       "      <td>나인트리 프리미어 로카우스 호텔 서울 용산</td>\n",
       "      <td>30.0</td>\n",
       "      <td>24</td>\n",
       "      <td>N</td>\n",
       "      <td>7.0</td>\n",
       "      <td>1.0</td>\n",
       "      <td>3.0</td>\n",
       "      <td>3.0</td>\n",
       "      <td>3.0</td>\n",
       "      <td>NaN</td>\n",
       "    </tr>\n",
       "  </tbody>\n",
       "</table>\n",
       "<p>1 rows × 23 columns</p>\n",
       "</div>"
      ],
      "text/plain": [
       "      VISIT_AREA_ID  TRAVEL_ID  VISIT_ORDER             VISIT_AREA_NM  \\\n",
       "9250     2307300012  e_e004784           12  나인 트리 프리미어 로카우스 호텔 서울 용산   \n",
       "\n",
       "     VISIT_START_YMD VISIT_END_YMD       ROAD_NM_ADDR            LOTNO_ADDR  \\\n",
       "9250      2023-07-30    2023-07-31  서울 용산구 한강대로23길 25  서울 용산구 한강로3가 40-1050   \n",
       "\n",
       "         X_COORD    Y_COORD  ...                   POI_NM  RESIDENCE_TIME_MIN  \\\n",
       "9250  126.964386  37.527474  ...  나인트리 프리미어 로카우스 호텔 서울 용산                30.0   \n",
       "\n",
       "     VISIT_AREA_TYPE_CD REVISIT_YN  VISIT_CHC_REASON_CD  LODGING_TYPE_CD  \\\n",
       "9250                 24          N                  7.0              1.0   \n",
       "\n",
       "     DGSTFN  REVISIT_INTENTION  RCMDTN_INTENTION  SGG_CD  \n",
       "9250    3.0                3.0               3.0     NaN  \n",
       "\n",
       "[1 rows x 23 columns]"
      ]
     },
     "execution_count": 700,
     "metadata": {},
     "output_type": "execute_result"
    }
   ],
   "source": [
    "visit_area_df[visit_area_df['VISIT_AREA_ID'] == 2307300012]"
   ]
  },
  {
   "cell_type": "markdown",
   "metadata": {},
   "source": [
    "## VISIT_AREA 중복 문제\n",
    "- 이전 장소와 다음 장소의 좌표를 갖고 동선상의 무리가 없는지 확인\n",
    "- 거리를 바탕으로 필터링 수행"
   ]
  },
  {
   "cell_type": "code",
   "execution_count": 701,
   "metadata": {},
   "outputs": [],
   "source": [
    "import numpy as np\n",
    "\n",
    "def select_best_location_by_distance(route_ids, visit_area_df):\n",
    "    selected_names = []\n",
    "\n",
    "    for idx, vid in enumerate(route_ids):\n",
    "        candidates = visit_area_df[visit_area_df['VISIT_AREA_ID'] == vid]\n",
    "\n",
    "        # 후보가 하나일 경우 바로 선택\n",
    "        if len(candidates) == 1:\n",
    "            selected_names.append(candidates.iloc[0]['VISIT_AREA_NM'])\n",
    "            continue\n",
    "\n",
    "        # 이전/다음 위치 좌표 확보\n",
    "        prev_coord = None\n",
    "        next_coord = None\n",
    "\n",
    "        if idx > 0:\n",
    "            prev_id = route_ids[idx - 1]\n",
    "            prev_row = visit_area_df[visit_area_df['VISIT_AREA_ID'] == prev_id]\n",
    "            if not prev_row.empty:\n",
    "                prev_coord = (prev_row.iloc[0]['X_COORD'], prev_row.iloc[0]['Y_COORD'])\n",
    "\n",
    "        if idx < len(route_ids) - 1:\n",
    "            next_id = route_ids[idx + 1]\n",
    "            next_row = visit_area_df[visit_area_df['VISIT_AREA_ID'] == next_id]\n",
    "            if not next_row.empty:\n",
    "                next_coord = (next_row.iloc[0]['X_COORD'], next_row.iloc[0]['Y_COORD'])\n",
    "\n",
    "        # 거리 계산 함수\n",
    "        def total_distance(row):\n",
    "            x, y = row['X_COORD'], row['Y_COORD']\n",
    "            dist = 0\n",
    "            if prev_coord:\n",
    "                dist += np.linalg.norm(np.array([x, y]) - np.array(prev_coord))\n",
    "            if next_coord:\n",
    "                dist += np.linalg.norm(np.array([x, y]) - np.array(next_coord))\n",
    "            return dist\n",
    "\n",
    "        # 최단 거리 후보 선택\n",
    "        best_row = candidates.loc[candidates.apply(total_distance, axis=1).idxmin()]\n",
    "        selected_names.append(best_row['VISIT_AREA_NM'])\n",
    "\n",
    "    return selected_names"
   ]
  },
  {
   "cell_type": "code",
   "execution_count": 702,
   "metadata": {},
   "outputs": [
    {
     "name": "stdout",
     "output_type": "stream",
     "text": [
      "2307300011 : 서울월드컵경기장\n",
      "2307300012 : 나인 트리 프리미어 로카우스 호텔 서울 용산\n",
      "2308040013 : 청파 책가도\n",
      "2308160007 : 비틀스\n",
      "2308290010 : 상계주공 1단지 아파트\n",
      "2309110002 : AK플라자 홍대\n",
      "2309110005 : AK플라자 홍대\n",
      "2309110006 : 수나 코 3호점\n",
      "2309110007 : 훠궈 나라 홍대점\n",
      "2309110008 : 뉴 코인 싱어 노래연습장\n"
     ]
    }
   ],
   "source": [
    "names = select_best_location_by_distance(route_ids, visit_area_df)\n",
    "\n",
    "for vid, name in zip(route_ids, names):\n",
    "    print(vid, \":\", name)"
   ]
  },
  {
   "cell_type": "markdown",
   "metadata": {},
   "source": [
    "# 모델 및 pkl 파일 저장"
   ]
  },
  {
   "cell_type": "code",
   "execution_count": 708,
   "metadata": {},
   "outputs": [],
   "source": [
    "import pickle\n",
    "\n",
    "# 모델 저장\n",
    "torch.save(model.state_dict(), './pickle/routegnn_model.pt')\n",
    "\n",
    "# ID 매핑 저장\n",
    "with open('./pickle/user_id_to_index.pkl', 'wb') as f:\n",
    "    pickle.dump(user_id_to_index, f)\n",
    "\n",
    "with open('./pickle/travel_id_to_index.pkl', 'wb') as f:\n",
    "    pickle.dump(travel_id_to_index, f)\n",
    "\n",
    "with open('./pickle/visit_area_id_to_index.pkl', 'wb') as f:\n",
    "    pickle.dump(visit_area_id_to_index, f)\n",
    "    \n",
    "with open('./pickle/dataset.pkl', 'wb') as f:\n",
    "    pickle.dump(data, f)\n",
    "\n",
    "# 장소 정보 저장\n",
    "visit_area_df.to_pickle('./pickle/visit_area_df.pkl')"
   ]
  }
 ],
 "metadata": {
  "kernelspec": {
   "display_name": "llm",
   "language": "python",
   "name": "python3"
  },
  "language_info": {
   "codemirror_mode": {
    "name": "ipython",
    "version": 3
   },
   "file_extension": ".py",
   "mimetype": "text/x-python",
   "name": "python",
   "nbconvert_exporter": "python",
   "pygments_lexer": "ipython3",
   "version": "3.10.13"
  }
 },
 "nbformat": 4,
 "nbformat_minor": 2
}
