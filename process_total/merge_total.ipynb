{
 "cells": [
  {
   "cell_type": "markdown",
   "metadata": {},
   "source": [
    "# 데이터 병합"
   ]
  },
  {
   "cell_type": "code",
   "execution_count": 2,
   "metadata": {},
   "outputs": [],
   "source": [
    "import os\n",
    "import pandas as pd"
   ]
  },
  {
   "cell_type": "code",
   "execution_count": 3,
   "metadata": {},
   "outputs": [],
   "source": [
    "# 데이터 디렉토리\n",
    "data_dir = '../csv_data'\n",
    "\n",
    "# 데이터 종류별로 이름을 맞춰줄 dict (파일명 패턴 기반)\n",
    "# 키: 최종 병합 결과 CSV명 / 값: 패턴에 들어갈 문자열\n",
    "data_types = {\n",
    "    '여행_total.csv': '여행_',\n",
    "    '여행객_total.csv': 'Master',\n",
    "    '동반자_total.csv': '동반자정보',\n",
    "    '방문지_total.csv': '방문지정보',\n",
    "    '활동소비내역_total.csv': '활동소비내역',\n",
    "    '이동소비내역_total.csv': '이동내역_',\n",
    "    '숙박소비내역_total.csv': '숙박소비내역',\n",
    "    '사전소비내역_total.csv': '사전소비내역',   \n",
    "    '관광사진_total.csv': '관광사진',           \n",
    "    '이동수단소비내역_total.csv': '이동수단소비내역'\n",
    "}"
   ]
  },
  {
   "cell_type": "code",
   "execution_count": 5,
   "metadata": {},
   "outputs": [
    {
     "name": "stdout",
     "output_type": "stream",
     "text": [
      "서부권 _csv_train tn_lodge_consume_his_숙박소비내역_G.csv (1333, 18)\n",
      "서부권 _csv_train tn_activity_consume_his_활동소비내역_G.csv (15841, 18)\n",
      "서부권 _csv_train tn_mvmn_consume_his_이동수단소비내역_G.csv (5419, 13)\n",
      "서부권 _csv_train tn_adv_consume_his_사전소비내역_G.csv (534, 15)\n",
      "서부권 _csv_train tn_travel_여행_G.csv (2560, 10)\n",
      "서부권 _csv_train tn_visit_area_info_방문지정보_G.csv (28389, 23)\n",
      "서부권 _csv_train tn_companion_info_동반자정보_G.csv (3808, 6)\n",
      "서부권 _csv_train tn_move_his_이동내역_G.csv (28389, 8)\n",
      "서부권 _csv_train tn_tour_photo_관광사진_G.csv (14732, 12)\n",
      "서부권 _csv_train tn_traveller_master_여행객 Master_G.csv (2560, 36)\n",
      "서부권 _csv_val tn_lodge_consume_his_숙박소비내역_G.csv (162, 18)\n",
      "서부권 _csv_val tn_activity_consume_his_활동소비내역_G.csv (1875, 18)\n",
      "서부권 _csv_val tn_mvmn_consume_his_이동수단소비내역_G.csv (683, 13)\n",
      "서부권 _csv_val tn_adv_consume_his_사전소비내역_G.csv (88, 15)\n",
      "서부권 _csv_val tn_travel_여행_G.csv (320, 10)\n",
      "서부권 _csv_val tn_visit_area_info_방문지정보_G.csv (3486, 23)\n",
      "서부권 _csv_val tn_companion_info_동반자정보_G.csv (464, 6)\n",
      "서부권 _csv_val tn_move_his_이동내역_G.csv (3486, 8)\n",
      "서부권 _csv_val tn_tour_photo_관광사진_G.csv (1817, 12)\n",
      "서부권 _csv_val tn_traveller_master_여행객 Master_G.csv (320, 36)\n",
      "동부권 _csv_train tn_activity_consume_his_활동소비내역_F.csv (16352, 18)\n",
      "동부권 _csv_train tn_lodge_consume_his_숙박소비내역_F.csv (1454, 18)\n",
      "동부권 _csv_train tn_mvmn_consume_his_이동수단소비내역_F.csv (6103, 13)\n",
      "동부권 _csv_train tn_adv_consume_his_사전소비내역_F.csv (629, 15)\n",
      "동부권 _csv_train tn_travel_여행_F.csv (2560, 10)\n",
      "동부권 _csv_train tn_visit_area_info_방문지정보_F.csv (29392, 23)\n",
      "동부권 _csv_train tn_companion_info_동반자정보_F.csv (3920, 6)\n",
      "동부권 _csv_train tn_tour_photo_관광사진_F.csv (14507, 12)\n",
      "동부권 _csv_train tn_move_his_이동내역_F.csv (29392, 8)\n",
      "동부권 _csv_train tn_traveller_master_여행객 Master_F.csv (2560, 36)\n",
      "동부권 _csv_val tn_activity_consume_his_활동소비내역_F.csv (2071, 18)\n",
      "동부권 _csv_val tn_lodge_consume_his_숙박소비내역_F.csv (170, 18)\n",
      "동부권 _csv_val tn_mvmn_consume_his_이동수단소비내역_F.csv (760, 13)\n",
      "동부권 _csv_val tn_adv_consume_his_사전소비내역_F.csv (76, 15)\n",
      "동부권 _csv_val tn_travel_여행_F.csv (320, 10)\n",
      "동부권 _csv_val tn_visit_area_info_방문지정보_F.csv (3538, 23)\n",
      "동부권 _csv_val tn_companion_info_동반자정보_F.csv (490, 6)\n",
      "동부권 _csv_val tn_tour_photo_관광사진_F.csv (1759, 12)\n",
      "동부권 _csv_val tn_move_his_이동내역_F.csv (3538, 8)\n",
      "동부권 _csv_val tn_traveller_master_여행객 Master_F.csv (320, 36)\n",
      "제주도 및 도서지역 _csv_train tn_traveller_master_여행객 Master_H.csv (2560, 36)\n",
      "제주도 및 도서지역 _csv_train tn_companion_info_동반자정보_H.csv (3951, 6)\n",
      "제주도 및 도서지역 _csv_train tn_move_his_이동내역_H.csv (46009, 8)\n",
      "제주도 및 도서지역 _csv_train tn_tour_photo_관광사진_H.csv (15385, 12)\n",
      "제주도 및 도서지역 _csv_train tn_visit_area_info_방문지정보_H.csv (46009, 23)\n",
      "제주도 및 도서지역 _csv_train tn_adv_consume_his_사전소비내역_H.csv (595, 15)\n",
      "제주도 및 도서지역 _csv_train tn_travel_여행_H.csv (2560, 10)\n",
      "제주도 및 도서지역 _csv_train tn_lodge_consume_his_숙박소비내역_H.csv (3143, 18)\n",
      "제주도 및 도서지역 _csv_train tn_activity_consume_his_활동소비내역_H.csv (26942, 18)\n",
      "제주도 및 도서지역 _csv_train tn_mvmn_consume_his_이동수단소비내역_H.csv (8322, 13)\n",
      "제주도 및 도서지역 _csv_val tn_traveller_master_여행객 Master_H.csv (320, 36)\n",
      "제주도 및 도서지역 _csv_val tn_companion_info_동반자정보_H.csv (476, 6)\n",
      "제주도 및 도서지역 _csv_val tn_move_his_이동내역_H.csv (5587, 8)\n",
      "제주도 및 도서지역 _csv_val tn_tour_photo_관광사진_H.csv (1839, 12)\n",
      "제주도 및 도서지역 _csv_val tn_visit_area_info_방문지정보_H.csv (5587, 23)\n",
      "제주도 및 도서지역 _csv_val tn_adv_consume_his_사전소비내역_H.csv (72, 15)\n",
      "제주도 및 도서지역 _csv_val tn_travel_여행_H.csv (320, 10)\n",
      "제주도 및 도서지역 _csv_val tn_lodge_consume_his_숙박소비내역_H.csv (377, 18)\n",
      "제주도 및 도서지역 _csv_val tn_activity_consume_his_활동소비내역_H.csv (3184, 18)\n",
      "제주도 및 도서지역 _csv_val tn_mvmn_consume_his_이동수단소비내역_H.csv (1029, 13)\n",
      "수도권 _csv_train tn_mvmn_consume_his_이동수단소비내역_E.csv (4122, 13)\n",
      "수도권 _csv_train tn_activity_consume_his_활동소비내역_E.csv (11739, 18)\n",
      "수도권 _csv_train tn_lodge_consume_his_숙박소비내역_E.csv (745, 18)\n",
      "수도권 _csv_train tn_travel_여행_E.csv (2560, 10)\n",
      "수도권 _csv_train tn_adv_consume_his_사전소비내역_E.csv (625, 15)\n",
      "수도권 _csv_train tn_visit_area_info_방문지정보_E.csv (21384, 23)\n",
      "수도권 _csv_train tn_tour_photo_관광사진_E.csv (14627, 12)\n",
      "수도권 _csv_train tn_move_his_이동내역_E.csv (21384, 8)\n",
      "수도권 _csv_train tn_companion_info_동반자정보_E.csv (3537, 6)\n",
      "수도권 _csv_train tn_traveller_master_여행객 Master_E.csv (2560, 36)\n",
      "수도권 _csv_val tn_mvmn_consume_his_이동수단소비내역_E.csv (502, 13)\n",
      "수도권 _csv_val tn_activity_consume_his_활동소비내역_E.csv (1536, 18)\n",
      "수도권 _csv_val tn_lodge_consume_his_숙박소비내역_E.csv (98, 18)\n",
      "수도권 _csv_val tn_travel_여행_E.csv (320, 10)\n",
      "수도권 _csv_val tn_adv_consume_his_사전소비내역_E.csv (91, 15)\n",
      "수도권 _csv_val tn_visit_area_info_방문지정보_E.csv (2770, 23)\n",
      "수도권 _csv_val tn_tour_photo_관광사진_E.csv (1842, 12)\n",
      "수도권 _csv_val tn_move_his_이동내역_E.csv (2770, 8)\n",
      "수도권 _csv_val tn_companion_info_동반자정보_E.csv (440, 6)\n",
      "수도권 _csv_val tn_traveller_master_여행객 Master_E.csv (320, 36)\n"
     ]
    }
   ],
   "source": [
    "# 각 데이터 종류별로 합친 DataFrame 저장\n",
    "final_data = {name: [] for name in data_types.keys()}\n",
    "\n",
    "# 지역 폴더\n",
    "region_list = [r for r in os.listdir(data_dir) if not r.startswith('.')]\n",
    "\n",
    "for region in region_list:\n",
    "    region_path = os.path.join(data_dir, region)\n",
    "    \n",
    "    for data_type in ['_csv_train', '_csv_val']:\n",
    "        type_dir = region + data_type\n",
    "        type_path = os.path.join(region_path, type_dir)\n",
    "        \n",
    "        if not os.path.exists(type_path):\n",
    "            continue\n",
    "        \n",
    "        csv_files = [f for f in os.listdir(type_path) if f.endswith('.csv')]\n",
    "        \n",
    "        for csv_file in csv_files:\n",
    "            file_path = os.path.join(type_path, csv_file)\n",
    "            \n",
    "            for final_name, pattern in data_types.items():\n",
    "                if pattern in csv_file:\n",
    "                    try:\n",
    "                        df = pd.read_csv(file_path)\n",
    "                        print(region, data_type, csv_file, df.shape)\n",
    "                        # 필요에 따라 지역과 타입 정보 컬럼을 추가할 수도 있음 (옵션)\n",
    "                        final_data[final_name].append(df)\n",
    "                    except Exception as e:\n",
    "                        print(f\"⚠️ 파일 읽기 실패: {file_path} - {e}\")"
   ]
  },
  {
   "cell_type": "code",
   "execution_count": 6,
   "metadata": {},
   "outputs": [
    {
     "name": "stdout",
     "output_type": "stream",
     "text": [
      "여행_total.csv 파일로 저장 완료! (shape: (11520, 10))\n",
      "여행객_total.csv 파일로 저장 완료! (shape: (11520, 36))\n",
      "동반자_total.csv 파일로 저장 완료! (shape: (17086, 6))\n",
      "방문지_total.csv 파일로 저장 완료! (shape: (140555, 23))\n",
      "활동소비내역_total.csv 파일로 저장 완료! (shape: (79540, 18))\n",
      "이동소비내역_total.csv 파일로 저장 완료! (shape: (140555, 8))\n",
      "숙박소비내역_total.csv 파일로 저장 완료! (shape: (7482, 18))\n",
      "사전소비내역_total.csv 파일로 저장 완료! (shape: (2710, 15))\n",
      "관광사진_total.csv 파일로 저장 완료! (shape: (66508, 12))\n",
      "이동수단소비내역_total.csv 파일로 저장 완료! (shape: (26940, 13))\n"
     ]
    }
   ],
   "source": [
    "# 병합된 데이터프레임 저장\n",
    "output_dir = './merged_csv'  # 저장할 디렉토리\n",
    "os.makedirs(output_dir, exist_ok=True)\n",
    "\n",
    "for final_name, df_list in final_data.items():\n",
    "    if df_list:  # 파일이 존재하면\n",
    "        merged_df = pd.concat(df_list, ignore_index=True)\n",
    "        save_path = os.path.join(output_dir, final_name)\n",
    "        merged_df.to_csv(save_path, index=False)\n",
    "        print(f\"{final_name} 파일로 저장 완료! (shape: {merged_df.shape})\")\n",
    "    else:\n",
    "        print(f\"{final_name}에 해당하는 데이터가 없습니다.\")"
   ]
  }
 ],
 "metadata": {
  "kernelspec": {
   "display_name": "llm",
   "language": "python",
   "name": "python3"
  },
  "language_info": {
   "codemirror_mode": {
    "name": "ipython",
    "version": 3
   },
   "file_extension": ".py",
   "mimetype": "text/x-python",
   "name": "python",
   "nbconvert_exporter": "python",
   "pygments_lexer": "ipython3",
   "version": "3.10.13"
  }
 },
 "nbformat": 4,
 "nbformat_minor": 2
}
