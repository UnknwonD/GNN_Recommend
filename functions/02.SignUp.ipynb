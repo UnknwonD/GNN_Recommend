{
 "cells": [
  {
   "cell_type": "code",
   "execution_count": 51,
   "metadata": {},
   "outputs": [],
   "source": [
    "import pandas as pd\n",
    "import numpy as np\n",
    "import joblib\n",
    "import faiss"
   ]
  },
  {
   "cell_type": "code",
   "execution_count": null,
   "metadata": {},
   "outputs": [],
   "source": [
    "user = joblib.load('user.pkl') # 실제로는 S3 버킷에서 로드"
   ]
  },
  {
   "cell_type": "code",
   "execution_count": 53,
   "metadata": {},
   "outputs": [
    {
     "data": {
      "text/plain": [
       "{'USER_ID': 'admin3',\n",
       " 'PASSWORD': 'admin3',\n",
       " 'CONFIRM_PASSWORD': 'admin3',\n",
       " 'NAME': '유상범',\n",
       " 'BIRTHDATE': '1999-11-15',\n",
       " 'GENDER': '1',\n",
       " 'EDU_NM': '4',\n",
       " 'EDU_FNSH_SE': '1',\n",
       " 'MARR_STTS': '2',\n",
       " 'JOB_NM': '5',\n",
       " 'INCOME': '800',\n",
       " 'HOUSE_INCOME': '3200',\n",
       " 'TRAVEL_TERM': '1',\n",
       " 'TRAVEL_LIKE_SIDO_1': '부산광역시',\n",
       " 'TRAVEL_LIKE_SIDO_2': '대전광역시',\n",
       " 'TRAVEL_LIKE_SIDO_3': '서울특별시',\n",
       " 'TRAVEL_STYL_1': '6',\n",
       " 'TRAVEL_STYL_2': '2',\n",
       " 'TRAVEL_STYL_3': '3',\n",
       " 'TRAVEL_STYL_4': '5',\n",
       " 'TRAVEL_STYL_5': '2',\n",
       " 'TRAVEL_STYL_6': '7',\n",
       " 'TRAVEL_STYL_7': '7',\n",
       " 'TRAVEL_STYL_8': '7',\n",
       " 'TRAVEL_MOTIVE_1': '2',\n",
       " 'TRAVEL_MOTIVE_2': '1',\n",
       " 'FAMILY_MEMB': '2',\n",
       " 'TRAVEL_NUM': '3',\n",
       " 'TRAVEL_COMPANIONS_NUM': '3',\n",
       " 'uuid': 'd01f3159-4813-4d05-aadb-0c3b2c3af852',\n",
       " 'AGE_GRP': '20',\n",
       " 'phone_number': '01044280700'}"
      ]
     },
     "execution_count": 53,
     "metadata": {},
     "output_type": "execute_result"
    }
   ],
   "source": [
    "user"
   ]
  },
  {
   "cell_type": "code",
   "execution_count": 79,
   "metadata": {},
   "outputs": [],
   "source": [
    "categorical_cols = [\n",
    "    'GENDER', 'EDU_NM', 'EDU_FNSH_SE', 'MARR_STTS', 'JOB_NM',\n",
    "    'HOUSE_INCOME', 'TRAVEL_TERM',\n",
    "    'TRAVEL_LIKE_SIDO_1', 'TRAVEL_LIKE_SIDO_2', 'TRAVEL_LIKE_SIDO_3',\n",
    "]\n",
    "\n",
    "numerical_cols = [\n",
    "    'AGE_GRP', 'FAMILY_MEMB', 'TRAVEL_NUM', 'TRAVEL_COMPANIONS_NUM',\n",
    "    'TRAVEL_STYL_1', 'TRAVEL_STYL_2', 'TRAVEL_STYL_3', 'TRAVEL_STYL_4',\n",
    "    'TRAVEL_STYL_5', 'TRAVEL_STYL_6', 'TRAVEL_STYL_7', 'TRAVEL_STYL_8',\n",
    "    'TRAVEL_MOTIVE_1', 'TRAVEL_MOTIVE_2',\n",
    "    'INCOME'\n",
    "]\n",
    "\n",
    "use_cols = categorical_cols + numerical_cols"
   ]
  },
  {
   "cell_type": "code",
   "execution_count": 80,
   "metadata": {},
   "outputs": [
    {
     "data": {
      "text/plain": [
       "{'GENDER': '1',\n",
       " 'EDU_NM': '4',\n",
       " 'EDU_FNSH_SE': '1',\n",
       " 'MARR_STTS': '2',\n",
       " 'JOB_NM': '5',\n",
       " 'HOUSE_INCOME': '3200',\n",
       " 'TRAVEL_TERM': '1',\n",
       " 'TRAVEL_LIKE_SIDO_1': '부산광역시',\n",
       " 'TRAVEL_LIKE_SIDO_2': '대전광역시',\n",
       " 'TRAVEL_LIKE_SIDO_3': '서울특별시',\n",
       " 'AGE_GRP': 20,\n",
       " 'FAMILY_MEMB': 2,\n",
       " 'TRAVEL_NUM': 3,\n",
       " 'TRAVEL_COMPANIONS_NUM': 3,\n",
       " 'TRAVEL_STYL_1': 6,\n",
       " 'TRAVEL_STYL_2': 2,\n",
       " 'TRAVEL_STYL_3': 3,\n",
       " 'TRAVEL_STYL_4': 5,\n",
       " 'TRAVEL_STYL_5': 2,\n",
       " 'TRAVEL_STYL_6': 7,\n",
       " 'TRAVEL_STYL_7': 7,\n",
       " 'TRAVEL_STYL_8': 7,\n",
       " 'TRAVEL_MOTIVE_1': 2,\n",
       " 'TRAVEL_MOTIVE_2': 1,\n",
       " 'INCOME': 800}"
      ]
     },
     "execution_count": 80,
     "metadata": {},
     "output_type": "execute_result"
    }
   ],
   "source": [
    "filtered_user = {key: user[key] if key not in numerical_cols else int(user[key]) for key in use_cols if key in user}\n",
    "filtered_user"
   ]
  },
  {
   "cell_type": "code",
   "execution_count": 81,
   "metadata": {},
   "outputs": [],
   "source": [
    "pipeline = joblib.load('../data/VL_CSV/tn_traveller_pipeline.pkl')"
   ]
  },
  {
   "cell_type": "code",
   "execution_count": 82,
   "metadata": {},
   "outputs": [],
   "source": [
    "sgg = pd.read_csv('../data/VL_csv/tc_sgg_시군구코드.csv')"
   ]
  },
  {
   "cell_type": "code",
   "execution_count": 83,
   "metadata": {},
   "outputs": [
    {
     "data": {
      "text/plain": [
       "{'GENDER': '1',\n",
       " 'EDU_NM': '4',\n",
       " 'EDU_FNSH_SE': '1',\n",
       " 'MARR_STTS': '2',\n",
       " 'JOB_NM': '5',\n",
       " 'HOUSE_INCOME': '3200',\n",
       " 'TRAVEL_TERM': '1',\n",
       " 'TRAVEL_LIKE_SIDO_1': '부산광역시',\n",
       " 'TRAVEL_LIKE_SIDO_2': '대전광역시',\n",
       " 'TRAVEL_LIKE_SIDO_3': '서울특별시',\n",
       " 'AGE_GRP': 20,\n",
       " 'FAMILY_MEMB': 2,\n",
       " 'TRAVEL_NUM': 3,\n",
       " 'TRAVEL_COMPANIONS_NUM': 3,\n",
       " 'TRAVEL_STYL_1': 6,\n",
       " 'TRAVEL_STYL_2': 2,\n",
       " 'TRAVEL_STYL_3': 3,\n",
       " 'TRAVEL_STYL_4': 5,\n",
       " 'TRAVEL_STYL_5': 2,\n",
       " 'TRAVEL_STYL_6': 7,\n",
       " 'TRAVEL_STYL_7': 7,\n",
       " 'TRAVEL_STYL_8': 7,\n",
       " 'TRAVEL_MOTIVE_1': 2,\n",
       " 'TRAVEL_MOTIVE_2': 1,\n",
       " 'INCOME': 800}"
      ]
     },
     "execution_count": 83,
     "metadata": {},
     "output_type": "execute_result"
    }
   ],
   "source": [
    "filtered_user"
   ]
  },
  {
   "cell_type": "code",
   "execution_count": 84,
   "metadata": {},
   "outputs": [],
   "source": [
    "filtered_user = pd.DataFrame([filtered_user])"
   ]
  },
  {
   "cell_type": "code",
   "execution_count": 85,
   "metadata": {},
   "outputs": [],
   "source": [
    "filtered_user.loc[0, 'TRAVEL_LIKE_SIDO_1'] = sgg[sgg['SIDO_NM'] == filtered_user.loc[0, 'TRAVEL_LIKE_SIDO_1']]['SGG_CD1'].values[0]\n",
    "filtered_user.loc[0, 'TRAVEL_LIKE_SIDO_2'] = sgg[sgg['SIDO_NM'] == filtered_user.loc[0, 'TRAVEL_LIKE_SIDO_2']]['SGG_CD1'].values[0]\n",
    "filtered_user.loc[0, 'TRAVEL_LIKE_SIDO_3'] = sgg[sgg['SIDO_NM'] == filtered_user.loc[0, 'TRAVEL_LIKE_SIDO_3']]['SGG_CD1'].values[0]\n"
   ]
  },
  {
   "cell_type": "code",
   "execution_count": 86,
   "metadata": {},
   "outputs": [
    {
     "data": {
      "text/plain": [
       "array([[ 0.        ,  0.        ,  0.        ,  0.        ,  0.        ,\n",
       "         0.        ,  0.        ,  0.        ,  0.        ,  0.        ,\n",
       "         0.        ,  0.        ,  0.        ,  0.        ,  0.        ,\n",
       "         0.        ,  0.        ,  0.        ,  0.        ,  0.        ,\n",
       "         0.        ,  0.        ,  0.        ,  0.        ,  0.        ,\n",
       "         0.        ,  0.        ,  0.        ,  0.        ,  0.        ,\n",
       "         0.        ,  0.        ,  0.        ,  0.        ,  0.        ,\n",
       "         0.        ,  0.        ,  0.        ,  0.        ,  0.        ,\n",
       "         0.        ,  0.        ,  0.        ,  0.        ,  0.        ,\n",
       "         0.        ,  0.        ,  0.        ,  0.        ,  0.        ,\n",
       "         0.        ,  0.        ,  0.        ,  0.        ,  0.        ,\n",
       "         0.        ,  0.        ,  0.        ,  0.        ,  0.        ,\n",
       "         0.        ,  0.        ,  0.        ,  0.        ,  0.        ,\n",
       "         1.        ,  0.        ,  0.        ,  1.        ,  0.        ,\n",
       "         0.        ,  0.        ,  0.        ,  0.        ,  0.        ,\n",
       "         0.        ,  1.        ,  0.        ,  0.        ,  0.        ,\n",
       "         0.        ,  0.        ,  0.        ,  0.        ,  0.        ,\n",
       "         1.        ,  0.        ,  0.        ,  0.        ,  1.        ,\n",
       "         0.        ,  0.        ,  0.        ,  0.        ,  0.        ,\n",
       "         0.        ,  0.        ,  0.        ,  0.        ,  0.        ,\n",
       "         0.        ,  1.        ,  0.        ,  0.        ,  0.        ,\n",
       "         0.        ,  0.        ,  0.        ,  1.        ,  0.        ,\n",
       "         0.        ,  0.        ,  0.        ,  0.        ,  0.        ,\n",
       "         1.        ,  0.        ,  1.        ,  0.        ,  0.        ,\n",
       "         0.        ,  0.        ,  0.        ,  0.        ,  0.        ,\n",
       "         0.        ,  1.        ,  0.        ,  0.        ,  0.        ,\n",
       "         0.        ,  0.        ,  0.        ,  0.        ,  0.        ,\n",
       "         0.        , -1.00991269, -1.32059141,  0.10609982,  0.96006377,\n",
       "        -1.07159211, -0.76069347, -2.21516339]])"
      ]
     },
     "execution_count": 86,
     "metadata": {},
     "output_type": "execute_result"
    }
   ],
   "source": [
    "pipeline.named_steps['preprocess'].transform(filtered_user)"
   ]
  },
  {
   "cell_type": "markdown",
   "metadata": {},
   "source": [
    "# Faiss 분석"
   ]
  },
  {
   "cell_type": "code",
   "execution_count": 87,
   "metadata": {},
   "outputs": [],
   "source": [
    "df = pd.read_csv(\"../data/VL_csv/tn_traveller_master_여행객 Master_E.csv\")"
   ]
  },
  {
   "cell_type": "code",
   "execution_count": 88,
   "metadata": {},
   "outputs": [],
   "source": [
    "X_all = joblib.load('../data/VL_CSV/X_all.pkl')"
   ]
  },
  {
   "cell_type": "code",
   "execution_count": 89,
   "metadata": {},
   "outputs": [],
   "source": [
    "input_vec = pipeline.named_steps['preprocess'].transform(filtered_user)"
   ]
  },
  {
   "cell_type": "code",
   "execution_count": 90,
   "metadata": {},
   "outputs": [
    {
     "name": "stdout",
     "output_type": "stream",
     "text": [
      "Top 10 유사 유저 인덱스: [ 871  638 1370    9  680 1750 1725  109  327 1880]\n",
      "Top 10 거리: [23.75035  24.47649  25.664268 26.398006 26.730734 26.812914 26.941628\n",
      " 27.135815 27.183735 27.379505]\n",
      "     TRAVELER_ID  AGE_GRP TRAVEL_STATUS_DESTINATION\n",
      "871      e002253       40                        경기\n",
      "638      e002233       20                        경기\n",
      "1370     e002536       20                        서울\n",
      "9        e000655       50                        경기\n",
      "680      e001025       30                        경기\n",
      "1750     e001577       20                        경기\n",
      "1725     e010255       30                        경기\n",
      "109      e003867       20                        경기\n",
      "327      e010200       40                        경기\n",
      "1880     e011858       20                        경기\n"
     ]
    }
   ],
   "source": [
    "# X_all: 모든 사용자 벡터 (n_users, n_features)\n",
    "# input_vec: 추천 대상 사용자 벡터 (1, n_features)\n",
    "\n",
    "# float32로 변환\n",
    "X_all = X_all.astype('float32')\n",
    "input_vec = input_vec.astype('float32')\n",
    "\n",
    "# Index 생성 (IndexFlatL2)\n",
    "d = X_all.shape[1]  # feature 수\n",
    "index = faiss.IndexFlatL2(d)  # L2 거리 기반\n",
    "\n",
    "# 인덱스에 전체 유저 벡터 추가\n",
    "index.add(X_all)\n",
    "\n",
    "# 유사 유저 top 10 검색\n",
    "k = 10\n",
    "D, I = index.search(input_vec, k)  # D: 거리, I: 인덱스\n",
    "\n",
    "# 결과 출력\n",
    "print(\"Top 10 유사 유저 인덱스:\", I[0])\n",
    "print(\"Top 10 거리:\", D[0])\n",
    "\n",
    "# 유사 유저 정보 확인\n",
    "similar_users = df.iloc[I[0]]\n",
    "print(similar_users[['TRAVELER_ID', 'AGE_GRP', 'TRAVEL_STATUS_DESTINATION']])"
   ]
  },
  {
   "cell_type": "code",
   "execution_count": 91,
   "metadata": {},
   "outputs": [],
   "source": [
    "travel = pd.read_csv('../data/VL_CSV/tn_travel_여행_E.csv')\n",
    "area = pd.read_csv('../data/VL_CSV/tn_visit_area_info_방문지정보_Cleaned_E.csv')"
   ]
  },
  {
   "cell_type": "code",
   "execution_count": 92,
   "metadata": {},
   "outputs": [
    {
     "data": {
      "text/plain": [
       "10"
      ]
     },
     "execution_count": 92,
     "metadata": {},
     "output_type": "execute_result"
    }
   ],
   "source": [
    "travel = travel[travel['TRAVELER_ID'].isin(similar_users['TRAVELER_ID'])]\n",
    "len(travel)"
   ]
  },
  {
   "cell_type": "code",
   "execution_count": 93,
   "metadata": {},
   "outputs": [
    {
     "data": {
      "text/plain": [
       "72"
      ]
     },
     "execution_count": 93,
     "metadata": {},
     "output_type": "execute_result"
    }
   ],
   "source": [
    "travel_ids = travel['TRAVEL_ID'].to_list()\n",
    "filter_area = ['집', '사무실', '학교', '기타']\n",
    "area = area[(area['TRAVEL_ID'].isin(travel_ids)) & (~area['VISIT_AREA_NM'].isin(filter_area))]\n",
    "len(area)"
   ]
  },
  {
   "cell_type": "code",
   "execution_count": 96,
   "metadata": {},
   "outputs": [
    {
     "data": {
      "text/plain": [
       "Index(['VISIT_AREA_ID', 'TRAVEL_ID', 'VISIT_ORDER', 'VISIT_AREA_NM',\n",
       "       'VISIT_START_YMD', 'VISIT_END_YMD', 'ROAD_NM_ADDR', 'LOTNO_ADDR',\n",
       "       'X_COORD', 'Y_COORD', 'ROAD_NM_CD', 'LOTNO_CD', 'POI_ID', 'POI_NM',\n",
       "       'RESIDENCE_TIME_MIN', 'VISIT_AREA_TYPE_CD', 'REVISIT_YN',\n",
       "       'VISIT_CHC_REASON_CD', 'LODGING_TYPE_CD', 'DGSTFN', 'REVISIT_INTENTION',\n",
       "       'RCMDTN_INTENTION', 'SGG_CD'],\n",
       "      dtype='object')"
      ]
     },
     "execution_count": 96,
     "metadata": {},
     "output_type": "execute_result"
    }
   ],
   "source": [
    "area.columns"
   ]
  },
  {
   "cell_type": "code",
   "execution_count": 97,
   "metadata": {},
   "outputs": [
    {
     "data": {
      "text/html": [
       "<div>\n",
       "<style scoped>\n",
       "    .dataframe tbody tr th:only-of-type {\n",
       "        vertical-align: middle;\n",
       "    }\n",
       "\n",
       "    .dataframe tbody tr th {\n",
       "        vertical-align: top;\n",
       "    }\n",
       "\n",
       "    .dataframe thead th {\n",
       "        text-align: right;\n",
       "    }\n",
       "</style>\n",
       "<table border=\"1\" class=\"dataframe\">\n",
       "  <thead>\n",
       "    <tr style=\"text-align: right;\">\n",
       "      <th></th>\n",
       "      <th>VISIT_AREA_NM</th>\n",
       "      <th>VISIT_AREA_ID</th>\n",
       "    </tr>\n",
       "  </thead>\n",
       "  <tbody>\n",
       "    <tr>\n",
       "      <th>1320</th>\n",
       "      <td>부천 호수 식물원 수피아</td>\n",
       "      <td>2305200002</td>\n",
       "    </tr>\n",
       "    <tr>\n",
       "      <th>1321</th>\n",
       "      <td>상동호수 공원</td>\n",
       "      <td>2305200003</td>\n",
       "    </tr>\n",
       "    <tr>\n",
       "      <th>1322</th>\n",
       "      <td>제주 은희네 해장국 부천 상동점</td>\n",
       "      <td>2305200004</td>\n",
       "    </tr>\n",
       "    <tr>\n",
       "      <th>1323</th>\n",
       "      <td>A 플러스 호텔</td>\n",
       "      <td>2305200005</td>\n",
       "    </tr>\n",
       "    <tr>\n",
       "      <th>1324</th>\n",
       "      <td>부천식물원</td>\n",
       "      <td>2305210001</td>\n",
       "    </tr>\n",
       "    <tr>\n",
       "      <th>1325</th>\n",
       "      <td>수타원 본점</td>\n",
       "      <td>2305210002</td>\n",
       "    </tr>\n",
       "    <tr>\n",
       "      <th>1326</th>\n",
       "      <td>에스 모텔</td>\n",
       "      <td>2305210003</td>\n",
       "    </tr>\n",
       "    <tr>\n",
       "      <th>1327</th>\n",
       "      <td>크라이 치즈 버거 가톨릭대점</td>\n",
       "      <td>2305210004</td>\n",
       "    </tr>\n",
       "    <tr>\n",
       "      <th>1328</th>\n",
       "      <td>프랭크 버거 역곡역점</td>\n",
       "      <td>2305210005</td>\n",
       "    </tr>\n",
       "    <tr>\n",
       "      <th>1329</th>\n",
       "      <td>에스 모텔</td>\n",
       "      <td>2305210006</td>\n",
       "    </tr>\n",
       "    <tr>\n",
       "      <th>1330</th>\n",
       "      <td>부천중앙공원</td>\n",
       "      <td>2305220001</td>\n",
       "    </tr>\n",
       "    <tr>\n",
       "      <th>1331</th>\n",
       "      <td>예그린 하우스</td>\n",
       "      <td>2305220002</td>\n",
       "    </tr>\n",
       "    <tr>\n",
       "      <th>2386</th>\n",
       "      <td>무봉리 토종 순댓국 본점</td>\n",
       "      <td>2306040002</td>\n",
       "    </tr>\n",
       "    <tr>\n",
       "      <th>2387</th>\n",
       "      <td>라뜰리에 빵 카페</td>\n",
       "      <td>2306040003</td>\n",
       "    </tr>\n",
       "    <tr>\n",
       "      <th>2388</th>\n",
       "      <td>고모저수지</td>\n",
       "      <td>2306040004</td>\n",
       "    </tr>\n",
       "    <tr>\n",
       "      <th>2389</th>\n",
       "      <td>이마트 포천점</td>\n",
       "      <td>2306040005</td>\n",
       "    </tr>\n",
       "    <tr>\n",
       "      <th>2390</th>\n",
       "      <td>코지 11펜션</td>\n",
       "      <td>2306040006</td>\n",
       "    </tr>\n",
       "    <tr>\n",
       "      <th>2391</th>\n",
       "      <td>고풍</td>\n",
       "      <td>2306040007</td>\n",
       "    </tr>\n",
       "    <tr>\n",
       "      <th>2392</th>\n",
       "      <td>코지 11펜션</td>\n",
       "      <td>2306040008</td>\n",
       "    </tr>\n",
       "    <tr>\n",
       "      <th>2393</th>\n",
       "      <td>허브아일랜드</td>\n",
       "      <td>2306050002</td>\n",
       "    </tr>\n",
       "  </tbody>\n",
       "</table>\n",
       "</div>"
      ],
      "text/plain": [
       "          VISIT_AREA_NM  VISIT_AREA_ID\n",
       "1320      부천 호수 식물원 수피아     2305200002\n",
       "1321            상동호수 공원     2305200003\n",
       "1322  제주 은희네 해장국 부천 상동점     2305200004\n",
       "1323           A 플러스 호텔     2305200005\n",
       "1324              부천식물원     2305210001\n",
       "1325             수타원 본점     2305210002\n",
       "1326              에스 모텔     2305210003\n",
       "1327    크라이 치즈 버거 가톨릭대점     2305210004\n",
       "1328        프랭크 버거 역곡역점     2305210005\n",
       "1329              에스 모텔     2305210006\n",
       "1330             부천중앙공원     2305220001\n",
       "1331            예그린 하우스     2305220002\n",
       "2386      무봉리 토종 순댓국 본점     2306040002\n",
       "2387          라뜰리에 빵 카페     2306040003\n",
       "2388              고모저수지     2306040004\n",
       "2389            이마트 포천점     2306040005\n",
       "2390            코지 11펜션     2306040006\n",
       "2391                 고풍     2306040007\n",
       "2392            코지 11펜션     2306040008\n",
       "2393             허브아일랜드     2306050002"
      ]
     },
     "execution_count": 97,
     "metadata": {},
     "output_type": "execute_result"
    }
   ],
   "source": [
    "area[['VISIT_AREA_NM', 'VISIT_AREA_ID']][:20]"
   ]
  },
  {
   "cell_type": "code",
   "execution_count": 98,
   "metadata": {},
   "outputs": [],
   "source": [
    "photo = pd.read_csv('../data/VL_csv/tn_tour_photo_관광사진_E.csv')"
   ]
  },
  {
   "cell_type": "code",
   "execution_count": 101,
   "metadata": {},
   "outputs": [],
   "source": [
    "cond = photo['VISIT_AREA_ID'].isin(area['VISIT_AREA_ID'].to_list()[:10])\n",
    "\n",
    "photo = photo[cond]"
   ]
  },
  {
   "cell_type": "code",
   "execution_count": 103,
   "metadata": {},
   "outputs": [
    {
     "data": {
      "text/html": [
       "<div>\n",
       "<style scoped>\n",
       "    .dataframe tbody tr th:only-of-type {\n",
       "        vertical-align: middle;\n",
       "    }\n",
       "\n",
       "    .dataframe tbody tr th {\n",
       "        vertical-align: top;\n",
       "    }\n",
       "\n",
       "    .dataframe thead th {\n",
       "        text-align: right;\n",
       "    }\n",
       "</style>\n",
       "<table border=\"1\" class=\"dataframe\">\n",
       "  <thead>\n",
       "    <tr style=\"text-align: right;\">\n",
       "      <th></th>\n",
       "      <th>32</th>\n",
       "      <th>993</th>\n",
       "      <th>996</th>\n",
       "      <th>1053</th>\n",
       "      <th>1054</th>\n",
       "    </tr>\n",
       "  </thead>\n",
       "  <tbody>\n",
       "    <tr>\n",
       "      <th>TRAVEL_ID</th>\n",
       "      <td>e_e000385</td>\n",
       "      <td>e_e000385</td>\n",
       "      <td>e_e000482</td>\n",
       "      <td>e_e000509</td>\n",
       "      <td>e_e000561</td>\n",
       "    </tr>\n",
       "    <tr>\n",
       "      <th>VISIT_AREA_ID</th>\n",
       "      <td>2305210003</td>\n",
       "      <td>2305210002</td>\n",
       "      <td>2305200002</td>\n",
       "      <td>2305200002</td>\n",
       "      <td>2305200002</td>\n",
       "    </tr>\n",
       "    <tr>\n",
       "      <th>TOUR_PHOTO_SEQ</th>\n",
       "      <td>0</td>\n",
       "      <td>0</td>\n",
       "      <td>0</td>\n",
       "      <td>0</td>\n",
       "      <td>0</td>\n",
       "    </tr>\n",
       "    <tr>\n",
       "      <th>PHOTO_FILE_ID</th>\n",
       "      <td>e00038501003p0001</td>\n",
       "      <td>e00038501002p0001</td>\n",
       "      <td>e00048202003p0001</td>\n",
       "      <td>e00050902003p0001</td>\n",
       "      <td>e00056101002p0001</td>\n",
       "    </tr>\n",
       "    <tr>\n",
       "      <th>PHOTO_FILE_NM</th>\n",
       "      <td>e00038501003p0001.jpg</td>\n",
       "      <td>e00038501002p0001.jpg</td>\n",
       "      <td>e00048202003p0001.jpg</td>\n",
       "      <td>e00050902003p0001.jpg</td>\n",
       "      <td>e00056101002p0001.jpg</td>\n",
       "    </tr>\n",
       "    <tr>\n",
       "      <th>PHOTO_FILE_FRMAT</th>\n",
       "      <td>jpg</td>\n",
       "      <td>jpg</td>\n",
       "      <td>jpg</td>\n",
       "      <td>jpg</td>\n",
       "      <td>jpg</td>\n",
       "    </tr>\n",
       "    <tr>\n",
       "      <th>PHOTO_FILE_DT</th>\n",
       "      <td>2023-05-21 12:48:58</td>\n",
       "      <td>2023-05-21 11:40:55</td>\n",
       "      <td>2023-05-20 12:21:39</td>\n",
       "      <td>2023-05-20 10:29:10</td>\n",
       "      <td>2023-05-20 19:58:13</td>\n",
       "    </tr>\n",
       "    <tr>\n",
       "      <th>PHOTO_FILE_SAVE_PATH</th>\n",
       "      <td>/photo/</td>\n",
       "      <td>/photo/</td>\n",
       "      <td>/photo/</td>\n",
       "      <td>/photo/</td>\n",
       "      <td>/photo/</td>\n",
       "    </tr>\n",
       "    <tr>\n",
       "      <th>PHOTO_FILE_RESOLUTION</th>\n",
       "      <td>4000x3000</td>\n",
       "      <td>4000x3000</td>\n",
       "      <td>3024x4032</td>\n",
       "      <td>4032x3024</td>\n",
       "      <td>4032x3024</td>\n",
       "    </tr>\n",
       "    <tr>\n",
       "      <th>PHOTO_FILE_X_COORD</th>\n",
       "      <td>126.459891</td>\n",
       "      <td>126.456461</td>\n",
       "      <td>126.927322</td>\n",
       "      <td>126.92775</td>\n",
       "      <td>126.632589</td>\n",
       "    </tr>\n",
       "    <tr>\n",
       "      <th>PHOTO_FILE_Y_COORD</th>\n",
       "      <td>37.591997</td>\n",
       "      <td>37.611101</td>\n",
       "      <td>37.525122</td>\n",
       "      <td>37.525531</td>\n",
       "      <td>37.392851</td>\n",
       "    </tr>\n",
       "    <tr>\n",
       "      <th>VISIT_AREA_NM</th>\n",
       "      <td>NaN</td>\n",
       "      <td>NaN</td>\n",
       "      <td>NaN</td>\n",
       "      <td>NaN</td>\n",
       "      <td>NaN</td>\n",
       "    </tr>\n",
       "  </tbody>\n",
       "</table>\n",
       "</div>"
      ],
      "text/plain": [
       "                                        32                     993   \\\n",
       "TRAVEL_ID                          e_e000385              e_e000385   \n",
       "VISIT_AREA_ID                     2305210003             2305210002   \n",
       "TOUR_PHOTO_SEQ                             0                      0   \n",
       "PHOTO_FILE_ID              e00038501003p0001      e00038501002p0001   \n",
       "PHOTO_FILE_NM          e00038501003p0001.jpg  e00038501002p0001.jpg   \n",
       "PHOTO_FILE_FRMAT                         jpg                    jpg   \n",
       "PHOTO_FILE_DT            2023-05-21 12:48:58    2023-05-21 11:40:55   \n",
       "PHOTO_FILE_SAVE_PATH                 /photo/                /photo/   \n",
       "PHOTO_FILE_RESOLUTION              4000x3000              4000x3000   \n",
       "PHOTO_FILE_X_COORD                126.459891             126.456461   \n",
       "PHOTO_FILE_Y_COORD                 37.591997              37.611101   \n",
       "VISIT_AREA_NM                            NaN                    NaN   \n",
       "\n",
       "                                        996                    1053  \\\n",
       "TRAVEL_ID                          e_e000482              e_e000509   \n",
       "VISIT_AREA_ID                     2305200002             2305200002   \n",
       "TOUR_PHOTO_SEQ                             0                      0   \n",
       "PHOTO_FILE_ID              e00048202003p0001      e00050902003p0001   \n",
       "PHOTO_FILE_NM          e00048202003p0001.jpg  e00050902003p0001.jpg   \n",
       "PHOTO_FILE_FRMAT                         jpg                    jpg   \n",
       "PHOTO_FILE_DT            2023-05-20 12:21:39    2023-05-20 10:29:10   \n",
       "PHOTO_FILE_SAVE_PATH                 /photo/                /photo/   \n",
       "PHOTO_FILE_RESOLUTION              3024x4032              4032x3024   \n",
       "PHOTO_FILE_X_COORD                126.927322              126.92775   \n",
       "PHOTO_FILE_Y_COORD                 37.525122              37.525531   \n",
       "VISIT_AREA_NM                            NaN                    NaN   \n",
       "\n",
       "                                        1054  \n",
       "TRAVEL_ID                          e_e000561  \n",
       "VISIT_AREA_ID                     2305200002  \n",
       "TOUR_PHOTO_SEQ                             0  \n",
       "PHOTO_FILE_ID              e00056101002p0001  \n",
       "PHOTO_FILE_NM          e00056101002p0001.jpg  \n",
       "PHOTO_FILE_FRMAT                         jpg  \n",
       "PHOTO_FILE_DT            2023-05-20 19:58:13  \n",
       "PHOTO_FILE_SAVE_PATH                 /photo/  \n",
       "PHOTO_FILE_RESOLUTION              4032x3024  \n",
       "PHOTO_FILE_X_COORD                126.632589  \n",
       "PHOTO_FILE_Y_COORD                 37.392851  \n",
       "VISIT_AREA_NM                            NaN  "
      ]
     },
     "execution_count": 103,
     "metadata": {},
     "output_type": "execute_result"
    }
   ],
   "source": [
    "photo.head().T"
   ]
  }
 ],
 "metadata": {
  "kernelspec": {
   "display_name": "llm",
   "language": "python",
   "name": "python3"
  },
  "language_info": {
   "codemirror_mode": {
    "name": "ipython",
    "version": 3
   },
   "file_extension": ".py",
   "mimetype": "text/x-python",
   "name": "python",
   "nbconvert_exporter": "python",
   "pygments_lexer": "ipython3",
   "version": "3.10.13"
  }
 },
 "nbformat": 4,
 "nbformat_minor": 2
}
