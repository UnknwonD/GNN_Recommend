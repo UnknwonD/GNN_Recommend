{
 "cells": [
  {
   "cell_type": "code",
   "execution_count": 51,
   "metadata": {},
   "outputs": [],
   "source": [
    "import pandas as pd\n",
    "import numpy as np\n",
    "import joblib\n",
    "import faiss"
   ]
  },
  {
   "cell_type": "code",
   "execution_count": 52,
   "metadata": {},
   "outputs": [],
   "source": [
    "user = joblib.load('user.pkl')"
   ]
  },
  {
   "cell_type": "code",
   "execution_count": 53,
   "metadata": {},
   "outputs": [
    {
     "data": {
      "text/plain": [
       "{'USER_ID': 'admin3',\n",
       " 'PASSWORD': 'admin3',\n",
       " 'CONFIRM_PASSWORD': 'admin3',\n",
       " 'NAME': '유상범',\n",
       " 'BIRTHDATE': '1999-11-15',\n",
       " 'GENDER': '1',\n",
       " 'EDU_NM': '4',\n",
       " 'EDU_FNSH_SE': '1',\n",
       " 'MARR_STTS': '2',\n",
       " 'JOB_NM': '5',\n",
       " 'INCOME': '800',\n",
       " 'HOUSE_INCOME': '3200',\n",
       " 'TRAVEL_TERM': '1',\n",
       " 'TRAVEL_LIKE_SIDO_1': '부산광역시',\n",
       " 'TRAVEL_LIKE_SIDO_2': '대전광역시',\n",
       " 'TRAVEL_LIKE_SIDO_3': '서울특별시',\n",
       " 'TRAVEL_STYL_1': '6',\n",
       " 'TRAVEL_STYL_2': '2',\n",
       " 'TRAVEL_STYL_3': '3',\n",
       " 'TRAVEL_STYL_4': '5',\n",
       " 'TRAVEL_STYL_5': '2',\n",
       " 'TRAVEL_STYL_6': '7',\n",
       " 'TRAVEL_STYL_7': '7',\n",
       " 'TRAVEL_STYL_8': '7',\n",
       " 'TRAVEL_MOTIVE_1': '2',\n",
       " 'TRAVEL_MOTIVE_2': '1',\n",
       " 'FAMILY_MEMB': '2',\n",
       " 'TRAVEL_NUM': '3',\n",
       " 'TRAVEL_COMPANIONS_NUM': '3',\n",
       " 'uuid': 'd01f3159-4813-4d05-aadb-0c3b2c3af852',\n",
       " 'AGE_GRP': '20',\n",
       " 'phone_number': '01044280700'}"
      ]
     },
     "execution_count": 53,
     "metadata": {},
     "output_type": "execute_result"
    }
   ],
   "source": [
    "user"
   ]
  },
  {
   "cell_type": "code",
   "execution_count": 54,
   "metadata": {},
   "outputs": [],
   "source": [
    "categorical_cols = [\n",
    "    'GENDER', 'EDU_NM', 'EDU_FNSH_SE', 'MARR_STTS', 'JOB_NM',\n",
    "    'INCOME', 'HOUSE_INCOME', 'TRAVEL_TERM',\n",
    "    'TRAVEL_STYL_1', 'TRAVEL_STYL_2', 'TRAVEL_STYL_3', 'TRAVEL_STYL_4',\n",
    "    'TRAVEL_STYL_5', 'TRAVEL_STYL_6', 'TRAVEL_STYL_7', 'TRAVEL_STYL_8',\n",
    "    'TRAVEL_MOTIVE_1', 'TRAVEL_MOTIVE_2'\n",
    "]\n",
    "\n",
    "numerical_cols = [\n",
    "    'AGE_GRP', 'FAMILY_MEMB', 'TRAVEL_NUM', 'TRAVEL_COMPANIONS_NUM',\n",
    "    'TRAVEL_LIKE_SIDO_1', 'TRAVEL_LIKE_SIDO_2', 'TRAVEL_LIKE_SIDO_3'\n",
    "]\n",
    "\n",
    "use_cols = categorical_cols + numerical_cols"
   ]
  },
  {
   "cell_type": "code",
   "execution_count": 55,
   "metadata": {},
   "outputs": [
    {
     "data": {
      "text/plain": [
       "{'GENDER': '1',\n",
       " 'EDU_NM': '4',\n",
       " 'EDU_FNSH_SE': '1',\n",
       " 'MARR_STTS': '2',\n",
       " 'JOB_NM': '5',\n",
       " 'INCOME': '800',\n",
       " 'HOUSE_INCOME': '3200',\n",
       " 'TRAVEL_TERM': '1',\n",
       " 'TRAVEL_STYL_1': '6',\n",
       " 'TRAVEL_STYL_2': '2',\n",
       " 'TRAVEL_STYL_3': '3',\n",
       " 'TRAVEL_STYL_4': '5',\n",
       " 'TRAVEL_STYL_5': '2',\n",
       " 'TRAVEL_STYL_6': '7',\n",
       " 'TRAVEL_STYL_7': '7',\n",
       " 'TRAVEL_STYL_8': '7',\n",
       " 'TRAVEL_MOTIVE_1': '2',\n",
       " 'TRAVEL_MOTIVE_2': '1',\n",
       " 'AGE_GRP': '20',\n",
       " 'FAMILY_MEMB': '2',\n",
       " 'TRAVEL_NUM': '3',\n",
       " 'TRAVEL_COMPANIONS_NUM': '3',\n",
       " 'TRAVEL_LIKE_SIDO_1': '부산광역시',\n",
       " 'TRAVEL_LIKE_SIDO_2': '대전광역시',\n",
       " 'TRAVEL_LIKE_SIDO_3': '서울특별시'}"
      ]
     },
     "execution_count": 55,
     "metadata": {},
     "output_type": "execute_result"
    }
   ],
   "source": [
    "filtered_user = {key: user[key] for key in use_cols if key in user}\n",
    "filtered_user"
   ]
  },
  {
   "cell_type": "code",
   "execution_count": 56,
   "metadata": {},
   "outputs": [],
   "source": [
    "pipeline = joblib.load('../data/VL_CSV/tn_traveller_pipeline.pkl')"
   ]
  },
  {
   "cell_type": "code",
   "execution_count": 57,
   "metadata": {},
   "outputs": [],
   "source": [
    "sgg = pd.read_csv('../data/VL_csv/tc_sgg_시군구코드.csv')"
   ]
  },
  {
   "cell_type": "code",
   "execution_count": 58,
   "metadata": {},
   "outputs": [
    {
     "data": {
      "text/plain": [
       "{'GENDER': '1',\n",
       " 'EDU_NM': '4',\n",
       " 'EDU_FNSH_SE': '1',\n",
       " 'MARR_STTS': '2',\n",
       " 'JOB_NM': '5',\n",
       " 'INCOME': '800',\n",
       " 'HOUSE_INCOME': '3200',\n",
       " 'TRAVEL_TERM': '1',\n",
       " 'TRAVEL_STYL_1': '6',\n",
       " 'TRAVEL_STYL_2': '2',\n",
       " 'TRAVEL_STYL_3': '3',\n",
       " 'TRAVEL_STYL_4': '5',\n",
       " 'TRAVEL_STYL_5': '2',\n",
       " 'TRAVEL_STYL_6': '7',\n",
       " 'TRAVEL_STYL_7': '7',\n",
       " 'TRAVEL_STYL_8': '7',\n",
       " 'TRAVEL_MOTIVE_1': '2',\n",
       " 'TRAVEL_MOTIVE_2': '1',\n",
       " 'AGE_GRP': '20',\n",
       " 'FAMILY_MEMB': '2',\n",
       " 'TRAVEL_NUM': '3',\n",
       " 'TRAVEL_COMPANIONS_NUM': '3',\n",
       " 'TRAVEL_LIKE_SIDO_1': '부산광역시',\n",
       " 'TRAVEL_LIKE_SIDO_2': '대전광역시',\n",
       " 'TRAVEL_LIKE_SIDO_3': '서울특별시'}"
      ]
     },
     "execution_count": 58,
     "metadata": {},
     "output_type": "execute_result"
    }
   ],
   "source": [
    "filtered_user"
   ]
  },
  {
   "cell_type": "code",
   "execution_count": 59,
   "metadata": {},
   "outputs": [],
   "source": [
    "filtered_user = pd.DataFrame([filtered_user])"
   ]
  },
  {
   "cell_type": "code",
   "execution_count": 60,
   "metadata": {},
   "outputs": [],
   "source": [
    "filtered_user.loc[0, 'TRAVEL_LIKE_SIDO_1'] = sgg[sgg['SIDO_NM'] == filtered_user.loc[0, 'TRAVEL_LIKE_SIDO_1']]['SGG_CD1'].values[0]\n",
    "filtered_user.loc[0, 'TRAVEL_LIKE_SIDO_2'] = sgg[sgg['SIDO_NM'] == filtered_user.loc[0, 'TRAVEL_LIKE_SIDO_2']]['SGG_CD1'].values[0]\n",
    "filtered_user.loc[0, 'TRAVEL_LIKE_SIDO_3'] = sgg[sgg['SIDO_NM'] == filtered_user.loc[0, 'TRAVEL_LIKE_SIDO_3']]['SGG_CD1'].values[0]\n"
   ]
  },
  {
   "cell_type": "code",
   "execution_count": 61,
   "metadata": {},
   "outputs": [
    {
     "data": {
      "text/plain": [
       "array([[ 0.        ,  0.        ,  0.        ,  0.        ,  0.        ,\n",
       "         0.        ,  0.        ,  0.        ,  0.        ,  0.        ,\n",
       "         0.        ,  0.        ,  0.        ,  0.        ,  0.        ,\n",
       "         0.        ,  0.        ,  0.        ,  0.        ,  0.        ,\n",
       "         0.        ,  0.        ,  0.        ,  0.        ,  0.        ,\n",
       "         0.        ,  0.        ,  0.        ,  0.        ,  0.        ,\n",
       "         0.        ,  0.        ,  0.        ,  0.        ,  0.        ,\n",
       "         0.        ,  0.        ,  0.        ,  0.        ,  0.        ,\n",
       "         0.        ,  0.        ,  0.        ,  0.        ,  0.        ,\n",
       "         0.        ,  0.        ,  0.        ,  0.        ,  0.        ,\n",
       "         0.        ,  0.        ,  0.        ,  0.        ,  0.        ,\n",
       "         0.        ,  0.        ,  0.        ,  0.        ,  0.        ,\n",
       "         0.        ,  0.        ,  0.        ,  0.        ,  0.        ,\n",
       "         0.        ,  0.        ,  0.        ,  0.        ,  0.        ,\n",
       "         0.        ,  0.        ,  0.        ,  0.        ,  0.        ,\n",
       "         0.        ,  0.        ,  0.        ,  0.        ,  0.        ,\n",
       "         0.        ,  0.        ,  0.        ,  0.        ,  0.        ,\n",
       "         0.        ,  0.        ,  0.        ,  0.        ,  0.        ,\n",
       "         0.        ,  0.        ,  0.        ,  0.        ,  0.        ,\n",
       "         0.        ,  0.        ,  0.        ,  0.        ,  0.        ,\n",
       "         0.        ,  0.        ,  0.        ,  0.        ,  0.        ,\n",
       "         0.        ,  0.        ,  0.        ,  0.        ,  0.        ,\n",
       "         0.        ,  0.        ,  0.        ,  0.        ,  0.        ,\n",
       "         0.        ,  0.        ,  0.        ,  0.        ,  0.        ,\n",
       "         0.        ,  0.        ,  0.        ,  0.        ,  0.        ,\n",
       "         0.        ,  0.        ,  0.        ,  0.        ,  0.        ,\n",
       "         0.        ,  0.        ,  0.        ,  0.        ,  0.        ,\n",
       "         0.        , -1.00991269, -1.32059141,  0.10609982,  0.96006377,\n",
       "        -1.07159211, -0.76069347, -2.21516339]])"
      ]
     },
     "execution_count": 61,
     "metadata": {},
     "output_type": "execute_result"
    }
   ],
   "source": [
    "pipeline.named_steps['preprocess'].transform(filtered_user)"
   ]
  },
  {
   "cell_type": "markdown",
   "metadata": {},
   "source": [
    "# Faiss 분석"
   ]
  },
  {
   "cell_type": "code",
   "execution_count": 66,
   "metadata": {},
   "outputs": [],
   "source": [
    "df = pd.read_csv(\"../data/VL_csv/tn_traveller_master_여행객 Master_E.csv\")"
   ]
  },
  {
   "cell_type": "code",
   "execution_count": 64,
   "metadata": {},
   "outputs": [],
   "source": [
    "X_all = joblib.load('../data/VL_CSV/X_all.pkl')"
   ]
  },
  {
   "cell_type": "code",
   "execution_count": 62,
   "metadata": {},
   "outputs": [],
   "source": [
    "input_vec = pipeline.named_steps['preprocess'].transform(filtered_user)"
   ]
  },
  {
   "cell_type": "code",
   "execution_count": 67,
   "metadata": {},
   "outputs": [
    {
     "name": "stdout",
     "output_type": "stream",
     "text": [
      "Top 10 유사 유저 인덱스: [ 638  929 1639 1723  914 1075  874  878  337  877]\n",
      "Top 10 거리: [20.47649  22.181473 22.479416 22.50678  22.511045 22.52425  22.779518\n",
      " 23.036474 23.082836 23.146557]\n",
      "     TRAVELER_ID  AGE_GRP TRAVEL_STATUS_DESTINATION\n",
      "638      e002233       20                        경기\n",
      "929      e006852       60                        경기\n",
      "1639     e001164       40                        서울\n",
      "1723     e006882       30                        경기\n",
      "914      e010735       20                        서울\n",
      "1075     e008320       30                        서울\n",
      "874      e012232       30                        인천\n",
      "878      e009845       20                        서울\n",
      "337      e003235       30                        경기\n",
      "877      e005922       20                        경기\n"
     ]
    }
   ],
   "source": [
    "# X_all: 모든 사용자 벡터 (n_users, n_features)\n",
    "# input_vec: 추천 대상 사용자 벡터 (1, n_features)\n",
    "\n",
    "# float32로 변환\n",
    "X_all = X_all.astype('float32')\n",
    "input_vec = input_vec.astype('float32')\n",
    "\n",
    "# Index 생성 (IndexFlatL2)\n",
    "d = X_all.shape[1]  # feature 수\n",
    "index = faiss.IndexFlatL2(d)  # L2 거리 기반\n",
    "\n",
    "# 인덱스에 전체 유저 벡터 추가\n",
    "index.add(X_all)\n",
    "\n",
    "# 유사 유저 top 10 검색\n",
    "k = 10\n",
    "D, I = index.search(input_vec, k)  # D: 거리, I: 인덱스\n",
    "\n",
    "# 결과 출력\n",
    "print(\"Top 10 유사 유저 인덱스:\", I[0])\n",
    "print(\"Top 10 거리:\", D[0])\n",
    "\n",
    "# 유사 유저 정보 확인\n",
    "similar_users = df.iloc[I[0]]\n",
    "print(similar_users[['TRAVELER_ID', 'AGE_GRP', 'TRAVEL_STATUS_DESTINATION']])"
   ]
  }
 ],
 "metadata": {
  "kernelspec": {
   "display_name": "llm",
   "language": "python",
   "name": "python3"
  },
  "language_info": {
   "codemirror_mode": {
    "name": "ipython",
    "version": 3
   },
   "file_extension": ".py",
   "mimetype": "text/x-python",
   "name": "python",
   "nbconvert_exporter": "python",
   "pygments_lexer": "ipython3",
   "version": "3.10.13"
  }
 },
 "nbformat": 4,
 "nbformat_minor": 2
}
