{
 "cells": [
  {
   "cell_type": "code",
   "execution_count": 66,
   "metadata": {},
   "outputs": [
    {
     "name": "stdout",
     "output_type": "stream",
     "text": [
      "(320, 14)\n"
     ]
    },
    {
     "data": {
      "text/html": [
       "<div>\n",
       "<style scoped>\n",
       "    .dataframe tbody tr th:only-of-type {\n",
       "        vertical-align: middle;\n",
       "    }\n",
       "\n",
       "    .dataframe tbody tr th {\n",
       "        vertical-align: top;\n",
       "    }\n",
       "\n",
       "    .dataframe thead th {\n",
       "        text-align: right;\n",
       "    }\n",
       "</style>\n",
       "<table border=\"1\" class=\"dataframe\">\n",
       "  <thead>\n",
       "    <tr style=\"text-align: right;\">\n",
       "      <th></th>\n",
       "      <th>0</th>\n",
       "      <th>1</th>\n",
       "      <th>2</th>\n",
       "    </tr>\n",
       "  </thead>\n",
       "  <tbody>\n",
       "    <tr>\n",
       "      <th>TRAVEL_ID</th>\n",
       "      <td>e_e000008</td>\n",
       "      <td>e_e000019</td>\n",
       "      <td>e_e000027</td>\n",
       "    </tr>\n",
       "    <tr>\n",
       "      <th>TRAVEL_NM</th>\n",
       "      <td>E03</td>\n",
       "      <td>E03</td>\n",
       "      <td>E03</td>\n",
       "    </tr>\n",
       "    <tr>\n",
       "      <th>TRAVELER_ID</th>\n",
       "      <td>e000008</td>\n",
       "      <td>e000019</td>\n",
       "      <td>e000027</td>\n",
       "    </tr>\n",
       "    <tr>\n",
       "      <th>TRAVEL_PURPOSE</th>\n",
       "      <td>3;4</td>\n",
       "      <td>1;4</td>\n",
       "      <td>2;5;21</td>\n",
       "    </tr>\n",
       "    <tr>\n",
       "      <th>TRAVEL_START_YMD</th>\n",
       "      <td>2023-04-29</td>\n",
       "      <td>2023-04-30</td>\n",
       "      <td>2023-04-30</td>\n",
       "    </tr>\n",
       "    <tr>\n",
       "      <th>TRAVEL_END_YMD</th>\n",
       "      <td>2023-04-30</td>\n",
       "      <td>2023-05-01</td>\n",
       "      <td>2023-05-01</td>\n",
       "    </tr>\n",
       "    <tr>\n",
       "      <th>MVMN_NM</th>\n",
       "      <td>NaN</td>\n",
       "      <td>NaN</td>\n",
       "      <td>NaN</td>\n",
       "    </tr>\n",
       "    <tr>\n",
       "      <th>TRAVEL_PERSONA</th>\n",
       "      <td>서울 외 수도권 방문/수도권 거주/40세 이상/자녀동반/일반미션</td>\n",
       "      <td>서울 외 수도권 방문/수도권 거주/40세 이상/부부/일반미션</td>\n",
       "      <td>서울 외 수도권 방문/수도권 거주/40세 이상/부모 동반/일반미션</td>\n",
       "    </tr>\n",
       "    <tr>\n",
       "      <th>TRAVEL_MISSION</th>\n",
       "      <td>3;4</td>\n",
       "      <td>1;4</td>\n",
       "      <td>2;5;21</td>\n",
       "    </tr>\n",
       "    <tr>\n",
       "      <th>TRAVEL_MISSION_CHECK</th>\n",
       "      <td>3;9;11</td>\n",
       "      <td>3;13;22</td>\n",
       "      <td>5;21;2</td>\n",
       "    </tr>\n",
       "    <tr>\n",
       "      <th>PRE_COST</th>\n",
       "      <td>0</td>\n",
       "      <td>0</td>\n",
       "      <td>0</td>\n",
       "    </tr>\n",
       "    <tr>\n",
       "      <th>LODGOUT_COST</th>\n",
       "      <td>0</td>\n",
       "      <td>0</td>\n",
       "      <td>0</td>\n",
       "    </tr>\n",
       "    <tr>\n",
       "      <th>ACTIVITY_COST</th>\n",
       "      <td>70800</td>\n",
       "      <td>72500</td>\n",
       "      <td>178000</td>\n",
       "    </tr>\n",
       "    <tr>\n",
       "      <th>TOTAL_COST</th>\n",
       "      <td>70800</td>\n",
       "      <td>72500</td>\n",
       "      <td>178000</td>\n",
       "    </tr>\n",
       "  </tbody>\n",
       "</table>\n",
       "</div>"
      ],
      "text/plain": [
       "                                                        0  \\\n",
       "TRAVEL_ID                                       e_e000008   \n",
       "TRAVEL_NM                                             E03   \n",
       "TRAVELER_ID                                       e000008   \n",
       "TRAVEL_PURPOSE                                        3;4   \n",
       "TRAVEL_START_YMD                               2023-04-29   \n",
       "TRAVEL_END_YMD                                 2023-04-30   \n",
       "MVMN_NM                                               NaN   \n",
       "TRAVEL_PERSONA        서울 외 수도권 방문/수도권 거주/40세 이상/자녀동반/일반미션   \n",
       "TRAVEL_MISSION                                        3;4   \n",
       "TRAVEL_MISSION_CHECK                               3;9;11   \n",
       "PRE_COST                                                0   \n",
       "LODGOUT_COST                                            0   \n",
       "ACTIVITY_COST                                       70800   \n",
       "TOTAL_COST                                          70800   \n",
       "\n",
       "                                                      1  \\\n",
       "TRAVEL_ID                                     e_e000019   \n",
       "TRAVEL_NM                                           E03   \n",
       "TRAVELER_ID                                     e000019   \n",
       "TRAVEL_PURPOSE                                      1;4   \n",
       "TRAVEL_START_YMD                             2023-04-30   \n",
       "TRAVEL_END_YMD                               2023-05-01   \n",
       "MVMN_NM                                             NaN   \n",
       "TRAVEL_PERSONA        서울 외 수도권 방문/수도권 거주/40세 이상/부부/일반미션   \n",
       "TRAVEL_MISSION                                      1;4   \n",
       "TRAVEL_MISSION_CHECK                            3;13;22   \n",
       "PRE_COST                                              0   \n",
       "LODGOUT_COST                                          0   \n",
       "ACTIVITY_COST                                     72500   \n",
       "TOTAL_COST                                        72500   \n",
       "\n",
       "                                                         2  \n",
       "TRAVEL_ID                                        e_e000027  \n",
       "TRAVEL_NM                                              E03  \n",
       "TRAVELER_ID                                        e000027  \n",
       "TRAVEL_PURPOSE                                      2;5;21  \n",
       "TRAVEL_START_YMD                                2023-04-30  \n",
       "TRAVEL_END_YMD                                  2023-05-01  \n",
       "MVMN_NM                                                NaN  \n",
       "TRAVEL_PERSONA        서울 외 수도권 방문/수도권 거주/40세 이상/부모 동반/일반미션  \n",
       "TRAVEL_MISSION                                      2;5;21  \n",
       "TRAVEL_MISSION_CHECK                                5;21;2  \n",
       "PRE_COST                                                 0  \n",
       "LODGOUT_COST                                             0  \n",
       "ACTIVITY_COST                                       178000  \n",
       "TOTAL_COST                                          178000  "
      ]
     },
     "execution_count": 66,
     "metadata": {},
     "output_type": "execute_result"
    }
   ],
   "source": [
    "import pandas as pd\n",
    "\n",
    "data_path = '../data/VL_csv/tn_travel_여행_E_COST.csv'\n",
    "\n",
    "df = pd.read_csv(data_path)\n",
    "print(df.shape)\n",
    "\n",
    "df.head(3).T"
   ]
  },
  {
   "cell_type": "code",
   "execution_count": 67,
   "metadata": {},
   "outputs": [
    {
     "data": {
      "text/plain": [
       "MVMN_NM\n",
       "자가용       148\n",
       "대중교통 등    127\n",
       "Name: count, dtype: int64"
      ]
     },
     "execution_count": 67,
     "metadata": {},
     "output_type": "execute_result"
    }
   ],
   "source": [
    "df['MVMN_NM'].value_counts()"
   ]
  },
  {
   "cell_type": "code",
   "execution_count": 68,
   "metadata": {},
   "outputs": [
    {
     "data": {
      "text/plain": [
       "MVMN_NM\n",
       "자가용     148\n",
       "대중교통    127\n",
       "기타       45\n",
       "Name: count, dtype: int64"
      ]
     },
     "execution_count": 68,
     "metadata": {},
     "output_type": "execute_result"
    }
   ],
   "source": [
    "df.fillna({'MVMN_NM': '기타'}, inplace=True)\n",
    "df['MVMN_NM'] = df['MVMN_NM'].replace('대중교통 등', '대중교통')\n",
    "df['MVMN_NM'].value_counts()"
   ]
  },
  {
   "cell_type": "markdown",
   "metadata": {},
   "source": [
    "### 페르소나 전처리"
   ]
  },
  {
   "cell_type": "code",
   "execution_count": 69,
   "metadata": {},
   "outputs": [],
   "source": [
    "where = []\n",
    "country = []\n",
    "age = []\n",
    "whowith = []\n",
    "mission = []\n",
    "\n",
    "\n",
    "for i, row in df.iterrows():\n",
    "    tmp = row['TRAVEL_PERSONA'].split('/')\n",
    "    if tmp[-1] == '특별미션':\n",
    "        where.append(tmp[0])\n",
    "        country.append(tmp[1])\n",
    "        age.append(tmp[2])\n",
    "        whowith.append(tmp[-1])\n",
    "        mission.append(tmp[-1])\n",
    "    else:\n",
    "        where.append(tmp[0])\n",
    "        country.append(tmp[1])\n",
    "        age.append(tmp[2])\n",
    "        whowith.append(tmp[3])\n",
    "        mission.append(tmp[-1])"
   ]
  },
  {
   "cell_type": "code",
   "execution_count": 70,
   "metadata": {},
   "outputs": [],
   "source": [
    "df['where'] = where\n",
    "df['country'] = country\n",
    "df['age'] = age\n",
    "df['whowith'] = whowith\n",
    "df['mission'] = mission"
   ]
  },
  {
   "cell_type": "code",
   "execution_count": 71,
   "metadata": {},
   "outputs": [
    {
     "data": {
      "text/plain": [
       "where\n",
       "서울 외 수도권 방문    163\n",
       "서울 방문          101\n",
       "경기 방문           47\n",
       "인천 방문            9\n",
       "Name: count, dtype: int64"
      ]
     },
     "execution_count": 71,
     "metadata": {},
     "output_type": "execute_result"
    }
   ],
   "source": [
    "df['where'].value_counts()"
   ]
  },
  {
   "cell_type": "code",
   "execution_count": 72,
   "metadata": {},
   "outputs": [
    {
     "data": {
      "text/plain": [
       "country\n",
       "수도권 거주       199\n",
       "거주지 구분 없음     80\n",
       "수도권 외 거주      41\n",
       "Name: count, dtype: int64"
      ]
     },
     "execution_count": 72,
     "metadata": {},
     "output_type": "execute_result"
    }
   ],
   "source": [
    "df['country'].value_counts()"
   ]
  },
  {
   "cell_type": "code",
   "execution_count": 73,
   "metadata": {},
   "outputs": [
    {
     "data": {
      "text/plain": [
       "age\n",
       "39세 이하    229\n",
       "40세 이상     91\n",
       "Name: count, dtype: int64"
      ]
     },
     "execution_count": 73,
     "metadata": {},
     "output_type": "execute_result"
    }
   ],
   "source": [
    "df['age'].value_counts()"
   ]
  },
  {
   "cell_type": "code",
   "execution_count": 74,
   "metadata": {},
   "outputs": [
    {
     "data": {
      "text/plain": [
       "whowith\n",
       "특별미션        80\n",
       "커플          75\n",
       "나홀로 여행      58\n",
       "자녀동반        42\n",
       "부부          27\n",
       "3인 이상 친구    23\n",
       "부모 동반       10\n",
       "3대 동반 여행     5\n",
       "Name: count, dtype: int64"
      ]
     },
     "execution_count": 74,
     "metadata": {},
     "output_type": "execute_result"
    }
   ],
   "source": [
    "df['whowith'].value_counts()"
   ]
  },
  {
   "cell_type": "code",
   "execution_count": 75,
   "metadata": {},
   "outputs": [
    {
     "data": {
      "text/plain": [
       "mission\n",
       "일반미션    240\n",
       "특별미션     80\n",
       "Name: count, dtype: int64"
      ]
     },
     "execution_count": 75,
     "metadata": {},
     "output_type": "execute_result"
    }
   ],
   "source": [
    "df['mission'].value_counts()"
   ]
  },
  {
   "cell_type": "markdown",
   "metadata": {},
   "source": [
    "### Travel_mission_check 전처리\n",
    "\n",
    "- 무조건 3개씩 고름"
   ]
  },
  {
   "cell_type": "code",
   "execution_count": 76,
   "metadata": {},
   "outputs": [
    {
     "data": {
      "text/plain": [
       "TRAVEL_MISSION_CHECK\n",
       "3    320\n",
       "Name: count, dtype: int64"
      ]
     },
     "execution_count": 76,
     "metadata": {},
     "output_type": "execute_result"
    }
   ],
   "source": [
    "df['TRAVEL_MISSION_CHECK'].apply(lambda x: len(x.split(';'))).value_counts()"
   ]
  },
  {
   "cell_type": "code",
   "execution_count": 77,
   "metadata": {},
   "outputs": [
    {
     "data": {
      "text/plain": [
       "TRAVEL_MISSION_CHECK\n",
       "[1, 22, 26]     7\n",
       "[6, 22, 26]     4\n",
       "[2, 6, 11]      4\n",
       "[6, 22, 24]     3\n",
       "[21, 22, 26]    3\n",
       "               ..\n",
       "[2, 5, 8]       1\n",
       "[1, 2, 24]      1\n",
       "[5, 8, 1]       1\n",
       "[6, 24, 22]     1\n",
       "[1, 4, 22]      1\n",
       "Name: count, Length: 258, dtype: int64"
      ]
     },
     "execution_count": 77,
     "metadata": {},
     "output_type": "execute_result"
    }
   ],
   "source": [
    "df['TRAVEL_MISSION_CHECK'].apply(lambda x: x.split(';')).value_counts()"
   ]
  },
  {
   "cell_type": "code",
   "execution_count": 78,
   "metadata": {},
   "outputs": [],
   "source": [
    "df['TRAVEL_MISSION'] = df['TRAVEL_MISSION'].apply(lambda x: x.split(';')[0]) # Mission은 한개만"
   ]
  },
  {
   "cell_type": "code",
   "execution_count": 79,
   "metadata": {},
   "outputs": [],
   "source": [
    "df['TRAVEL_MISSION_CHECK'] = df['TRAVEL_MISSION_CHECK'].apply(lambda x: x.split(';'))"
   ]
  },
  {
   "cell_type": "code",
   "execution_count": 80,
   "metadata": {},
   "outputs": [],
   "source": [
    "from sklearn.preprocessing import MultiLabelBinarizer\n",
    "\n",
    "mlb = MultiLabelBinarizer()\n",
    "mission_matrix = mlb.fit_transform(df['TRAVEL_MISSION_CHECK'])"
   ]
  },
  {
   "cell_type": "markdown",
   "metadata": {},
   "source": [
    "#### 페르소나 특징 확인\n",
    "- 특별여행과 일반여행의 차이점 비교할 것"
   ]
  },
  {
   "cell_type": "code",
   "execution_count": 81,
   "metadata": {},
   "outputs": [
    {
     "data": {
      "image/png": "[encoded data removed]",
      "text/plain": [
       "<Figure size 1000x500 with 1 Axes>"
      ]
     },
     "metadata": {},
     "output_type": "display_data"
    }
   ],
   "source": [
    "df.loc[df['mission'] == '특별미션', 'TRAVEL_MISSION'].astype(int).value_counts().sort_index(ascending=True).plot(kind='barh', figsize=(10, 5), title='Special Mission');"
   ]
  },
  {
   "cell_type": "code",
   "execution_count": 82,
   "metadata": {},
   "outputs": [
    {
     "data": {
      "image/png": "[encoded data removed]",
      "text/plain": [
       "<Figure size 1000x500 with 1 Axes>"
      ]
     },
     "metadata": {},
     "output_type": "display_data"
    }
   ],
   "source": [
    "df.loc[df['mission'] == '일반미션', 'TRAVEL_MISSION'].astype(int).value_counts().sort_index(ascending=True).plot(kind='barh', figsize=(10, 5), title='General Mission');"
   ]
  },
  {
   "cell_type": "code",
   "execution_count": 83,
   "metadata": {},
   "outputs": [],
   "source": [
    "import matplotlib.pyplot as plt\n",
    "\n",
    "plt.rcParams['font.family'] = 'AppleGothic'"
   ]
  },
  {
   "cell_type": "code",
   "execution_count": 84,
   "metadata": {},
   "outputs": [
    {
     "data": {
      "image/png": "[encoded data removed]",
      "text/plain": [
       "<Figure size 1000x600 with 1 Axes>"
      ]
     },
     "metadata": {},
     "output_type": "display_data"
    }
   ],
   "source": [
    "# 1. 미션별 카운트\n",
    "special = df.loc[df['mission'] == '특별미션', 'TRAVEL_MISSION'].astype(int).value_counts()\n",
    "general = df.loc[df['mission'] == '일반미션', 'TRAVEL_MISSION'].astype(int).value_counts()\n",
    "\n",
    "# 2. 두 시리즈를 병합\n",
    "mission_df = pd.DataFrame({\n",
    "    '특별미션': special,\n",
    "    '일반미션': general\n",
    "}).fillna(0).astype(int).sort_index()\n",
    "\n",
    "# 3. 막대 그래프\n",
    "mission_df.plot(kind='barh', stacked=True, figsize=(10, 6), color=['crimson', 'steelblue'])\n",
    "\n",
    "plt.title(\"TRAVEL_MISSION 별 미션 분포 (Stacked)\")\n",
    "plt.xlabel(\"Count\")\n",
    "plt.ylabel(\"TRAVEL_MISSION 코드\")\n",
    "plt.legend(title=\"미션 유형\")\n",
    "plt.grid(axis='x', linestyle='--', alpha=0.5)\n",
    "plt.tight_layout()\n",
    "plt.show()"
   ]
  },
  {
   "cell_type": "code",
   "execution_count": 85,
   "metadata": {},
   "outputs": [
    {
     "data": {
      "image/png": "[encoded data removed]",
      "text/plain": [
       "<Figure size 1000x600 with 1 Axes>"
      ]
     },
     "metadata": {},
     "output_type": "display_data"
    }
   ],
   "source": [
    "# 1. 개수 계산\n",
    "special = df.loc[df['mission'] == '특별미션', 'TRAVEL_MISSION'].astype(int).value_counts(normalize=True) * 100\n",
    "general = df.loc[df['mission'] == '일반미션', 'TRAVEL_MISSION'].astype(int).value_counts(normalize=True) * 100\n",
    "\n",
    "mission_pct = pd.DataFrame({\n",
    "    '특별미션(%)': special,\n",
    "    '일반미션(%)': general\n",
    "}).fillna(0).sort_index()\n",
    "\n",
    "mission_pct.plot(kind='barh', figsize=(10, 6), color=['crimson', 'steelblue'])\n",
    "\n",
    "plt.title(\"TRAVEL_MISSION 분포 비율 (미션 유형별 정규화)\")\n",
    "plt.xlabel(\"해당 미션 내 비율 (%)\")\n",
    "plt.ylabel(\"TRAVEL_MISSION 코드\")\n",
    "plt.legend(title=\"미션 유형\")\n",
    "plt.grid(axis='x', linestyle='--', alpha=0.5)\n",
    "plt.tight_layout()\n",
    "plt.show()\n"
   ]
  },
  {
   "cell_type": "markdown",
   "metadata": {},
   "source": [
    "##  TRAVEL_MISSION 유형별 주요 미션 분포\n",
    "\n",
    "### 1. 일반 미션 (`mission == '일반미션'`)\n",
    "\n",
    "| 미션 코드 | 미션 내용                | 특징               |\n",
    "| ----- | -------------------- | ---------------- |\n",
    "| `1번`  | 쇼핑                   | 가장 높은 비중         |\n",
    "| `2번`  | 테마파크, 놀이시설, 동/식물원 방문 | 가족 단위, 대중적 성향 중심 |\n",
    "\n",
    "> 일반 미션은 전체 참가자 수가 많고, **보편적인 여행 수요**가 반영된 결과로 보임\n",
    "\n",
    "---\n",
    "\n",
    "### 2. 특별 미션 (`mission == '특별미션'`)\n",
    "\n",
    "| 미션 코드 | 미션 내용        | 특징                   |\n",
    "| ----- | ------------ | -------------------- |\n",
    "| `21번` | Well-ness 여행 | 트렌디한 헬스케어 및 힐링 중심    |\n",
    "| `22번` | SNS 인생샷 여행   | 사진 촬영 중심, MZ세대 취향 반영 |\n",
    "\n",
    "> 특별 미션은 상대적으로 참가자 수는 적지만, **명확한 컨셉**과 **차별화된 테마**가 강조됨\n",
    "\n",
    "---\n",
    "\n",
    "### 📊 시사점\n",
    "\n",
    "* `일반미션`은 **일상적/대중적 목적**이 강하며, 쇼핑 및 놀이시설 선호도가 높음\n",
    "* `특별미션`은 **힐링, 자기 표현(SNS)** 중심의 컨셉이 주를 이룸\n",
    "* **추천 시스템 설계 시**, 미션 유형에 따라 **전혀 다른 사용자 니즈**를 반영해야 함\n",
    "\n",
    "---\n"
   ]
  },
  {
   "cell_type": "code",
   "execution_count": 86,
   "metadata": {},
   "outputs": [],
   "source": [
    "df['TRAVEL_PURPOSE'] = df['TRAVEL_PURPOSE'].apply(lambda x: x.split(';'))"
   ]
  },
  {
   "cell_type": "code",
   "execution_count": 87,
   "metadata": {},
   "outputs": [],
   "source": [
    "df.drop(columns=['TRAVEL_PERSONA', 'TRAVEL_MISSION_CHECK'], inplace=True)"
   ]
  },
  {
   "cell_type": "code",
   "execution_count": 89,
   "metadata": {},
   "outputs": [
    {
     "data": {
      "text/html": [
       "<div>\n",
       "<style scoped>\n",
       "    .dataframe tbody tr th:only-of-type {\n",
       "        vertical-align: middle;\n",
       "    }\n",
       "\n",
       "    .dataframe tbody tr th {\n",
       "        vertical-align: top;\n",
       "    }\n",
       "\n",
       "    .dataframe thead th {\n",
       "        text-align: right;\n",
       "    }\n",
       "</style>\n",
       "<table border=\"1\" class=\"dataframe\">\n",
       "  <thead>\n",
       "    <tr style=\"text-align: right;\">\n",
       "      <th></th>\n",
       "      <th>0</th>\n",
       "      <th>1</th>\n",
       "      <th>2</th>\n",
       "    </tr>\n",
       "  </thead>\n",
       "  <tbody>\n",
       "    <tr>\n",
       "      <th>TRAVEL_ID</th>\n",
       "      <td>e_e000008</td>\n",
       "      <td>e_e000019</td>\n",
       "      <td>e_e000027</td>\n",
       "    </tr>\n",
       "    <tr>\n",
       "      <th>TRAVEL_NM</th>\n",
       "      <td>E03</td>\n",
       "      <td>E03</td>\n",
       "      <td>E03</td>\n",
       "    </tr>\n",
       "    <tr>\n",
       "      <th>TRAVELER_ID</th>\n",
       "      <td>e000008</td>\n",
       "      <td>e000019</td>\n",
       "      <td>e000027</td>\n",
       "    </tr>\n",
       "    <tr>\n",
       "      <th>TRAVEL_PURPOSE</th>\n",
       "      <td>[3, 4]</td>\n",
       "      <td>[1, 4]</td>\n",
       "      <td>[2, 5, 21]</td>\n",
       "    </tr>\n",
       "    <tr>\n",
       "      <th>TRAVEL_START_YMD</th>\n",
       "      <td>2023-04-29</td>\n",
       "      <td>2023-04-30</td>\n",
       "      <td>2023-04-30</td>\n",
       "    </tr>\n",
       "    <tr>\n",
       "      <th>TRAVEL_END_YMD</th>\n",
       "      <td>2023-04-30</td>\n",
       "      <td>2023-05-01</td>\n",
       "      <td>2023-05-01</td>\n",
       "    </tr>\n",
       "    <tr>\n",
       "      <th>MVMN_NM</th>\n",
       "      <td>기타</td>\n",
       "      <td>기타</td>\n",
       "      <td>기타</td>\n",
       "    </tr>\n",
       "    <tr>\n",
       "      <th>TRAVEL_MISSION</th>\n",
       "      <td>3</td>\n",
       "      <td>1</td>\n",
       "      <td>2</td>\n",
       "    </tr>\n",
       "    <tr>\n",
       "      <th>PRE_COST</th>\n",
       "      <td>0</td>\n",
       "      <td>0</td>\n",
       "      <td>0</td>\n",
       "    </tr>\n",
       "    <tr>\n",
       "      <th>LODGOUT_COST</th>\n",
       "      <td>0</td>\n",
       "      <td>0</td>\n",
       "      <td>0</td>\n",
       "    </tr>\n",
       "    <tr>\n",
       "      <th>ACTIVITY_COST</th>\n",
       "      <td>70800</td>\n",
       "      <td>72500</td>\n",
       "      <td>178000</td>\n",
       "    </tr>\n",
       "    <tr>\n",
       "      <th>TOTAL_COST</th>\n",
       "      <td>70800</td>\n",
       "      <td>72500</td>\n",
       "      <td>178000</td>\n",
       "    </tr>\n",
       "    <tr>\n",
       "      <th>where</th>\n",
       "      <td>서울 외 수도권 방문</td>\n",
       "      <td>서울 외 수도권 방문</td>\n",
       "      <td>서울 외 수도권 방문</td>\n",
       "    </tr>\n",
       "    <tr>\n",
       "      <th>country</th>\n",
       "      <td>수도권 거주</td>\n",
       "      <td>수도권 거주</td>\n",
       "      <td>수도권 거주</td>\n",
       "    </tr>\n",
       "    <tr>\n",
       "      <th>age</th>\n",
       "      <td>40세 이상</td>\n",
       "      <td>40세 이상</td>\n",
       "      <td>40세 이상</td>\n",
       "    </tr>\n",
       "    <tr>\n",
       "      <th>whowith</th>\n",
       "      <td>자녀동반</td>\n",
       "      <td>부부</td>\n",
       "      <td>부모 동반</td>\n",
       "    </tr>\n",
       "    <tr>\n",
       "      <th>mission</th>\n",
       "      <td>일반미션</td>\n",
       "      <td>일반미션</td>\n",
       "      <td>일반미션</td>\n",
       "    </tr>\n",
       "  </tbody>\n",
       "</table>\n",
       "</div>"
      ],
      "text/plain": [
       "                            0            1            2\n",
       "TRAVEL_ID           e_e000008    e_e000019    e_e000027\n",
       "TRAVEL_NM                 E03          E03          E03\n",
       "TRAVELER_ID           e000008      e000019      e000027\n",
       "TRAVEL_PURPOSE         [3, 4]       [1, 4]   [2, 5, 21]\n",
       "TRAVEL_START_YMD   2023-04-29   2023-04-30   2023-04-30\n",
       "TRAVEL_END_YMD     2023-04-30   2023-05-01   2023-05-01\n",
       "MVMN_NM                    기타           기타           기타\n",
       "TRAVEL_MISSION              3            1            2\n",
       "PRE_COST                    0            0            0\n",
       "LODGOUT_COST                0            0            0\n",
       "ACTIVITY_COST           70800        72500       178000\n",
       "TOTAL_COST              70800        72500       178000\n",
       "where             서울 외 수도권 방문  서울 외 수도권 방문  서울 외 수도권 방문\n",
       "country                수도권 거주       수도권 거주       수도권 거주\n",
       "age                    40세 이상       40세 이상       40세 이상\n",
       "whowith                  자녀동반           부부        부모 동반\n",
       "mission                  일반미션         일반미션         일반미션"
      ]
     },
     "execution_count": 89,
     "metadata": {},
     "output_type": "execute_result"
    }
   ],
   "source": [
    "df.head(3).T"
   ]
  },
  {
   "cell_type": "code",
   "execution_count": 90,
   "metadata": {},
   "outputs": [],
   "source": [
    "df.to_csv('../data/VL_csv/tn_travel_여행_E_COST_cleaned.csv', index=False, encoding='utf-8-sig')"
   ]
  }
 ],
 "metadata": {
  "kernelspec": {
   "display_name": "llm",
   "language": "python",
   "name": "python3"
  },
  "language_info": {
   "codemirror_mode": {
    "name": "ipython",
    "version": 3
   },
   "file_extension": ".py",
   "mimetype": "text/x-python",
   "name": "python",
   "nbconvert_exporter": "python",
   "pygments_lexer": "ipython3",
   "version": "3.10.13"
  }
 },
 "nbformat": 4,
 "nbformat_minor": 2
}
