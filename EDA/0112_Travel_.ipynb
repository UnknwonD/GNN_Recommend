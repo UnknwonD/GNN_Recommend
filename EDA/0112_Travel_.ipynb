{
 "cells": [
  {
   "cell_type": "code",
   "execution_count": 293,
   "metadata": {},
   "outputs": [
    {
     "name": "stdout",
     "output_type": "stream",
     "text": [
      "(2560, 14)\n"
     ]
    },
    {
     "data": {
      "text/html": [
       "<div>\n",
       "<style scoped>\n",
       "    .dataframe tbody tr th:only-of-type {\n",
       "        vertical-align: middle;\n",
       "    }\n",
       "\n",
       "    .dataframe tbody tr th {\n",
       "        vertical-align: top;\n",
       "    }\n",
       "\n",
       "    .dataframe thead th {\n",
       "        text-align: right;\n",
       "    }\n",
       "</style>\n",
       "<table border=\"1\" class=\"dataframe\">\n",
       "  <thead>\n",
       "    <tr style=\"text-align: right;\">\n",
       "      <th></th>\n",
       "      <th>0</th>\n",
       "      <th>1</th>\n",
       "      <th>2</th>\n",
       "    </tr>\n",
       "  </thead>\n",
       "  <tbody>\n",
       "    <tr>\n",
       "      <th>TRAVEL_ID</th>\n",
       "      <td>e_e000004</td>\n",
       "      <td>e_e000006</td>\n",
       "      <td>e_e000009</td>\n",
       "    </tr>\n",
       "    <tr>\n",
       "      <th>TRAVEL_NM</th>\n",
       "      <td>E03</td>\n",
       "      <td>E03</td>\n",
       "      <td>E03</td>\n",
       "    </tr>\n",
       "    <tr>\n",
       "      <th>TRAVELER_ID</th>\n",
       "      <td>e000004</td>\n",
       "      <td>e000006</td>\n",
       "      <td>e000009</td>\n",
       "    </tr>\n",
       "    <tr>\n",
       "      <th>TRAVEL_PURPOSE</th>\n",
       "      <td>3</td>\n",
       "      <td>21</td>\n",
       "      <td>2;4</td>\n",
       "    </tr>\n",
       "    <tr>\n",
       "      <th>TRAVEL_START_YMD</th>\n",
       "      <td>2023-04-30</td>\n",
       "      <td>2023-04-30</td>\n",
       "      <td>2023-04-29</td>\n",
       "    </tr>\n",
       "    <tr>\n",
       "      <th>TRAVEL_END_YMD</th>\n",
       "      <td>2023-05-01</td>\n",
       "      <td>2023-05-02</td>\n",
       "      <td>2023-05-01</td>\n",
       "    </tr>\n",
       "    <tr>\n",
       "      <th>MVMN_NM</th>\n",
       "      <td>NaN</td>\n",
       "      <td>NaN</td>\n",
       "      <td>NaN</td>\n",
       "    </tr>\n",
       "    <tr>\n",
       "      <th>TRAVEL_PERSONA</th>\n",
       "      <td>서울 외 수도권 방문/수도권 거주/40세 이상/자녀동반/일반미션</td>\n",
       "      <td>경기 방문/거주지 구분 없음/39세 이하/특별미션</td>\n",
       "      <td>서울 외 수도권 방문/수도권 거주/39세 이하/커플/일반미션</td>\n",
       "    </tr>\n",
       "    <tr>\n",
       "      <th>TRAVEL_MISSION</th>\n",
       "      <td>3</td>\n",
       "      <td>21</td>\n",
       "      <td>2;4</td>\n",
       "    </tr>\n",
       "    <tr>\n",
       "      <th>TRAVEL_MISSION_CHECK</th>\n",
       "      <td>3;4;11</td>\n",
       "      <td>21;10;27</td>\n",
       "      <td>22;1;7</td>\n",
       "    </tr>\n",
       "    <tr>\n",
       "      <th>PRE_COST</th>\n",
       "      <td>9500</td>\n",
       "      <td>0</td>\n",
       "      <td>0</td>\n",
       "    </tr>\n",
       "    <tr>\n",
       "      <th>LODGOUT_COST</th>\n",
       "      <td>9500</td>\n",
       "      <td>0</td>\n",
       "      <td>0</td>\n",
       "    </tr>\n",
       "    <tr>\n",
       "      <th>ACTIVITY_COST</th>\n",
       "      <td>0</td>\n",
       "      <td>58500</td>\n",
       "      <td>319340</td>\n",
       "    </tr>\n",
       "    <tr>\n",
       "      <th>TOTAL_COST</th>\n",
       "      <td>19000</td>\n",
       "      <td>58500</td>\n",
       "      <td>319340</td>\n",
       "    </tr>\n",
       "  </tbody>\n",
       "</table>\n",
       "</div>"
      ],
      "text/plain": [
       "                                                        0  \\\n",
       "TRAVEL_ID                                       e_e000004   \n",
       "TRAVEL_NM                                             E03   \n",
       "TRAVELER_ID                                       e000004   \n",
       "TRAVEL_PURPOSE                                          3   \n",
       "TRAVEL_START_YMD                               2023-04-30   \n",
       "TRAVEL_END_YMD                                 2023-05-01   \n",
       "MVMN_NM                                               NaN   \n",
       "TRAVEL_PERSONA        서울 외 수도권 방문/수도권 거주/40세 이상/자녀동반/일반미션   \n",
       "TRAVEL_MISSION                                          3   \n",
       "TRAVEL_MISSION_CHECK                               3;4;11   \n",
       "PRE_COST                                             9500   \n",
       "LODGOUT_COST                                         9500   \n",
       "ACTIVITY_COST                                           0   \n",
       "TOTAL_COST                                          19000   \n",
       "\n",
       "                                                1  \\\n",
       "TRAVEL_ID                               e_e000006   \n",
       "TRAVEL_NM                                     E03   \n",
       "TRAVELER_ID                               e000006   \n",
       "TRAVEL_PURPOSE                                 21   \n",
       "TRAVEL_START_YMD                       2023-04-30   \n",
       "TRAVEL_END_YMD                         2023-05-02   \n",
       "MVMN_NM                                       NaN   \n",
       "TRAVEL_PERSONA        경기 방문/거주지 구분 없음/39세 이하/특별미션   \n",
       "TRAVEL_MISSION                                 21   \n",
       "TRAVEL_MISSION_CHECK                     21;10;27   \n",
       "PRE_COST                                        0   \n",
       "LODGOUT_COST                                    0   \n",
       "ACTIVITY_COST                               58500   \n",
       "TOTAL_COST                                  58500   \n",
       "\n",
       "                                                      2  \n",
       "TRAVEL_ID                                     e_e000009  \n",
       "TRAVEL_NM                                           E03  \n",
       "TRAVELER_ID                                     e000009  \n",
       "TRAVEL_PURPOSE                                      2;4  \n",
       "TRAVEL_START_YMD                             2023-04-29  \n",
       "TRAVEL_END_YMD                               2023-05-01  \n",
       "MVMN_NM                                             NaN  \n",
       "TRAVEL_PERSONA        서울 외 수도권 방문/수도권 거주/39세 이하/커플/일반미션  \n",
       "TRAVEL_MISSION                                      2;4  \n",
       "TRAVEL_MISSION_CHECK                             22;1;7  \n",
       "PRE_COST                                              0  \n",
       "LODGOUT_COST                                          0  \n",
       "ACTIVITY_COST                                    319340  \n",
       "TOTAL_COST                                       319340  "
      ]
     },
     "execution_count": 293,
     "metadata": {},
     "output_type": "execute_result"
    }
   ],
   "source": [
    "import pandas as pd\n",
    "\n",
    "data_path = '../data/VL_csv/tn_travel_여행_E_COST.csv'\n",
    "\n",
    "df = pd.read_csv(data_path)\n",
    "print(df.shape)\n",
    "\n",
    "df.head(3).T"
   ]
  },
  {
   "cell_type": "code",
   "execution_count": 294,
   "metadata": {},
   "outputs": [
    {
     "data": {
      "text/plain": [
       "MVMN_NM\n",
       "자가용       1222\n",
       "대중교통 등    1022\n",
       "Name: count, dtype: int64"
      ]
     },
     "execution_count": 294,
     "metadata": {},
     "output_type": "execute_result"
    }
   ],
   "source": [
    "df['MVMN_NM'].value_counts()"
   ]
  },
  {
   "cell_type": "code",
   "execution_count": 295,
   "metadata": {},
   "outputs": [
    {
     "data": {
      "text/plain": [
       "MVMN_NM\n",
       "자가용     1222\n",
       "대중교통    1022\n",
       "기타       316\n",
       "Name: count, dtype: int64"
      ]
     },
     "execution_count": 295,
     "metadata": {},
     "output_type": "execute_result"
    }
   ],
   "source": [
    "df.fillna({'MVMN_NM': '기타'}, inplace=True)\n",
    "df['MVMN_NM'] = df['MVMN_NM'].replace('대중교통 등', '대중교통')\n",
    "df['MVMN_NM'].value_counts()"
   ]
  },
  {
   "cell_type": "markdown",
   "metadata": {},
   "source": [
    "### 페르소나 전처리"
   ]
  },
  {
   "cell_type": "code",
   "execution_count": 296,
   "metadata": {},
   "outputs": [],
   "source": [
    "where = []\n",
    "country = []\n",
    "age = []\n",
    "whowith = []\n",
    "mission = []\n",
    "\n",
    "\n",
    "for i, row in df.iterrows():\n",
    "    tmp = row['TRAVEL_PERSONA'].split('/')\n",
    "    if tmp[-1] == '특별미션':\n",
    "        where.append(tmp[0])\n",
    "        country.append(tmp[1])\n",
    "        age.append(tmp[2])\n",
    "        whowith.append(tmp[-1])\n",
    "        mission.append(tmp[-1])\n",
    "    else:\n",
    "        where.append(tmp[0])\n",
    "        country.append(tmp[1])\n",
    "        age.append(tmp[2])\n",
    "        whowith.append(tmp[3])\n",
    "        mission.append(tmp[-1])"
   ]
  },
  {
   "cell_type": "code",
   "execution_count": 297,
   "metadata": {},
   "outputs": [],
   "source": [
    "df['where'] = where\n",
    "df['country'] = country\n",
    "df['age'] = age\n",
    "df['whowith'] = whowith\n",
    "df['mission'] = mission"
   ]
  },
  {
   "cell_type": "code",
   "execution_count": 298,
   "metadata": {},
   "outputs": [
    {
     "data": {
      "text/plain": [
       "where\n",
       "서울 외 수도권 방문    1306\n",
       "서울 방문           791\n",
       "경기 방문           412\n",
       "인천 방문            51\n",
       "Name: count, dtype: int64"
      ]
     },
     "execution_count": 298,
     "metadata": {},
     "output_type": "execute_result"
    }
   ],
   "source": [
    "df['where'].value_counts()"
   ]
  },
  {
   "cell_type": "code",
   "execution_count": 299,
   "metadata": {},
   "outputs": [
    {
     "data": {
      "text/plain": [
       "country\n",
       "수도권 거주       1614\n",
       "거주지 구분 없음     663\n",
       "수도권 외 거주      283\n",
       "Name: count, dtype: int64"
      ]
     },
     "execution_count": 299,
     "metadata": {},
     "output_type": "execute_result"
    }
   ],
   "source": [
    "df['country'].value_counts()"
   ]
  },
  {
   "cell_type": "code",
   "execution_count": 300,
   "metadata": {},
   "outputs": [
    {
     "data": {
      "text/plain": [
       "age\n",
       "39세 이하    1936\n",
       "40세 이상     624\n",
       "Name: count, dtype: int64"
      ]
     },
     "execution_count": 300,
     "metadata": {},
     "output_type": "execute_result"
    }
   ],
   "source": [
    "df['age'].value_counts()"
   ]
  },
  {
   "cell_type": "code",
   "execution_count": 301,
   "metadata": {},
   "outputs": [
    {
     "data": {
      "text/plain": [
       "whowith\n",
       "커플          668\n",
       "특별미션        663\n",
       "나홀로 여행      402\n",
       "자녀동반        361\n",
       "부부          195\n",
       "3인 이상 친구    189\n",
       "부모 동반        49\n",
       "3대 동반 여행     33\n",
       "Name: count, dtype: int64"
      ]
     },
     "execution_count": 301,
     "metadata": {},
     "output_type": "execute_result"
    }
   ],
   "source": [
    "df['whowith'].value_counts()"
   ]
  },
  {
   "cell_type": "code",
   "execution_count": 302,
   "metadata": {},
   "outputs": [
    {
     "data": {
      "text/plain": [
       "mission\n",
       "일반미션    1897\n",
       "특별미션     663\n",
       "Name: count, dtype: int64"
      ]
     },
     "execution_count": 302,
     "metadata": {},
     "output_type": "execute_result"
    }
   ],
   "source": [
    "df['mission'].value_counts()"
   ]
  },
  {
   "cell_type": "markdown",
   "metadata": {},
   "source": [
    "### Travel_mission_check 전처리\n",
    "\n",
    "- 무조건 3개씩 고름"
   ]
  },
  {
   "cell_type": "code",
   "execution_count": 303,
   "metadata": {},
   "outputs": [
    {
     "data": {
      "text/plain": [
       "TRAVEL_MISSION_CHECK\n",
       "3    2560\n",
       "Name: count, dtype: int64"
      ]
     },
     "execution_count": 303,
     "metadata": {},
     "output_type": "execute_result"
    }
   ],
   "source": [
    "df['TRAVEL_MISSION_CHECK'].apply(lambda x: len(x.split(';'))).value_counts()"
   ]
  },
  {
   "cell_type": "code",
   "execution_count": 304,
   "metadata": {},
   "outputs": [
    {
     "data": {
      "text/plain": [
       "TRAVEL_MISSION_CHECK\n",
       "[1, 22, 26]    33\n",
       "[6, 1, 4]      29\n",
       "[6, 22, 1]     28\n",
       "[6, 1, 22]     21\n",
       "[6, 22, 26]    21\n",
       "               ..\n",
       "[2, 7, 6]       1\n",
       "[8, 24, 1]      1\n",
       "[24, 21, 4]     1\n",
       "[23, 1, 6]      1\n",
       "[22, 5, 26]     1\n",
       "Name: count, Length: 1236, dtype: int64"
      ]
     },
     "execution_count": 304,
     "metadata": {},
     "output_type": "execute_result"
    }
   ],
   "source": [
    "df['TRAVEL_MISSION_CHECK'].apply(lambda x: x.split(';')).value_counts()"
   ]
  },
  {
   "cell_type": "code",
   "execution_count": 305,
   "metadata": {},
   "outputs": [],
   "source": [
    "df['TRAVEL_MISSION'] = df['TRAVEL_MISSION'].apply(lambda x: x.split(';')[0]) # Mission은 한개만"
   ]
  },
  {
   "cell_type": "code",
   "execution_count": 306,
   "metadata": {},
   "outputs": [],
   "source": [
    "df['TRAVEL_MISSION_CHECK'] = df['TRAVEL_MISSION_CHECK'].apply(lambda x: x.split(';'))"
   ]
  },
  {
   "cell_type": "code",
   "execution_count": 307,
   "metadata": {},
   "outputs": [],
   "source": [
    "from sklearn.preprocessing import MultiLabelBinarizer\n",
    "\n",
    "mlb = MultiLabelBinarizer()\n",
    "mission_matrix = mlb.fit_transform(df['TRAVEL_MISSION_CHECK'])"
   ]
  },
  {
   "cell_type": "markdown",
   "metadata": {},
   "source": [
    "#### 페르소나 특징 확인\n",
    "- 특별여행과 일반여행의 차이점 비교할 것"
   ]
  },
  {
   "cell_type": "code",
   "execution_count": 308,
   "metadata": {},
   "outputs": [
    {
     "data": {
      "image/png": "[encoded data removed]",
      "text/plain": [
       "<Figure size 1000x500 with 1 Axes>"
      ]
     },
     "metadata": {},
     "output_type": "display_data"
    }
   ],
   "source": [
    "df.loc[df['mission'] == '특별미션', 'TRAVEL_MISSION'].astype(int).value_counts().sort_index(ascending=True).plot(kind='barh', figsize=(10, 5), title='Special Mission');"
   ]
  },
  {
   "cell_type": "code",
   "execution_count": 309,
   "metadata": {},
   "outputs": [
    {
     "data": {
      "image/png": "[encoded data removed]",
      "text/plain": [
       "<Figure size 1000x500 with 1 Axes>"
      ]
     },
     "metadata": {},
     "output_type": "display_data"
    }
   ],
   "source": [
    "df.loc[df['mission'] == '일반미션', 'TRAVEL_MISSION'].astype(int).value_counts().sort_index(ascending=True).plot(kind='barh', figsize=(10, 5), title='General Mission');"
   ]
  },
  {
   "cell_type": "code",
   "execution_count": 310,
   "metadata": {},
   "outputs": [],
   "source": [
    "import matplotlib.pyplot as plt\n",
    "\n",
    "plt.rcParams['font.family'] = 'AppleGothic'"
   ]
  },
  {
   "cell_type": "code",
   "execution_count": 311,
   "metadata": {},
   "outputs": [
    {
     "data": {
      "image/png": "[encoded data removed]",
      "text/plain": [
       "<Figure size 1000x600 with 1 Axes>"
      ]
     },
     "metadata": {},
     "output_type": "display_data"
    }
   ],
   "source": [
    "# 1. 미션별 카운트\n",
    "special = df.loc[df['mission'] == '특별미션', 'TRAVEL_MISSION'].astype(int).value_counts()\n",
    "general = df.loc[df['mission'] == '일반미션', 'TRAVEL_MISSION'].astype(int).value_counts()\n",
    "\n",
    "# 2. 두 시리즈를 병합\n",
    "mission_df = pd.DataFrame({\n",
    "    '특별미션': special,\n",
    "    '일반미션': general\n",
    "}).fillna(0).astype(int).sort_index()\n",
    "\n",
    "# 3. 막대 그래프\n",
    "mission_df.plot(kind='barh', stacked=True, figsize=(10, 6), color=['crimson', 'steelblue'])\n",
    "\n",
    "plt.title(\"TRAVEL_MISSION 별 미션 분포 (Stacked)\")\n",
    "plt.xlabel(\"Count\")\n",
    "plt.ylabel(\"TRAVEL_MISSION 코드\")\n",
    "plt.legend(title=\"미션 유형\")\n",
    "plt.grid(axis='x', linestyle='--', alpha=0.5)\n",
    "plt.tight_layout()\n",
    "plt.show()"
   ]
  },
  {
   "cell_type": "code",
   "execution_count": 312,
   "metadata": {},
   "outputs": [
    {
     "data": {
      "image/png": "[encoded data removed]",
      "text/plain": [
       "<Figure size 1000x600 with 1 Axes>"
      ]
     },
     "metadata": {},
     "output_type": "display_data"
    }
   ],
   "source": [
    "# 1. 개수 계산\n",
    "special = df.loc[df['mission'] == '특별미션', 'TRAVEL_MISSION'].astype(int).value_counts(normalize=True) * 100\n",
    "general = df.loc[df['mission'] == '일반미션', 'TRAVEL_MISSION'].astype(int).value_counts(normalize=True) * 100\n",
    "\n",
    "mission_pct = pd.DataFrame({\n",
    "    '특별미션(%)': special,\n",
    "    '일반미션(%)': general\n",
    "}).fillna(0).sort_index()\n",
    "\n",
    "mission_pct.plot(kind='barh', figsize=(10, 6), color=['crimson', 'steelblue'])\n",
    "\n",
    "plt.title(\"TRAVEL_MISSION 분포 비율 (미션 유형별 정규화)\")\n",
    "plt.xlabel(\"해당 미션 내 비율 (%)\")\n",
    "plt.ylabel(\"TRAVEL_MISSION 코드\")\n",
    "plt.legend(title=\"미션 유형\")\n",
    "plt.grid(axis='x', linestyle='--', alpha=0.5)\n",
    "plt.tight_layout()\n",
    "plt.show()\n"
   ]
  },
  {
   "cell_type": "markdown",
   "metadata": {},
   "source": [
    "##  TRAVEL_MISSION 유형별 주요 미션 분포\n",
    "\n",
    "### 1. 일반 미션 (`mission == '일반미션'`)\n",
    "\n",
    "| 미션 코드 | 미션 내용                | 특징               |\n",
    "| ----- | -------------------- | ---------------- |\n",
    "| `1번`  | 쇼핑                   | 가장 높은 비중         |\n",
    "| `2번`  | 테마파크, 놀이시설, 동/식물원 방문 | 가족 단위, 대중적 성향 중심 |\n",
    "\n",
    "> 일반 미션은 전체 참가자 수가 많고, **보편적인 여행 수요**가 반영된 결과로 보임\n",
    "\n",
    "---\n",
    "\n",
    "### 2. 특별 미션 (`mission == '특별미션'`)\n",
    "\n",
    "| 미션 코드 | 미션 내용        | 특징                   |\n",
    "| ----- | ------------ | -------------------- |\n",
    "| `21번` | Well-ness 여행 | 트렌디한 헬스케어 및 힐링 중심    |\n",
    "| `22번` | SNS 인생샷 여행   | 사진 촬영 중심, MZ세대 취향 반영 |\n",
    "\n",
    "> 특별 미션은 상대적으로 참가자 수는 적지만, **명확한 컨셉**과 **차별화된 테마**가 강조됨\n",
    "\n",
    "---\n",
    "\n",
    "### 📊 시사점\n",
    "\n",
    "* `일반미션`은 **일상적/대중적 목적**이 강하며, 쇼핑 및 놀이시설 선호도가 높음\n",
    "* `특별미션`은 **힐링, 자기 표현(SNS)** 중심의 컨셉이 주를 이룸\n",
    "* **추천 시스템 설계 시**, 미션 유형에 따라 **전혀 다른 사용자 니즈**를 반영해야 함\n",
    "\n",
    "---\n"
   ]
  },
  {
   "cell_type": "code",
   "execution_count": 313,
   "metadata": {},
   "outputs": [],
   "source": [
    "df['TRAVEL_PURPOSE'] = df['TRAVEL_PURPOSE'].apply(lambda x: x.split(';'))"
   ]
  },
  {
   "cell_type": "code",
   "execution_count": 314,
   "metadata": {},
   "outputs": [],
   "source": [
    "df.drop(columns=['TRAVEL_PERSONA', 'TRAVEL_MISSION_CHECK', 'PRE_COST'], inplace=True)"
   ]
  },
  {
   "cell_type": "markdown",
   "metadata": {},
   "source": [
    "- Travel_Purpose : 원핫 인코딩\n",
    "- country, mission : 원핫인코딩\n",
    "- age : label 인코딩 (1, 2)\n",
    "- LODGOUT_COST, ACTIVITY_COST,TOTAL_COST : 스케일링 해야되나"
   ]
  },
  {
   "cell_type": "code",
   "execution_count": 315,
   "metadata": {},
   "outputs": [],
   "source": [
    "import numpy as np\n",
    "from sklearn.preprocessing import LabelEncoder, MultiLabelBinarizer"
   ]
  },
  {
   "cell_type": "code",
   "execution_count": 316,
   "metadata": {},
   "outputs": [],
   "source": [
    "travel_df = df.copy()"
   ]
  },
  {
   "cell_type": "code",
   "execution_count": 317,
   "metadata": {},
   "outputs": [],
   "source": [
    "travel_df[\"TRAVEL_START_YMD\"] = pd.to_datetime(travel_df[\"TRAVEL_START_YMD\"], errors=\"coerce\")\n",
    "travel_df[\"TRAVEL_END_YMD\"] = pd.to_datetime(travel_df[\"TRAVEL_END_YMD\"], errors=\"coerce\")\n",
    "travel_df[\"DURATION\"] = (travel_df[\"TRAVEL_END_YMD\"] - travel_df[\"TRAVEL_START_YMD\"]).dt.days.fillna(0)\n"
   ]
  },
  {
   "cell_type": "code",
   "execution_count": 318,
   "metadata": {},
   "outputs": [],
   "source": [
    "mlb = MultiLabelBinarizer()\n",
    "\n",
    "purpose_encoded = mlb.fit_transform(travel_df[\"TRAVEL_PURPOSE\"])\n",
    "purpose_cols = [f\"PURPOSE_{p}\" for p in mlb.classes_]\n",
    "purpose_df = pd.DataFrame(purpose_encoded, columns=purpose_cols)"
   ]
  },
  {
   "cell_type": "code",
   "execution_count": 319,
   "metadata": {},
   "outputs": [],
   "source": [
    "cat_cols = ['MVMN_NM', \"age\", \"whowith\", \"mission\"]\n",
    "encoded_cats = []\n",
    "label_encoders = {}\n",
    "\n",
    "for col in cat_cols:\n",
    "    le = LabelEncoder()\n",
    "    filled = travel_df[col].fillna(\"미상\").astype(str)\n",
    "    encoded = le.fit_transform(filled)\n",
    "    encoded_cats.append(encoded.reshape(-1, 1))\n",
    "    label_encoders[col] = le\n",
    "\n",
    "encoded_cat_features = np.concatenate(encoded_cats, axis=1)\n",
    "cat_df = pd.DataFrame(encoded_cat_features, columns=[f\"{col}_ENC\" for col in cat_cols])"
   ]
  },
  {
   "cell_type": "code",
   "execution_count": 320,
   "metadata": {},
   "outputs": [],
   "source": [
    "from sklearn.preprocessing import MinMaxScaler\n",
    "num_cols = [\"LODGOUT_COST\", \"ACTIVITY_COST\", \"TOTAL_COST\", \"DURATION\"]\n",
    "\n",
    "scaler = MinMaxScaler()\n",
    "scaled_num = scaler.fit_transform(travel_df[num_cols].fillna(0))\n",
    "scaled_num_df = pd.DataFrame(scaled_num, columns=num_cols)"
   ]
  },
  {
   "cell_type": "code",
   "execution_count": 321,
   "metadata": {},
   "outputs": [],
   "source": [
    "travel_id_col = travel_df[\"TRAVEL_ID\"].reset_index(drop=True)\n",
    "traveler_id_col = travel_df[\"TRAVELER_ID\"].reset_index(drop=True)\n",
    "final_travel_df = pd.concat([travel_id_col, traveler_id_col, scaled_num_df, purpose_df, cat_df], axis=1)"
   ]
  },
  {
   "cell_type": "code",
   "execution_count": 328,
   "metadata": {},
   "outputs": [
    {
     "data": {
      "text/plain": [
       "Index(['TRAVEL_ID', 'TRAVELER_ID', 'LODGOUT_COST', 'ACTIVITY_COST',\n",
       "       'TOTAL_COST', 'DURATION', 'PURPOSE_1', 'PURPOSE_10', 'PURPOSE_11',\n",
       "       'PURPOSE_12', 'PURPOSE_13', 'PURPOSE_2', 'PURPOSE_21', 'PURPOSE_22',\n",
       "       'PURPOSE_23', 'PURPOSE_24', 'PURPOSE_25', 'PURPOSE_26', 'PURPOSE_27',\n",
       "       'PURPOSE_28', 'PURPOSE_3', 'PURPOSE_4', 'PURPOSE_5', 'PURPOSE_6',\n",
       "       'PURPOSE_7', 'PURPOSE_8', 'PURPOSE_9', 'MVMN_NM_ENC', 'age_ENC',\n",
       "       'whowith_ENC', 'mission_ENC'],\n",
       "      dtype='object')"
      ]
     },
     "execution_count": 328,
     "metadata": {},
     "output_type": "execute_result"
    }
   ],
   "source": [
    "final_travel_df.columns"
   ]
  },
  {
   "cell_type": "code",
   "execution_count": 322,
   "metadata": {},
   "outputs": [
    {
     "data": {
      "text/plain": [
       "MVMN_NM\n",
       "자가용     1222\n",
       "대중교통    1022\n",
       "기타       316\n",
       "Name: count, dtype: int64"
      ]
     },
     "execution_count": 322,
     "metadata": {},
     "output_type": "execute_result"
    }
   ],
   "source": [
    "df['MVMN_NM'].value_counts()"
   ]
  },
  {
   "cell_type": "code",
   "execution_count": 323,
   "metadata": {},
   "outputs": [
    {
     "data": {
      "text/html": [
       "<div>\n",
       "<style scoped>\n",
       "    .dataframe tbody tr th:only-of-type {\n",
       "        vertical-align: middle;\n",
       "    }\n",
       "\n",
       "    .dataframe tbody tr th {\n",
       "        vertical-align: top;\n",
       "    }\n",
       "\n",
       "    .dataframe thead th {\n",
       "        text-align: right;\n",
       "    }\n",
       "</style>\n",
       "<table border=\"1\" class=\"dataframe\">\n",
       "  <thead>\n",
       "    <tr style=\"text-align: right;\">\n",
       "      <th></th>\n",
       "      <th>0</th>\n",
       "      <th>1</th>\n",
       "      <th>2</th>\n",
       "    </tr>\n",
       "  </thead>\n",
       "  <tbody>\n",
       "    <tr>\n",
       "      <th>TRAVEL_ID</th>\n",
       "      <td>e_e000004</td>\n",
       "      <td>e_e000006</td>\n",
       "      <td>e_e000009</td>\n",
       "    </tr>\n",
       "    <tr>\n",
       "      <th>TRAVELER_ID</th>\n",
       "      <td>e000004</td>\n",
       "      <td>e000006</td>\n",
       "      <td>e000009</td>\n",
       "    </tr>\n",
       "    <tr>\n",
       "      <th>LODGOUT_COST</th>\n",
       "      <td>0.014394</td>\n",
       "      <td>0.0</td>\n",
       "      <td>0.0</td>\n",
       "    </tr>\n",
       "    <tr>\n",
       "      <th>ACTIVITY_COST</th>\n",
       "      <td>0.0</td>\n",
       "      <td>0.003882</td>\n",
       "      <td>0.021188</td>\n",
       "    </tr>\n",
       "    <tr>\n",
       "      <th>TOTAL_COST</th>\n",
       "      <td>0.001261</td>\n",
       "      <td>0.003882</td>\n",
       "      <td>0.021188</td>\n",
       "    </tr>\n",
       "    <tr>\n",
       "      <th>DURATION</th>\n",
       "      <td>0.0</td>\n",
       "      <td>0.25</td>\n",
       "      <td>0.25</td>\n",
       "    </tr>\n",
       "    <tr>\n",
       "      <th>PURPOSE_1</th>\n",
       "      <td>0</td>\n",
       "      <td>0</td>\n",
       "      <td>0</td>\n",
       "    </tr>\n",
       "    <tr>\n",
       "      <th>PURPOSE_10</th>\n",
       "      <td>0</td>\n",
       "      <td>0</td>\n",
       "      <td>0</td>\n",
       "    </tr>\n",
       "    <tr>\n",
       "      <th>PURPOSE_11</th>\n",
       "      <td>0</td>\n",
       "      <td>0</td>\n",
       "      <td>0</td>\n",
       "    </tr>\n",
       "    <tr>\n",
       "      <th>PURPOSE_12</th>\n",
       "      <td>0</td>\n",
       "      <td>0</td>\n",
       "      <td>0</td>\n",
       "    </tr>\n",
       "    <tr>\n",
       "      <th>PURPOSE_13</th>\n",
       "      <td>0</td>\n",
       "      <td>0</td>\n",
       "      <td>0</td>\n",
       "    </tr>\n",
       "    <tr>\n",
       "      <th>PURPOSE_2</th>\n",
       "      <td>0</td>\n",
       "      <td>0</td>\n",
       "      <td>1</td>\n",
       "    </tr>\n",
       "    <tr>\n",
       "      <th>PURPOSE_21</th>\n",
       "      <td>0</td>\n",
       "      <td>1</td>\n",
       "      <td>0</td>\n",
       "    </tr>\n",
       "    <tr>\n",
       "      <th>PURPOSE_22</th>\n",
       "      <td>0</td>\n",
       "      <td>0</td>\n",
       "      <td>0</td>\n",
       "    </tr>\n",
       "    <tr>\n",
       "      <th>PURPOSE_23</th>\n",
       "      <td>0</td>\n",
       "      <td>0</td>\n",
       "      <td>0</td>\n",
       "    </tr>\n",
       "    <tr>\n",
       "      <th>PURPOSE_24</th>\n",
       "      <td>0</td>\n",
       "      <td>0</td>\n",
       "      <td>0</td>\n",
       "    </tr>\n",
       "    <tr>\n",
       "      <th>PURPOSE_25</th>\n",
       "      <td>0</td>\n",
       "      <td>0</td>\n",
       "      <td>0</td>\n",
       "    </tr>\n",
       "    <tr>\n",
       "      <th>PURPOSE_26</th>\n",
       "      <td>0</td>\n",
       "      <td>0</td>\n",
       "      <td>0</td>\n",
       "    </tr>\n",
       "    <tr>\n",
       "      <th>PURPOSE_27</th>\n",
       "      <td>0</td>\n",
       "      <td>0</td>\n",
       "      <td>0</td>\n",
       "    </tr>\n",
       "    <tr>\n",
       "      <th>PURPOSE_28</th>\n",
       "      <td>0</td>\n",
       "      <td>0</td>\n",
       "      <td>0</td>\n",
       "    </tr>\n",
       "    <tr>\n",
       "      <th>PURPOSE_3</th>\n",
       "      <td>1</td>\n",
       "      <td>0</td>\n",
       "      <td>0</td>\n",
       "    </tr>\n",
       "    <tr>\n",
       "      <th>PURPOSE_4</th>\n",
       "      <td>0</td>\n",
       "      <td>0</td>\n",
       "      <td>1</td>\n",
       "    </tr>\n",
       "    <tr>\n",
       "      <th>PURPOSE_5</th>\n",
       "      <td>0</td>\n",
       "      <td>0</td>\n",
       "      <td>0</td>\n",
       "    </tr>\n",
       "    <tr>\n",
       "      <th>PURPOSE_6</th>\n",
       "      <td>0</td>\n",
       "      <td>0</td>\n",
       "      <td>0</td>\n",
       "    </tr>\n",
       "    <tr>\n",
       "      <th>PURPOSE_7</th>\n",
       "      <td>0</td>\n",
       "      <td>0</td>\n",
       "      <td>0</td>\n",
       "    </tr>\n",
       "    <tr>\n",
       "      <th>PURPOSE_8</th>\n",
       "      <td>0</td>\n",
       "      <td>0</td>\n",
       "      <td>0</td>\n",
       "    </tr>\n",
       "    <tr>\n",
       "      <th>PURPOSE_9</th>\n",
       "      <td>0</td>\n",
       "      <td>0</td>\n",
       "      <td>0</td>\n",
       "    </tr>\n",
       "    <tr>\n",
       "      <th>MVMN_NM_ENC</th>\n",
       "      <td>0</td>\n",
       "      <td>0</td>\n",
       "      <td>0</td>\n",
       "    </tr>\n",
       "    <tr>\n",
       "      <th>age_ENC</th>\n",
       "      <td>1</td>\n",
       "      <td>0</td>\n",
       "      <td>0</td>\n",
       "    </tr>\n",
       "    <tr>\n",
       "      <th>whowith_ENC</th>\n",
       "      <td>5</td>\n",
       "      <td>7</td>\n",
       "      <td>6</td>\n",
       "    </tr>\n",
       "    <tr>\n",
       "      <th>mission_ENC</th>\n",
       "      <td>0</td>\n",
       "      <td>1</td>\n",
       "      <td>0</td>\n",
       "    </tr>\n",
       "  </tbody>\n",
       "</table>\n",
       "</div>"
      ],
      "text/plain": [
       "                       0          1          2\n",
       "TRAVEL_ID      e_e000004  e_e000006  e_e000009\n",
       "TRAVELER_ID      e000004    e000006    e000009\n",
       "LODGOUT_COST    0.014394        0.0        0.0\n",
       "ACTIVITY_COST        0.0   0.003882   0.021188\n",
       "TOTAL_COST      0.001261   0.003882   0.021188\n",
       "DURATION             0.0       0.25       0.25\n",
       "PURPOSE_1              0          0          0\n",
       "PURPOSE_10             0          0          0\n",
       "PURPOSE_11             0          0          0\n",
       "PURPOSE_12             0          0          0\n",
       "PURPOSE_13             0          0          0\n",
       "PURPOSE_2              0          0          1\n",
       "PURPOSE_21             0          1          0\n",
       "PURPOSE_22             0          0          0\n",
       "PURPOSE_23             0          0          0\n",
       "PURPOSE_24             0          0          0\n",
       "PURPOSE_25             0          0          0\n",
       "PURPOSE_26             0          0          0\n",
       "PURPOSE_27             0          0          0\n",
       "PURPOSE_28             0          0          0\n",
       "PURPOSE_3              1          0          0\n",
       "PURPOSE_4              0          0          1\n",
       "PURPOSE_5              0          0          0\n",
       "PURPOSE_6              0          0          0\n",
       "PURPOSE_7              0          0          0\n",
       "PURPOSE_8              0          0          0\n",
       "PURPOSE_9              0          0          0\n",
       "MVMN_NM_ENC            0          0          0\n",
       "age_ENC                1          0          0\n",
       "whowith_ENC            5          7          6\n",
       "mission_ENC            0          1          0"
      ]
     },
     "execution_count": 323,
     "metadata": {},
     "output_type": "execute_result"
    }
   ],
   "source": [
    "final_travel_df.head(3).T"
   ]
  },
  {
   "cell_type": "code",
   "execution_count": 324,
   "metadata": {},
   "outputs": [],
   "source": [
    "final_travel_df.to_csv('../data/VL_csv/tn_travel_여행_E_COST_cleaned_gnn.csv', index=False, encoding='utf-8-sig')"
   ]
  },
  {
   "cell_type": "code",
   "execution_count": 325,
   "metadata": {},
   "outputs": [
    {
     "data": {
      "text/plain": [
       "(2560, 31)"
      ]
     },
     "execution_count": 325,
     "metadata": {},
     "output_type": "execute_result"
    }
   ],
   "source": [
    "final_travel_df.shape"
   ]
  },
  {
   "cell_type": "code",
   "execution_count": 326,
   "metadata": {},
   "outputs": [],
   "source": [
    "df.to_csv('../data/VL_csv/tn_travel_여행_E_COST_cleaned.csv', index=False, encoding='utf-8-sig')"
   ]
  }
 ],
 "metadata": {
  "kernelspec": {
   "display_name": "llm",
   "language": "python",
   "name": "python3"
  },
  "language_info": {
   "codemirror_mode": {
    "name": "ipython",
    "version": 3
   },
   "file_extension": ".py",
   "mimetype": "text/x-python",
   "name": "python",
   "nbconvert_exporter": "python",
   "pygments_lexer": "ipython3",
   "version": "3.10.13"
  }
 },
 "nbformat": 4,
 "nbformat_minor": 2
}
