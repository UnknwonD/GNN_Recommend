{
 "cells": [
  {
   "cell_type": "code",
   "execution_count": 4,
   "metadata": {},
   "outputs": [
    {
     "name": "stdout",
     "output_type": "stream",
     "text": [
      "(2560, 10)\n"
     ]
    },
    {
     "data": {
      "text/html": [
       "<div>\n",
       "<style scoped>\n",
       "    .dataframe tbody tr th:only-of-type {\n",
       "        vertical-align: middle;\n",
       "    }\n",
       "\n",
       "    .dataframe tbody tr th {\n",
       "        vertical-align: top;\n",
       "    }\n",
       "\n",
       "    .dataframe thead th {\n",
       "        text-align: right;\n",
       "    }\n",
       "</style>\n",
       "<table border=\"1\" class=\"dataframe\">\n",
       "  <thead>\n",
       "    <tr style=\"text-align: right;\">\n",
       "      <th></th>\n",
       "      <th>0</th>\n",
       "      <th>1</th>\n",
       "      <th>2</th>\n",
       "    </tr>\n",
       "  </thead>\n",
       "  <tbody>\n",
       "    <tr>\n",
       "      <th>TRAVEL_ID</th>\n",
       "      <td>e_e000004</td>\n",
       "      <td>e_e000006</td>\n",
       "      <td>e_e000009</td>\n",
       "    </tr>\n",
       "    <tr>\n",
       "      <th>TRAVEL_NM</th>\n",
       "      <td>E03</td>\n",
       "      <td>E03</td>\n",
       "      <td>E03</td>\n",
       "    </tr>\n",
       "    <tr>\n",
       "      <th>TRAVELER_ID</th>\n",
       "      <td>e000004</td>\n",
       "      <td>e000006</td>\n",
       "      <td>e000009</td>\n",
       "    </tr>\n",
       "    <tr>\n",
       "      <th>TRAVEL_PURPOSE</th>\n",
       "      <td>3</td>\n",
       "      <td>21</td>\n",
       "      <td>2;4</td>\n",
       "    </tr>\n",
       "    <tr>\n",
       "      <th>TRAVEL_START_YMD</th>\n",
       "      <td>2023-04-30</td>\n",
       "      <td>2023-04-30</td>\n",
       "      <td>2023-04-29</td>\n",
       "    </tr>\n",
       "    <tr>\n",
       "      <th>TRAVEL_END_YMD</th>\n",
       "      <td>2023-05-01</td>\n",
       "      <td>2023-05-02</td>\n",
       "      <td>2023-05-01</td>\n",
       "    </tr>\n",
       "    <tr>\n",
       "      <th>MVMN_NM</th>\n",
       "      <td>NaN</td>\n",
       "      <td>NaN</td>\n",
       "      <td>NaN</td>\n",
       "    </tr>\n",
       "    <tr>\n",
       "      <th>TRAVEL_PERSONA</th>\n",
       "      <td>서울 외 수도권 방문/수도권 거주/40세 이상/자녀동반/일반미션</td>\n",
       "      <td>경기 방문/거주지 구분 없음/39세 이하/특별미션</td>\n",
       "      <td>서울 외 수도권 방문/수도권 거주/39세 이하/커플/일반미션</td>\n",
       "    </tr>\n",
       "    <tr>\n",
       "      <th>TRAVEL_MISSION</th>\n",
       "      <td>3</td>\n",
       "      <td>21</td>\n",
       "      <td>2;4</td>\n",
       "    </tr>\n",
       "    <tr>\n",
       "      <th>TRAVEL_MISSION_CHECK</th>\n",
       "      <td>3;4;11</td>\n",
       "      <td>21;10;27</td>\n",
       "      <td>22;1;7</td>\n",
       "    </tr>\n",
       "  </tbody>\n",
       "</table>\n",
       "</div>"
      ],
      "text/plain": [
       "                                                        0  \\\n",
       "TRAVEL_ID                                       e_e000004   \n",
       "TRAVEL_NM                                             E03   \n",
       "TRAVELER_ID                                       e000004   \n",
       "TRAVEL_PURPOSE                                          3   \n",
       "TRAVEL_START_YMD                               2023-04-30   \n",
       "TRAVEL_END_YMD                                 2023-05-01   \n",
       "MVMN_NM                                               NaN   \n",
       "TRAVEL_PERSONA        서울 외 수도권 방문/수도권 거주/40세 이상/자녀동반/일반미션   \n",
       "TRAVEL_MISSION                                          3   \n",
       "TRAVEL_MISSION_CHECK                               3;4;11   \n",
       "\n",
       "                                                1  \\\n",
       "TRAVEL_ID                               e_e000006   \n",
       "TRAVEL_NM                                     E03   \n",
       "TRAVELER_ID                               e000006   \n",
       "TRAVEL_PURPOSE                                 21   \n",
       "TRAVEL_START_YMD                       2023-04-30   \n",
       "TRAVEL_END_YMD                         2023-05-02   \n",
       "MVMN_NM                                       NaN   \n",
       "TRAVEL_PERSONA        경기 방문/거주지 구분 없음/39세 이하/특별미션   \n",
       "TRAVEL_MISSION                                 21   \n",
       "TRAVEL_MISSION_CHECK                     21;10;27   \n",
       "\n",
       "                                                      2  \n",
       "TRAVEL_ID                                     e_e000009  \n",
       "TRAVEL_NM                                           E03  \n",
       "TRAVELER_ID                                     e000009  \n",
       "TRAVEL_PURPOSE                                      2;4  \n",
       "TRAVEL_START_YMD                             2023-04-29  \n",
       "TRAVEL_END_YMD                               2023-05-01  \n",
       "MVMN_NM                                             NaN  \n",
       "TRAVEL_PERSONA        서울 외 수도권 방문/수도권 거주/39세 이하/커플/일반미션  \n",
       "TRAVEL_MISSION                                      2;4  \n",
       "TRAVEL_MISSION_CHECK                             22;1;7  "
      ]
     },
     "execution_count": 4,
     "metadata": {},
     "output_type": "execute_result"
    }
   ],
   "source": [
    "import pandas as pd\n",
    "\n",
    "data_path = '../data/VL_csv/tn_travel_여행_E.csv'\n",
    "\n",
    "df = pd.read_csv(data_path)\n",
    "print(df.shape)\n",
    "\n",
    "df.head(3).T"
   ]
  },
  {
   "cell_type": "code",
   "execution_count": 3,
   "metadata": {},
   "outputs": [
    {
     "data": {
      "text/plain": [
       "MVMN_NM\n",
       "자가용       1222\n",
       "대중교통 등    1022\n",
       "Name: count, dtype: int64"
      ]
     },
     "execution_count": 3,
     "metadata": {},
     "output_type": "execute_result"
    }
   ],
   "source": [
    "df['MVMN_NM'].value_counts()"
   ]
  },
  {
   "cell_type": "code",
   "execution_count": 28,
   "metadata": {},
   "outputs": [
    {
     "data": {
      "text/plain": [
       "MVMN_NM\n",
       "자가용     1222\n",
       "대중교통    1022\n",
       "기타       316\n",
       "Name: count, dtype: int64"
      ]
     },
     "execution_count": 28,
     "metadata": {},
     "output_type": "execute_result"
    }
   ],
   "source": [
    "df['MVMN_NM'].fillna('기타', inplace=True)\n",
    "df['MVMN_NM'].replace('대중교통 등', '대중교통', inplace=True)\n",
    "df['MVMN_NM'].value_counts()"
   ]
  },
  {
   "cell_type": "markdown",
   "metadata": {},
   "source": [
    "### 페르소나 전처리"
   ]
  },
  {
   "cell_type": "code",
   "execution_count": 29,
   "metadata": {},
   "outputs": [],
   "source": [
    "where = []\n",
    "country = []\n",
    "age = []\n",
    "whowith = []\n",
    "mission = []\n",
    "\n",
    "\n",
    "for i, row in df.iterrows():\n",
    "    tmp = row['TRAVEL_PERSONA'].split('/')\n",
    "    if tmp[-1] == '특별미션':\n",
    "        where.append(tmp[0])\n",
    "        country.append(tmp[1])\n",
    "        age.append(tmp[2])\n",
    "        whowith.append(tmp[-1])\n",
    "        mission.append(tmp[-1])\n",
    "    else:\n",
    "        where.append(tmp[0])\n",
    "        country.append(tmp[1])\n",
    "        age.append(tmp[2])\n",
    "        whowith.append(tmp[3])\n",
    "        mission.append(tmp[-1])"
   ]
  },
  {
   "cell_type": "code",
   "execution_count": 30,
   "metadata": {},
   "outputs": [],
   "source": [
    "df['where'] = where\n",
    "df['country'] = country\n",
    "df['age'] = age\n",
    "df['whowith'] = whowith\n",
    "df['mission'] = mission"
   ]
  },
  {
   "cell_type": "code",
   "execution_count": 31,
   "metadata": {},
   "outputs": [
    {
     "data": {
      "text/plain": [
       "where\n",
       "서울 외 수도권 방문    1306\n",
       "서울 방문           791\n",
       "경기 방문           412\n",
       "인천 방문            51\n",
       "Name: count, dtype: int64"
      ]
     },
     "execution_count": 31,
     "metadata": {},
     "output_type": "execute_result"
    }
   ],
   "source": [
    "df['where'].value_counts()"
   ]
  },
  {
   "cell_type": "code",
   "execution_count": 32,
   "metadata": {},
   "outputs": [
    {
     "data": {
      "text/plain": [
       "country\n",
       "수도권 거주       1614\n",
       "거주지 구분 없음     663\n",
       "수도권 외 거주      283\n",
       "Name: count, dtype: int64"
      ]
     },
     "execution_count": 32,
     "metadata": {},
     "output_type": "execute_result"
    }
   ],
   "source": [
    "df['country'].value_counts()"
   ]
  },
  {
   "cell_type": "code",
   "execution_count": 33,
   "metadata": {},
   "outputs": [
    {
     "data": {
      "text/plain": [
       "age\n",
       "39세 이하    1936\n",
       "40세 이상     624\n",
       "Name: count, dtype: int64"
      ]
     },
     "execution_count": 33,
     "metadata": {},
     "output_type": "execute_result"
    }
   ],
   "source": [
    "df['age'].value_counts()"
   ]
  },
  {
   "cell_type": "code",
   "execution_count": 34,
   "metadata": {},
   "outputs": [
    {
     "data": {
      "text/plain": [
       "whowith\n",
       "커플          668\n",
       "특별미션        663\n",
       "나홀로 여행      402\n",
       "자녀동반        361\n",
       "부부          195\n",
       "3인 이상 친구    189\n",
       "부모 동반        49\n",
       "3대 동반 여행     33\n",
       "Name: count, dtype: int64"
      ]
     },
     "execution_count": 34,
     "metadata": {},
     "output_type": "execute_result"
    }
   ],
   "source": [
    "df['whowith'].value_counts()"
   ]
  },
  {
   "cell_type": "code",
   "execution_count": 35,
   "metadata": {},
   "outputs": [
    {
     "data": {
      "text/plain": [
       "mission\n",
       "일반미션    1897\n",
       "특별미션     663\n",
       "Name: count, dtype: int64"
      ]
     },
     "execution_count": 35,
     "metadata": {},
     "output_type": "execute_result"
    }
   ],
   "source": [
    "df['mission'].value_counts()"
   ]
  },
  {
   "cell_type": "markdown",
   "metadata": {},
   "source": [
    "#### 페르소나 특징 확인\n",
    "- 특별여행과 일반여행의 차이점 비교할 것"
   ]
  },
  {
   "cell_type": "code",
   "execution_count": null,
   "metadata": {},
   "outputs": [
    {
     "data": {
      "text/html": [
       "<div>\n",
       "<style scoped>\n",
       "    .dataframe tbody tr th:only-of-type {\n",
       "        vertical-align: middle;\n",
       "    }\n",
       "\n",
       "    .dataframe tbody tr th {\n",
       "        vertical-align: top;\n",
       "    }\n",
       "\n",
       "    .dataframe thead th {\n",
       "        text-align: right;\n",
       "    }\n",
       "</style>\n",
       "<table border=\"1\" class=\"dataframe\">\n",
       "  <thead>\n",
       "    <tr style=\"text-align: right;\">\n",
       "      <th></th>\n",
       "      <th>TRAVEL_ID</th>\n",
       "      <th>TRAVEL_NM</th>\n",
       "      <th>TRAVELER_ID</th>\n",
       "      <th>TRAVEL_PURPOSE</th>\n",
       "      <th>TRAVEL_START_YMD</th>\n",
       "      <th>TRAVEL_END_YMD</th>\n",
       "      <th>MVMN_NM</th>\n",
       "      <th>TRAVEL_PERSONA</th>\n",
       "      <th>TRAVEL_MISSION</th>\n",
       "      <th>TRAVEL_MISSION_CHECK</th>\n",
       "      <th>where</th>\n",
       "      <th>country</th>\n",
       "      <th>age</th>\n",
       "      <th>whowith</th>\n",
       "      <th>mission</th>\n",
       "    </tr>\n",
       "  </thead>\n",
       "  <tbody>\n",
       "    <tr>\n",
       "      <th>1</th>\n",
       "      <td>e_e000006</td>\n",
       "      <td>E03</td>\n",
       "      <td>e000006</td>\n",
       "      <td>21</td>\n",
       "      <td>2023-04-30</td>\n",
       "      <td>2023-05-02</td>\n",
       "      <td>기타</td>\n",
       "      <td>경기 방문/거주지 구분 없음/39세 이하/특별미션</td>\n",
       "      <td>21</td>\n",
       "      <td>[21, 10, 27]</td>\n",
       "      <td>경기 방문</td>\n",
       "      <td>거주지 구분 없음</td>\n",
       "      <td>39세 이하</td>\n",
       "      <td>특별미션</td>\n",
       "      <td>특별미션</td>\n",
       "    </tr>\n",
       "    <tr>\n",
       "      <th>10</th>\n",
       "      <td>e_e000020</td>\n",
       "      <td>E03</td>\n",
       "      <td>e000020</td>\n",
       "      <td>28;21</td>\n",
       "      <td>2023-04-29</td>\n",
       "      <td>2023-05-01</td>\n",
       "      <td>기타</td>\n",
       "      <td>경기 방문/거주지 구분 없음/40세 이상/특별미션</td>\n",
       "      <td>28</td>\n",
       "      <td>[21, 2, 5]</td>\n",
       "      <td>경기 방문</td>\n",
       "      <td>거주지 구분 없음</td>\n",
       "      <td>40세 이상</td>\n",
       "      <td>특별미션</td>\n",
       "      <td>특별미션</td>\n",
       "    </tr>\n",
       "    <tr>\n",
       "      <th>11</th>\n",
       "      <td>e_e000021</td>\n",
       "      <td>E03</td>\n",
       "      <td>e000021</td>\n",
       "      <td>24</td>\n",
       "      <td>2023-04-29</td>\n",
       "      <td>2023-05-01</td>\n",
       "      <td>기타</td>\n",
       "      <td>경기 방문/거주지 구분 없음/40세 이상/특별미션</td>\n",
       "      <td>24</td>\n",
       "      <td>[24, 6, 21]</td>\n",
       "      <td>경기 방문</td>\n",
       "      <td>거주지 구분 없음</td>\n",
       "      <td>40세 이상</td>\n",
       "      <td>특별미션</td>\n",
       "      <td>특별미션</td>\n",
       "    </tr>\n",
       "    <tr>\n",
       "      <th>12</th>\n",
       "      <td>e_e000022</td>\n",
       "      <td>E03</td>\n",
       "      <td>e000022</td>\n",
       "      <td>22;25</td>\n",
       "      <td>2023-04-29</td>\n",
       "      <td>2023-04-30</td>\n",
       "      <td>기타</td>\n",
       "      <td>경기 방문/거주지 구분 없음/40세 이상/특별미션</td>\n",
       "      <td>22</td>\n",
       "      <td>[2, 3, 24]</td>\n",
       "      <td>경기 방문</td>\n",
       "      <td>거주지 구분 없음</td>\n",
       "      <td>40세 이상</td>\n",
       "      <td>특별미션</td>\n",
       "      <td>특별미션</td>\n",
       "    </tr>\n",
       "    <tr>\n",
       "      <th>14</th>\n",
       "      <td>e_e000025</td>\n",
       "      <td>E03</td>\n",
       "      <td>e000025</td>\n",
       "      <td>22</td>\n",
       "      <td>2023-04-30</td>\n",
       "      <td>2023-05-01</td>\n",
       "      <td>기타</td>\n",
       "      <td>경기 방문/거주지 구분 없음/40세 이상/특별미션</td>\n",
       "      <td>22</td>\n",
       "      <td>[22, 4, 26]</td>\n",
       "      <td>경기 방문</td>\n",
       "      <td>거주지 구분 없음</td>\n",
       "      <td>40세 이상</td>\n",
       "      <td>특별미션</td>\n",
       "      <td>특별미션</td>\n",
       "    </tr>\n",
       "    <tr>\n",
       "      <th>...</th>\n",
       "      <td>...</td>\n",
       "      <td>...</td>\n",
       "      <td>...</td>\n",
       "      <td>...</td>\n",
       "      <td>...</td>\n",
       "      <td>...</td>\n",
       "      <td>...</td>\n",
       "      <td>...</td>\n",
       "      <td>...</td>\n",
       "      <td>...</td>\n",
       "      <td>...</td>\n",
       "      <td>...</td>\n",
       "      <td>...</td>\n",
       "      <td>...</td>\n",
       "      <td>...</td>\n",
       "    </tr>\n",
       "    <tr>\n",
       "      <th>2540</th>\n",
       "      <td>e_e012976</td>\n",
       "      <td>E03</td>\n",
       "      <td>e012976</td>\n",
       "      <td>22;26;24;1;4;6</td>\n",
       "      <td>2023-09-16</td>\n",
       "      <td>2023-09-17</td>\n",
       "      <td>대중교통</td>\n",
       "      <td>경기 방문/거주지 구분 없음/39세 이하/특별미션</td>\n",
       "      <td>22</td>\n",
       "      <td>[1, 26, 4]</td>\n",
       "      <td>경기 방문</td>\n",
       "      <td>거주지 구분 없음</td>\n",
       "      <td>39세 이하</td>\n",
       "      <td>특별미션</td>\n",
       "      <td>특별미션</td>\n",
       "    </tr>\n",
       "    <tr>\n",
       "      <th>2548</th>\n",
       "      <td>f_f000038</td>\n",
       "      <td>E03</td>\n",
       "      <td>f000038</td>\n",
       "      <td>10;28</td>\n",
       "      <td>2023-04-29</td>\n",
       "      <td>2023-05-02</td>\n",
       "      <td>기타</td>\n",
       "      <td>경기 방문/거주지 구분 없음/40세 이상/특별미션</td>\n",
       "      <td>10</td>\n",
       "      <td>[7, 4, 1]</td>\n",
       "      <td>경기 방문</td>\n",
       "      <td>거주지 구분 없음</td>\n",
       "      <td>40세 이상</td>\n",
       "      <td>특별미션</td>\n",
       "      <td>특별미션</td>\n",
       "    </tr>\n",
       "    <tr>\n",
       "      <th>2549</th>\n",
       "      <td>f_f000041</td>\n",
       "      <td>E03</td>\n",
       "      <td>f000041</td>\n",
       "      <td>2;21;26</td>\n",
       "      <td>2023-04-28</td>\n",
       "      <td>2023-04-30</td>\n",
       "      <td>기타</td>\n",
       "      <td>경기 방문/거주지 구분 없음/39세 이하/특별미션</td>\n",
       "      <td>2</td>\n",
       "      <td>[23, 21, 26]</td>\n",
       "      <td>경기 방문</td>\n",
       "      <td>거주지 구분 없음</td>\n",
       "      <td>39세 이하</td>\n",
       "      <td>특별미션</td>\n",
       "      <td>특별미션</td>\n",
       "    </tr>\n",
       "    <tr>\n",
       "      <th>2552</th>\n",
       "      <td>f_f006366</td>\n",
       "      <td>E03</td>\n",
       "      <td>f006366</td>\n",
       "      <td>2;24;4;5;9</td>\n",
       "      <td>2023-08-18</td>\n",
       "      <td>2023-08-19</td>\n",
       "      <td>기타</td>\n",
       "      <td>경기 방문/거주지 구분 없음/40세 이상/특별미션</td>\n",
       "      <td>2</td>\n",
       "      <td>[21, 22, 24]</td>\n",
       "      <td>경기 방문</td>\n",
       "      <td>거주지 구분 없음</td>\n",
       "      <td>40세 이상</td>\n",
       "      <td>특별미션</td>\n",
       "      <td>특별미션</td>\n",
       "    </tr>\n",
       "    <tr>\n",
       "      <th>2558</th>\n",
       "      <td>g_g010556</td>\n",
       "      <td>E03</td>\n",
       "      <td>g010556</td>\n",
       "      <td>22</td>\n",
       "      <td>2023-09-02</td>\n",
       "      <td>2023-09-03</td>\n",
       "      <td>자가용</td>\n",
       "      <td>경기 방문/거주지 구분 없음/39세 이하/특별미션</td>\n",
       "      <td>22</td>\n",
       "      <td>[22, 5, 26]</td>\n",
       "      <td>경기 방문</td>\n",
       "      <td>거주지 구분 없음</td>\n",
       "      <td>39세 이하</td>\n",
       "      <td>특별미션</td>\n",
       "      <td>특별미션</td>\n",
       "    </tr>\n",
       "  </tbody>\n",
       "</table>\n",
       "<p>663 rows × 15 columns</p>\n",
       "</div>"
      ],
      "text/plain": [
       "      TRAVEL_ID TRAVEL_NM TRAVELER_ID  TRAVEL_PURPOSE TRAVEL_START_YMD  \\\n",
       "1     e_e000006       E03     e000006              21       2023-04-30   \n",
       "10    e_e000020       E03     e000020           28;21       2023-04-29   \n",
       "11    e_e000021       E03     e000021              24       2023-04-29   \n",
       "12    e_e000022       E03     e000022           22;25       2023-04-29   \n",
       "14    e_e000025       E03     e000025              22       2023-04-30   \n",
       "...         ...       ...         ...             ...              ...   \n",
       "2540  e_e012976       E03     e012976  22;26;24;1;4;6       2023-09-16   \n",
       "2548  f_f000038       E03     f000038           10;28       2023-04-29   \n",
       "2549  f_f000041       E03     f000041         2;21;26       2023-04-28   \n",
       "2552  f_f006366       E03     f006366      2;24;4;5;9       2023-08-18   \n",
       "2558  g_g010556       E03     g010556              22       2023-09-02   \n",
       "\n",
       "     TRAVEL_END_YMD MVMN_NM               TRAVEL_PERSONA TRAVEL_MISSION  \\\n",
       "1        2023-05-02      기타  경기 방문/거주지 구분 없음/39세 이하/특별미션             21   \n",
       "10       2023-05-01      기타  경기 방문/거주지 구분 없음/40세 이상/특별미션             28   \n",
       "11       2023-05-01      기타  경기 방문/거주지 구분 없음/40세 이상/특별미션             24   \n",
       "12       2023-04-30      기타  경기 방문/거주지 구분 없음/40세 이상/특별미션             22   \n",
       "14       2023-05-01      기타  경기 방문/거주지 구분 없음/40세 이상/특별미션             22   \n",
       "...             ...     ...                          ...            ...   \n",
       "2540     2023-09-17    대중교통  경기 방문/거주지 구분 없음/39세 이하/특별미션             22   \n",
       "2548     2023-05-02      기타  경기 방문/거주지 구분 없음/40세 이상/특별미션             10   \n",
       "2549     2023-04-30      기타  경기 방문/거주지 구분 없음/39세 이하/특별미션              2   \n",
       "2552     2023-08-19      기타  경기 방문/거주지 구분 없음/40세 이상/특별미션              2   \n",
       "2558     2023-09-03     자가용  경기 방문/거주지 구분 없음/39세 이하/특별미션             22   \n",
       "\n",
       "     TRAVEL_MISSION_CHECK  where    country     age whowith mission  \n",
       "1            [21, 10, 27]  경기 방문  거주지 구분 없음  39세 이하    특별미션    특별미션  \n",
       "10             [21, 2, 5]  경기 방문  거주지 구분 없음  40세 이상    특별미션    특별미션  \n",
       "11            [24, 6, 21]  경기 방문  거주지 구분 없음  40세 이상    특별미션    특별미션  \n",
       "12             [2, 3, 24]  경기 방문  거주지 구분 없음  40세 이상    특별미션    특별미션  \n",
       "14            [22, 4, 26]  경기 방문  거주지 구분 없음  40세 이상    특별미션    특별미션  \n",
       "...                   ...    ...        ...     ...     ...     ...  \n",
       "2540           [1, 26, 4]  경기 방문  거주지 구분 없음  39세 이하    특별미션    특별미션  \n",
       "2548            [7, 4, 1]  경기 방문  거주지 구분 없음  40세 이상    특별미션    특별미션  \n",
       "2549         [23, 21, 26]  경기 방문  거주지 구분 없음  39세 이하    특별미션    특별미션  \n",
       "2552         [21, 22, 24]  경기 방문  거주지 구분 없음  40세 이상    특별미션    특별미션  \n",
       "2558          [22, 5, 26]  경기 방문  거주지 구분 없음  39세 이하    특별미션    특별미션  \n",
       "\n",
       "[663 rows x 15 columns]"
      ]
     },
     "execution_count": 45,
     "metadata": {},
     "output_type": "execute_result"
    }
   ],
   "source": [
    "df[df['mission'] == '특별미션']"
   ]
  },
  {
   "cell_type": "markdown",
   "metadata": {},
   "source": [
    "### Travel_mission_check 전처리\n",
    "\n",
    "- 무조건 3개씩 고름"
   ]
  },
  {
   "cell_type": "code",
   "execution_count": 16,
   "metadata": {},
   "outputs": [
    {
     "data": {
      "text/plain": [
       "TRAVEL_MISSION_CHECK\n",
       "3    2560\n",
       "Name: count, dtype: int64"
      ]
     },
     "execution_count": 16,
     "metadata": {},
     "output_type": "execute_result"
    }
   ],
   "source": [
    "df['TRAVEL_MISSION_CHECK'].apply(lambda x: len(x.split(';'))).value_counts()"
   ]
  },
  {
   "cell_type": "code",
   "execution_count": 15,
   "metadata": {},
   "outputs": [
    {
     "data": {
      "text/plain": [
       "TRAVEL_MISSION_CHECK\n",
       "[1, 22, 26]    33\n",
       "[6, 1, 4]      29\n",
       "[6, 22, 1]     28\n",
       "[6, 1, 22]     21\n",
       "[6, 22, 26]    21\n",
       "               ..\n",
       "[2, 7, 6]       1\n",
       "[8, 24, 1]      1\n",
       "[24, 21, 4]     1\n",
       "[23, 1, 6]      1\n",
       "[22, 5, 26]     1\n",
       "Name: count, Length: 1236, dtype: int64"
      ]
     },
     "execution_count": 15,
     "metadata": {},
     "output_type": "execute_result"
    }
   ],
   "source": [
    "df['TRAVEL_MISSION_CHECK'].apply(lambda x: x.split(';')).value_counts()"
   ]
  },
  {
   "cell_type": "code",
   "execution_count": 36,
   "metadata": {},
   "outputs": [],
   "source": [
    "df['TRAVEL_MISSION'] = df['TRAVEL_MISSION'].apply(lambda x: x.split(';')[0]) # Mission은 한개만"
   ]
  },
  {
   "cell_type": "code",
   "execution_count": 17,
   "metadata": {},
   "outputs": [],
   "source": [
    "df['TRAVEL_MISSION_CHECK'] = df['TRAVEL_MISSION_CHECK'].apply(lambda x: x.split(';'))"
   ]
  },
  {
   "cell_type": "code",
   "execution_count": 18,
   "metadata": {},
   "outputs": [],
   "source": [
    "from sklearn.preprocessing import MultiLabelBinarizer\n",
    "\n",
    "mlb = MultiLabelBinarizer()\n",
    "mission_matrix = mlb.fit_transform(df['TRAVEL_MISSION_CHECK'])"
   ]
  },
  {
   "cell_type": "code",
   "execution_count": 25,
   "metadata": {},
   "outputs": [
    {
     "name": "stdout",
     "output_type": "stream",
     "text": [
      "21\n"
     ]
    },
    {
     "data": {
      "text/plain": [
       "array([0, 0, 1, 0, 0, 0, 0, 0, 0, 0, 0, 0, 0, 0, 1, 1, 0, 0, 0, 0, 0])"
      ]
     },
     "execution_count": 25,
     "metadata": {},
     "output_type": "execute_result"
    }
   ],
   "source": [
    "print(len(mission_matrix[0]))\n",
    "mission_matrix[0]"
   ]
  },
  {
   "cell_type": "code",
   "execution_count": 38,
   "metadata": {},
   "outputs": [],
   "source": [
    "import numpy as np\n",
    "from sklearn.preprocessing import OneHotEncoder, MultiLabelBinarizer\n",
    "\n",
    "# 주요 미션: One-hot\n",
    "onehot = OneHotEncoder(sparse_output=False, handle_unknown='ignore')\n",
    "mission_main_encoded = onehot.fit_transform(df[['TRAVEL_MISSION']])\n",
    "\n",
    "# 서브 미션: Multi-hot\n",
    "mlb = MultiLabelBinarizer()\n",
    "mission_sub_encoded = mlb.fit_transform(df['TRAVEL_MISSION_CHECK'])\n",
    "\n",
    "# 병합\n",
    "mission_features = np.hstack([mission_main_encoded, mission_sub_encoded])"
   ]
  },
  {
   "cell_type": "code",
   "execution_count": 44,
   "metadata": {},
   "outputs": [
    {
     "data": {
      "text/plain": [
       "(2560, 42)"
      ]
     },
     "execution_count": 44,
     "metadata": {},
     "output_type": "execute_result"
    }
   ],
   "source": [
    "len(mission_features), len(mission_features[0])"
   ]
  }
 ],
 "metadata": {
  "kernelspec": {
   "display_name": "llm",
   "language": "python",
   "name": "python3"
  },
  "language_info": {
   "codemirror_mode": {
    "name": "ipython",
    "version": 3
   },
   "file_extension": ".py",
   "mimetype": "text/x-python",
   "name": "python",
   "nbconvert_exporter": "python",
   "pygments_lexer": "ipython3",
   "version": "3.10.13"
  }
 },
 "nbformat": 4,
 "nbformat_minor": 2
}
