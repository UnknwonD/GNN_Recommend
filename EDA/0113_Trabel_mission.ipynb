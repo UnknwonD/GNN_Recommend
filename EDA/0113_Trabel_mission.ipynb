{
 "cells": [
  {
   "cell_type": "code",
   "execution_count": 11,
   "metadata": {},
   "outputs": [
    {
     "name": "stdout",
     "output_type": "stream",
     "text": [
      "(2560, 14)\n"
     ]
    },
    {
     "data": {
      "text/html": [
       "<div>\n",
       "<style scoped>\n",
       "    .dataframe tbody tr th:only-of-type {\n",
       "        vertical-align: middle;\n",
       "    }\n",
       "\n",
       "    .dataframe tbody tr th {\n",
       "        vertical-align: top;\n",
       "    }\n",
       "\n",
       "    .dataframe thead th {\n",
       "        text-align: right;\n",
       "    }\n",
       "</style>\n",
       "<table border=\"1\" class=\"dataframe\">\n",
       "  <thead>\n",
       "    <tr style=\"text-align: right;\">\n",
       "      <th></th>\n",
       "      <th>0</th>\n",
       "      <th>1</th>\n",
       "      <th>2</th>\n",
       "    </tr>\n",
       "  </thead>\n",
       "  <tbody>\n",
       "    <tr>\n",
       "      <th>TRAVEL_ID</th>\n",
       "      <td>e_e000004</td>\n",
       "      <td>e_e000006</td>\n",
       "      <td>e_e000009</td>\n",
       "    </tr>\n",
       "    <tr>\n",
       "      <th>TRAVEL_NM</th>\n",
       "      <td>E03</td>\n",
       "      <td>E03</td>\n",
       "      <td>E03</td>\n",
       "    </tr>\n",
       "    <tr>\n",
       "      <th>TRAVELER_ID</th>\n",
       "      <td>e000004</td>\n",
       "      <td>e000006</td>\n",
       "      <td>e000009</td>\n",
       "    </tr>\n",
       "    <tr>\n",
       "      <th>TRAVEL_PURPOSE</th>\n",
       "      <td>3</td>\n",
       "      <td>21</td>\n",
       "      <td>2;4</td>\n",
       "    </tr>\n",
       "    <tr>\n",
       "      <th>TRAVEL_START_YMD</th>\n",
       "      <td>2023-04-30</td>\n",
       "      <td>2023-04-30</td>\n",
       "      <td>2023-04-29</td>\n",
       "    </tr>\n",
       "    <tr>\n",
       "      <th>TRAVEL_END_YMD</th>\n",
       "      <td>2023-05-01</td>\n",
       "      <td>2023-05-02</td>\n",
       "      <td>2023-05-01</td>\n",
       "    </tr>\n",
       "    <tr>\n",
       "      <th>MVMN_NM</th>\n",
       "      <td>NaN</td>\n",
       "      <td>NaN</td>\n",
       "      <td>NaN</td>\n",
       "    </tr>\n",
       "    <tr>\n",
       "      <th>TRAVEL_PERSONA</th>\n",
       "      <td>서울 외 수도권 방문/수도권 거주/40세 이상/자녀동반/일반미션</td>\n",
       "      <td>경기 방문/거주지 구분 없음/39세 이하/특별미션</td>\n",
       "      <td>서울 외 수도권 방문/수도권 거주/39세 이하/커플/일반미션</td>\n",
       "    </tr>\n",
       "    <tr>\n",
       "      <th>TRAVEL_MISSION</th>\n",
       "      <td>3</td>\n",
       "      <td>21</td>\n",
       "      <td>2;4</td>\n",
       "    </tr>\n",
       "    <tr>\n",
       "      <th>TRAVEL_MISSION_CHECK</th>\n",
       "      <td>3;4;11</td>\n",
       "      <td>21;10;27</td>\n",
       "      <td>22;1;7</td>\n",
       "    </tr>\n",
       "    <tr>\n",
       "      <th>PRE_COST</th>\n",
       "      <td>9500</td>\n",
       "      <td>0</td>\n",
       "      <td>0</td>\n",
       "    </tr>\n",
       "    <tr>\n",
       "      <th>LODGOUT_COST</th>\n",
       "      <td>9500</td>\n",
       "      <td>0</td>\n",
       "      <td>0</td>\n",
       "    </tr>\n",
       "    <tr>\n",
       "      <th>ACTIVITY_COST</th>\n",
       "      <td>0</td>\n",
       "      <td>58500</td>\n",
       "      <td>319340</td>\n",
       "    </tr>\n",
       "    <tr>\n",
       "      <th>TOTAL_COST</th>\n",
       "      <td>19000</td>\n",
       "      <td>58500</td>\n",
       "      <td>319340</td>\n",
       "    </tr>\n",
       "  </tbody>\n",
       "</table>\n",
       "</div>"
      ],
      "text/plain": [
       "                                                        0  \\\n",
       "TRAVEL_ID                                       e_e000004   \n",
       "TRAVEL_NM                                             E03   \n",
       "TRAVELER_ID                                       e000004   \n",
       "TRAVEL_PURPOSE                                          3   \n",
       "TRAVEL_START_YMD                               2023-04-30   \n",
       "TRAVEL_END_YMD                                 2023-05-01   \n",
       "MVMN_NM                                               NaN   \n",
       "TRAVEL_PERSONA        서울 외 수도권 방문/수도권 거주/40세 이상/자녀동반/일반미션   \n",
       "TRAVEL_MISSION                                          3   \n",
       "TRAVEL_MISSION_CHECK                               3;4;11   \n",
       "PRE_COST                                             9500   \n",
       "LODGOUT_COST                                         9500   \n",
       "ACTIVITY_COST                                           0   \n",
       "TOTAL_COST                                          19000   \n",
       "\n",
       "                                                1  \\\n",
       "TRAVEL_ID                               e_e000006   \n",
       "TRAVEL_NM                                     E03   \n",
       "TRAVELER_ID                               e000006   \n",
       "TRAVEL_PURPOSE                                 21   \n",
       "TRAVEL_START_YMD                       2023-04-30   \n",
       "TRAVEL_END_YMD                         2023-05-02   \n",
       "MVMN_NM                                       NaN   \n",
       "TRAVEL_PERSONA        경기 방문/거주지 구분 없음/39세 이하/특별미션   \n",
       "TRAVEL_MISSION                                 21   \n",
       "TRAVEL_MISSION_CHECK                     21;10;27   \n",
       "PRE_COST                                        0   \n",
       "LODGOUT_COST                                    0   \n",
       "ACTIVITY_COST                               58500   \n",
       "TOTAL_COST                                  58500   \n",
       "\n",
       "                                                      2  \n",
       "TRAVEL_ID                                     e_e000009  \n",
       "TRAVEL_NM                                           E03  \n",
       "TRAVELER_ID                                     e000009  \n",
       "TRAVEL_PURPOSE                                      2;4  \n",
       "TRAVEL_START_YMD                             2023-04-29  \n",
       "TRAVEL_END_YMD                               2023-05-01  \n",
       "MVMN_NM                                             NaN  \n",
       "TRAVEL_PERSONA        서울 외 수도권 방문/수도권 거주/39세 이하/커플/일반미션  \n",
       "TRAVEL_MISSION                                      2;4  \n",
       "TRAVEL_MISSION_CHECK                             22;1;7  \n",
       "PRE_COST                                              0  \n",
       "LODGOUT_COST                                          0  \n",
       "ACTIVITY_COST                                    319340  \n",
       "TOTAL_COST                                       319340  "
      ]
     },
     "execution_count": 11,
     "metadata": {},
     "output_type": "execute_result"
    }
   ],
   "source": [
    "import pandas as pd\n",
    "\n",
    "data_path = '../data/VL_csv/tn_travel_여행_E_COST.csv'\n",
    "\n",
    "df = pd.read_csv(data_path)\n",
    "print(df.shape)\n",
    "\n",
    "df.head(3).T"
   ]
  },
  {
   "cell_type": "markdown",
   "metadata": {},
   "source": [
    "# 특별미션, 일반미션 구분확인"
   ]
  },
  {
   "cell_type": "code",
   "execution_count": 22,
   "metadata": {},
   "outputs": [
    {
     "data": {
      "text/html": [
       "<div>\n",
       "<style scoped>\n",
       "    .dataframe tbody tr th:only-of-type {\n",
       "        vertical-align: middle;\n",
       "    }\n",
       "\n",
       "    .dataframe tbody tr th {\n",
       "        vertical-align: top;\n",
       "    }\n",
       "\n",
       "    .dataframe thead th {\n",
       "        text-align: right;\n",
       "    }\n",
       "</style>\n",
       "<table border=\"1\" class=\"dataframe\">\n",
       "  <thead>\n",
       "    <tr style=\"text-align: right;\">\n",
       "      <th></th>\n",
       "      <th>TRAVEL_ID</th>\n",
       "      <th>TRAVEL_NM</th>\n",
       "      <th>TRAVELER_ID</th>\n",
       "      <th>TRAVEL_PURPOSE</th>\n",
       "      <th>TRAVEL_START_YMD</th>\n",
       "      <th>TRAVEL_END_YMD</th>\n",
       "      <th>MVMN_NM</th>\n",
       "      <th>TRAVEL_PERSONA</th>\n",
       "      <th>TRAVEL_MISSION</th>\n",
       "      <th>TRAVEL_MISSION_CHECK</th>\n",
       "      <th>PRE_COST</th>\n",
       "      <th>LODGOUT_COST</th>\n",
       "      <th>ACTIVITY_COST</th>\n",
       "      <th>TOTAL_COST</th>\n",
       "    </tr>\n",
       "  </thead>\n",
       "  <tbody>\n",
       "  </tbody>\n",
       "</table>\n",
       "</div>"
      ],
      "text/plain": [
       "Empty DataFrame\n",
       "Columns: [TRAVEL_ID, TRAVEL_NM, TRAVELER_ID, TRAVEL_PURPOSE, TRAVEL_START_YMD, TRAVEL_END_YMD, MVMN_NM, TRAVEL_PERSONA, TRAVEL_MISSION, TRAVEL_MISSION_CHECK, PRE_COST, LODGOUT_COST, ACTIVITY_COST, TOTAL_COST]\n",
       "Index: []"
      ]
     },
     "execution_count": 22,
     "metadata": {},
     "output_type": "execute_result"
    }
   ],
   "source": [
    "df[df['TRAVEL_PERSONA'].str.contains('일반미션', na=False) & df['TRAVEL_PERSONA'].str.contains('거주지 구분 없음', na=False)]"
   ]
  },
  {
   "cell_type": "code",
   "execution_count": 16,
   "metadata": {},
   "outputs": [
    {
     "data": {
      "text/html": [
       "<div>\n",
       "<style scoped>\n",
       "    .dataframe tbody tr th:only-of-type {\n",
       "        vertical-align: middle;\n",
       "    }\n",
       "\n",
       "    .dataframe tbody tr th {\n",
       "        vertical-align: top;\n",
       "    }\n",
       "\n",
       "    .dataframe thead th {\n",
       "        text-align: right;\n",
       "    }\n",
       "</style>\n",
       "<table border=\"1\" class=\"dataframe\">\n",
       "  <thead>\n",
       "    <tr style=\"text-align: right;\">\n",
       "      <th></th>\n",
       "      <th>TRAVEL_ID</th>\n",
       "      <th>TRAVEL_NM</th>\n",
       "      <th>TRAVELER_ID</th>\n",
       "      <th>TRAVEL_PURPOSE</th>\n",
       "      <th>TRAVEL_START_YMD</th>\n",
       "      <th>TRAVEL_END_YMD</th>\n",
       "      <th>MVMN_NM</th>\n",
       "      <th>TRAVEL_PERSONA</th>\n",
       "      <th>TRAVEL_MISSION</th>\n",
       "      <th>TRAVEL_MISSION_CHECK</th>\n",
       "      <th>PRE_COST</th>\n",
       "      <th>LODGOUT_COST</th>\n",
       "      <th>ACTIVITY_COST</th>\n",
       "      <th>TOTAL_COST</th>\n",
       "    </tr>\n",
       "  </thead>\n",
       "  <tbody>\n",
       "  </tbody>\n",
       "</table>\n",
       "</div>"
      ],
      "text/plain": [
       "Empty DataFrame\n",
       "Columns: [TRAVEL_ID, TRAVEL_NM, TRAVELER_ID, TRAVEL_PURPOSE, TRAVEL_START_YMD, TRAVEL_END_YMD, MVMN_NM, TRAVEL_PERSONA, TRAVEL_MISSION, TRAVEL_MISSION_CHECK, PRE_COST, LODGOUT_COST, ACTIVITY_COST, TOTAL_COST]\n",
       "Index: []"
      ]
     },
     "execution_count": 16,
     "metadata": {},
     "output_type": "execute_result"
    }
   ],
   "source": [
    "df[df['TRAVEL_PERSONA'].str.contains('특별미션', na=False) & ~df['TRAVEL_PERSONA'].str.contains('거주지 구분 없음', na=False)]"
   ]
  },
  {
   "cell_type": "markdown",
   "metadata": {},
   "source": [
    "- 일반미션, 특별미션은 거주지 단위로 구분이 가능함"
   ]
  },
  {
   "cell_type": "code",
   "execution_count": 28,
   "metadata": {},
   "outputs": [
    {
     "data": {
      "text/plain": [
       "0                      [3]\n",
       "2                   [2, 4]\n",
       "3                   [3, 6]\n",
       "4                  [1, 21]\n",
       "5           [1, 22, 24, 6]\n",
       "               ...        \n",
       "2554                   [4]\n",
       "2555    [12, 23, 26, 3, 9]\n",
       "2556                [4, 9]\n",
       "2557                   [1]\n",
       "2559     [10, 2, 24, 5, 6]\n",
       "Name: TRAVEL_PURPOSE, Length: 1897, dtype: object"
      ]
     },
     "execution_count": 28,
     "metadata": {},
     "output_type": "execute_result"
    }
   ],
   "source": [
    "df[df['TRAVEL_PERSONA'].str.contains('일반미션', na=False)]['TRAVEL_PURPOSE'].str.split(';').apply(lambda x: list(map(int, x)))"
   ]
  },
  {
   "cell_type": "code",
   "execution_count": 29,
   "metadata": {},
   "outputs": [
    {
     "data": {
      "text/plain": [
       "1                        [21]\n",
       "10                   [28, 21]\n",
       "11                       [24]\n",
       "12                   [22, 25]\n",
       "14                       [22]\n",
       "                ...          \n",
       "2540    [22, 26, 24, 1, 4, 6]\n",
       "2548                 [10, 28]\n",
       "2549              [2, 21, 26]\n",
       "2552         [2, 24, 4, 5, 9]\n",
       "2558                     [22]\n",
       "Name: TRAVEL_PURPOSE, Length: 663, dtype: object"
      ]
     },
     "execution_count": 29,
     "metadata": {},
     "output_type": "execute_result"
    }
   ],
   "source": [
    "df[df['TRAVEL_PERSONA'].str.contains('특별미션', na=False)]['TRAVEL_PURPOSE'].str.split(';').apply(lambda x: list(map(int, x)))"
   ]
  }
 ],
 "metadata": {
  "kernelspec": {
   "display_name": "llm",
   "language": "python",
   "name": "python3"
  },
  "language_info": {
   "codemirror_mode": {
    "name": "ipython",
    "version": 3
   },
   "file_extension": ".py",
   "mimetype": "text/x-python",
   "name": "python",
   "nbconvert_exporter": "python",
   "pygments_lexer": "ipython3",
   "version": "3.10.13"
  }
 },
 "nbformat": 4,
 "nbformat_minor": 2
}
